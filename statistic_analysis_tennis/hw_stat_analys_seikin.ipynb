{
 "cells": [
  {
   "cell_type": "markdown",
   "metadata": {},
   "source": [
    "<a id='top'></a>\n",
    "![TG profile][def]\n",
    "\n",
    "[def]: https://img.shields.io/badge/t.me/seikin__alexey-blue?logo=telegram&logoColor=yellow\n",
    "<p align=\"center\">\n",
    "  <img src=\"https://img.shields.io/badge/python-3670A0?style=for-the-badge&logo=python&logoColor=ffdd54\" style=\"border-radius: 5px;\" />\n",
    "  <img src=\"https://img.shields.io/badge/pandas-%23150458.svg?style=for-the-badge&logo=pandas&logoColor=white\" style=\"border-radius: 5px;\" />\n",
    "  <img src=\"https://img.shields.io/badge/scikit--learn-%23F7931E.svg?style=for-the-badge&logo=scikit-learn&logoColor=white\" style=\"border-radius: 5px;\" />\n",
    "</p>\n",
    "\n",
    "<h1 align=\"center\">Проверка статистических гипотез при анализе тениссных партий</h1>\n",
    "<p align=\"center\">В этом проекте на практике рассматривается применение статистических тестов в анализе партий по теннису.\n",
    "Цель проекта - набрать максимальное количество баллов (20 баллов) по критериям заказчика.</p>\n",
    "\n",
    "Подробное описание смотри в readme.md"
   ]
  },
  {
   "cell_type": "markdown",
   "metadata": {},
   "source": [
    "## План работы по каждой задаче\n",
    "- Шаг 1: Подготовка данных\n",
    "    - Загрузка данных\n",
    "    - Предобработка датасетов (Пропуски и явные дубликаты)\n",
    "  \n",
    "- Шаг 2: Формулирование гипотез\n",
    "    - Нулевая гипотеза\n",
    "    - Альтернативная гипотеза\n",
    "\n",
    "- Шаг 3: Определение характеристик выборки\n",
    "    - Размер, среднее, дисперсия и тд\n",
    "\n",
    "- Шаг 4: Определение подходящих тестов\n",
    "    - Обоснование выбора теста\n",
    "    - Проведение теста\n",
    "    - Принятие или отклонение нулевой гипотезы\n",
    "\n",
    "- Шаг 5: Формулирование выводов\n"
   ]
  },
  {
   "cell_type": "markdown",
   "metadata": {},
   "source": [
    "## Импорты"
   ]
  },
  {
   "cell_type": "code",
   "execution_count": 1,
   "metadata": {},
   "outputs": [
    {
     "name": "stderr",
     "output_type": "stream",
     "text": [
      "C:\\Users\\user\\AppData\\Local\\Temp\\ipykernel_6856\\2616906813.py:9: DeprecationWarning: \n",
      "Pyarrow will become a required dependency of pandas in the next major release of pandas (pandas 3.0),\n",
      "(to allow more performant data types, such as the Arrow string type, and better interoperability with other libraries)\n",
      "but was not found to be installed on your system.\n",
      "If this would cause problems for you,\n",
      "please provide us feedback at https://github.com/pandas-dev/pandas/issues/54466\n",
      "        \n",
      "  import pandas as pd\n"
     ]
    }
   ],
   "source": [
    "# Импорты библиотек для проекта\n",
    "import requests\n",
    "from bs4 import BeautifulSoup\n",
    "import re\n",
    "\n",
    "import os\n",
    "import glob\n",
    "\n",
    "import pandas as pd\n",
    "import seaborn as sns\n",
    "import numpy as np\n",
    "import matplotlib.pyplot as plt\n",
    "from scipy import stats # библиотека для расчетов\n",
    "import statsmodels.api as sm # для qq plot\n",
    "\n",
    "from scipy.stats import shapiro # тест на нормальность распределения Шапиро\n",
    "from scipy.stats import normaltest # тест на нормальность распределения Деагостино\n",
    "from scipy.stats import mannwhitneyu # тест Манна-Уитни непараметрический тест\n",
    "from scipy.stats import ttest_ind # t-тест\n",
    "from statsmodels.stats.weightstats import ztest # z-тест\n",
    "from scipy.stats import kruskal \n",
    "from scipy import stats # библиотека для расчетов\n",
    "from statsmodels.stats.proportion import proportions_ztest\n",
    "%matplotlib inline\n",
    "\n",
    "import warnings\n",
    "warnings.filterwarnings('ignore')"
   ]
  },
  {
   "cell_type": "markdown",
   "metadata": {},
   "source": [
    "## Подготовка данных для всех задач"
   ]
  },
  {
   "cell_type": "code",
   "execution_count": 2,
   "metadata": {},
   "outputs": [
    {
     "name": "stdout",
     "output_type": "stream",
     "text": [
      "Downloaded github_data\\atp_matches_1968.csv\n",
      "Downloaded github_data\\atp_matches_1968.csv\n",
      "Downloaded github_data\\atp_matches_1969.csv\n",
      "Downloaded github_data\\atp_matches_1969.csv\n",
      "Downloaded github_data\\atp_matches_1970.csv\n",
      "Downloaded github_data\\atp_matches_1970.csv\n",
      "Downloaded github_data\\atp_matches_1971.csv\n",
      "Downloaded github_data\\atp_matches_1971.csv\n",
      "Downloaded github_data\\atp_matches_1972.csv\n",
      "Downloaded github_data\\atp_matches_1972.csv\n",
      "Downloaded github_data\\atp_matches_1973.csv\n",
      "Downloaded github_data\\atp_matches_1973.csv\n",
      "Downloaded github_data\\atp_matches_1974.csv\n",
      "Downloaded github_data\\atp_matches_1974.csv\n",
      "Downloaded github_data\\atp_matches_1975.csv\n",
      "Downloaded github_data\\atp_matches_1975.csv\n",
      "Downloaded github_data\\atp_matches_1976.csv\n",
      "Downloaded github_data\\atp_matches_1976.csv\n",
      "Downloaded github_data\\atp_matches_1977.csv\n",
      "Downloaded github_data\\atp_matches_1977.csv\n",
      "Downloaded github_data\\atp_matches_1978.csv\n",
      "Downloaded github_data\\atp_matches_1978.csv\n",
      "Downloaded github_data\\atp_matches_1979.csv\n",
      "Downloaded github_data\\atp_matches_1979.csv\n",
      "Downloaded github_data\\atp_matches_1980.csv\n",
      "Downloaded github_data\\atp_matches_1980.csv\n",
      "Downloaded github_data\\atp_matches_1981.csv\n",
      "Downloaded github_data\\atp_matches_1981.csv\n",
      "Downloaded github_data\\atp_matches_1982.csv\n",
      "Downloaded github_data\\atp_matches_1982.csv\n",
      "Downloaded github_data\\atp_matches_1983.csv\n",
      "Downloaded github_data\\atp_matches_1983.csv\n",
      "Downloaded github_data\\atp_matches_1984.csv\n",
      "Downloaded github_data\\atp_matches_1984.csv\n",
      "Downloaded github_data\\atp_matches_1985.csv\n",
      "Downloaded github_data\\atp_matches_1985.csv\n",
      "Downloaded github_data\\atp_matches_1986.csv\n",
      "Downloaded github_data\\atp_matches_1986.csv\n",
      "Downloaded github_data\\atp_matches_1987.csv\n",
      "Downloaded github_data\\atp_matches_1987.csv\n",
      "Downloaded github_data\\atp_matches_1988.csv\n",
      "Downloaded github_data\\atp_matches_1988.csv\n",
      "Downloaded github_data\\atp_matches_1989.csv\n",
      "Downloaded github_data\\atp_matches_1989.csv\n",
      "Downloaded github_data\\atp_matches_1990.csv\n",
      "Downloaded github_data\\atp_matches_1990.csv\n",
      "Downloaded github_data\\atp_matches_1991.csv\n",
      "Downloaded github_data\\atp_matches_1991.csv\n",
      "Downloaded github_data\\atp_matches_1992.csv\n",
      "Downloaded github_data\\atp_matches_1992.csv\n",
      "Downloaded github_data\\atp_matches_1993.csv\n",
      "Downloaded github_data\\atp_matches_1993.csv\n",
      "Downloaded github_data\\atp_matches_1994.csv\n",
      "Downloaded github_data\\atp_matches_1994.csv\n",
      "Downloaded github_data\\atp_matches_1995.csv\n",
      "Downloaded github_data\\atp_matches_1995.csv\n",
      "Downloaded github_data\\atp_matches_1996.csv\n",
      "Downloaded github_data\\atp_matches_1996.csv\n",
      "Downloaded github_data\\atp_matches_1997.csv\n",
      "Downloaded github_data\\atp_matches_1997.csv\n",
      "Downloaded github_data\\atp_matches_1998.csv\n",
      "Downloaded github_data\\atp_matches_1998.csv\n",
      "Downloaded github_data\\atp_matches_1999.csv\n",
      "Downloaded github_data\\atp_matches_1999.csv\n",
      "Downloaded github_data\\atp_matches_2000.csv\n",
      "Downloaded github_data\\atp_matches_2000.csv\n",
      "Downloaded github_data\\atp_matches_2001.csv\n",
      "Downloaded github_data\\atp_matches_2001.csv\n",
      "Downloaded github_data\\atp_matches_2002.csv\n",
      "Downloaded github_data\\atp_matches_2002.csv\n",
      "Downloaded github_data\\atp_matches_2003.csv\n",
      "Downloaded github_data\\atp_matches_2003.csv\n",
      "Downloaded github_data\\atp_matches_2004.csv\n",
      "Downloaded github_data\\atp_matches_2004.csv\n",
      "Downloaded github_data\\atp_matches_2005.csv\n",
      "Downloaded github_data\\atp_matches_2005.csv\n",
      "Downloaded github_data\\atp_matches_2006.csv\n",
      "Downloaded github_data\\atp_matches_2006.csv\n",
      "Downloaded github_data\\atp_matches_2007.csv\n",
      "Downloaded github_data\\atp_matches_2007.csv\n",
      "Downloaded github_data\\atp_matches_2008.csv\n",
      "Downloaded github_data\\atp_matches_2008.csv\n",
      "Downloaded github_data\\atp_matches_2009.csv\n",
      "Downloaded github_data\\atp_matches_2009.csv\n",
      "Downloaded github_data\\atp_matches_2010.csv\n",
      "Downloaded github_data\\atp_matches_2010.csv\n",
      "Downloaded github_data\\atp_matches_2011.csv\n",
      "Downloaded github_data\\atp_matches_2011.csv\n",
      "Downloaded github_data\\atp_matches_2012.csv\n",
      "Downloaded github_data\\atp_matches_2012.csv\n",
      "Downloaded github_data\\atp_matches_2013.csv\n",
      "Downloaded github_data\\atp_matches_2013.csv\n",
      "Downloaded github_data\\atp_matches_2014.csv\n",
      "Downloaded github_data\\atp_matches_2014.csv\n",
      "Downloaded github_data\\atp_matches_2015.csv\n",
      "Downloaded github_data\\atp_matches_2015.csv\n",
      "Downloaded github_data\\atp_matches_2016.csv\n",
      "Downloaded github_data\\atp_matches_2016.csv\n",
      "Downloaded github_data\\atp_matches_2017.csv\n",
      "Downloaded github_data\\atp_matches_2017.csv\n",
      "Downloaded github_data\\atp_matches_2018.csv\n",
      "Downloaded github_data\\atp_matches_2018.csv\n",
      "Downloaded github_data\\atp_matches_2019.csv\n",
      "Downloaded github_data\\atp_matches_2019.csv\n",
      "Downloaded github_data\\atp_matches_2020.csv\n",
      "Downloaded github_data\\atp_matches_2020.csv\n",
      "Downloaded github_data\\atp_matches_2021.csv\n",
      "Downloaded github_data\\atp_matches_2021.csv\n",
      "Downloaded github_data\\atp_matches_2022.csv\n",
      "Downloaded github_data\\atp_matches_2022.csv\n",
      "Downloaded github_data\\atp_matches_2023.csv\n",
      "Downloaded github_data\\atp_matches_2023.csv\n"
     ]
    }
   ],
   "source": [
    "# Загрузка файлов из репозитория GitHub в локальную папку\n",
    "\n",
    "# import requests\n",
    "# from bs4 import BeautifulSoup\n",
    "# import re\n",
    "# import os\n",
    "\n",
    "# URL репозитория\n",
    "repo_url = 'https://github.com/JeffSackmann/tennis_atp'\n",
    "\n",
    "# Папка, в которой находятся файлы\n",
    "folder_path = 'blob/master/'\n",
    "\n",
    "# Директория для сохранения файлов\n",
    "save_dir = 'github_data'\n",
    "\n",
    "# Создаем директорию, если она не существует\n",
    "if not os.path.exists(save_dir):\n",
    "    os.makedirs(save_dir)\n",
    "\n",
    "# Создаем сессию requests\n",
    "with requests.Session() as session:\n",
    "    # Получаем страницу репозитория с файлами\n",
    "    response = session.get(f'{repo_url}/{folder_path}')\n",
    "    if response.ok:\n",
    "        # Используем BeautifulSoup для парсинга HTML\n",
    "        soup = BeautifulSoup(response.text, 'html.parser')\n",
    "        \n",
    "        # Ищем все ссылки на csv файлы, которые соответствуют маске\n",
    "        regex = re.compile(r'atp_matches_\\d{4}\\.csv')\n",
    "        for a in soup.find_all('a', href=True):\n",
    "            if regex.match(a.text):\n",
    "                # Строим URL файла\n",
    "                file_url = f'https://github.com{a[\"href\"]}'\n",
    "                # Превращаем ссылку на просмотр в ссылку на скачивание\n",
    "                raw_url = file_url.replace('/blob/', '/raw/')\n",
    "                # Скачиваем файл\n",
    "                file_response = session.get(raw_url)\n",
    "                if file_response.ok:\n",
    "                    # Сохраняем содержимое файла\n",
    "                    file_name = os.path.join(save_dir, a.text)\n",
    "                    with open(file_name, 'wb') as file:\n",
    "                        file.write(file_response.content)\n",
    "                        print(f'Downloaded {file_name}')\n",
    "                else:\n",
    "                    print(f'Failed to download {a.text}')\n",
    "    else:\n",
    "        print('Failed to retrieve the repository page')"
   ]
  },
  {
   "cell_type": "code",
   "execution_count": 3,
   "metadata": {},
   "outputs": [],
   "source": [
    "# Сборка датасетов в датафрейм\n",
    "\n",
    "# Указываем путь к папке с данными\n",
    "folder_path = 'github_data'  # Укажи актуальный путь\n",
    "\n",
    "# Получаем список всех CSV файлов, соответствующих маске 'atp_matches_*.csv'\n",
    "csv_files = glob.glob(os.path.join(folder_path, 'atp_matches_*.csv'))\n",
    "\n",
    "# Читаем каждый CSV файл и добавляем его в список датафреймов\n",
    "df_list = [pd.read_csv(file) for file in csv_files]\n",
    "\n",
    "# Объединяем все датафреймы в один, игнорируя индексы и используя внешнее объединение\n",
    "combined_df = pd.concat(df_list, ignore_index=True, join='outer')\n",
    "\n",
    "# Извлекаем год из столбца tourney_id и преобразуем его в целочисленный тип\n",
    "combined_df['year'] = combined_df['tourney_id'].str.extract(r'(\\d{4})').astype(int)\n",
    "\n",
    "# Сохраняем объединенный датафрейм в файл 'full_data/combined_atp_matches.csv' без индексов\n",
    "combined_df.to_csv('full_data/combined_atp_matches.csv', index=False)"
   ]
  },
  {
   "cell_type": "code",
   "execution_count": 4,
   "metadata": {},
   "outputs": [],
   "source": [
    "combined_df = pd.read_csv('full_data/combined_atp_matches.csv')"
   ]
  },
  {
   "cell_type": "code",
   "execution_count": 5,
   "metadata": {},
   "outputs": [
    {
     "data": {
      "text/plain": [
       "(191920, 50)"
      ]
     },
     "execution_count": 5,
     "metadata": {},
     "output_type": "execute_result"
    }
   ],
   "source": [
    "combined_df.shape"
   ]
  },
  {
   "cell_type": "markdown",
   "metadata": {},
   "source": [
    "## Кастомные функции"
   ]
  },
  {
   "cell_type": "markdown",
   "metadata": {},
   "source": [
    "### Кастомные функции для предобработки"
   ]
  },
  {
   "cell_type": "code",
   "execution_count": 6,
   "metadata": {},
   "outputs": [],
   "source": [
    "def df_info(df):\n",
    "    \"\"\"\n",
    "    Функция для получения информации о датафрейме.\n",
    "\n",
    "    Args:\n",
    "        df (pandas.DataFrame): Входной датафрейм.\n",
    "\n",
    "    Returns:\n",
    "        None\n",
    "    \"\"\"\n",
    "    len_df = len(df)\n",
    "    count = 0\n",
    "    na_col_name = []\n",
    "    na_col_size = []\n",
    "    unique_list = []\n",
    "\n",
    "    for col in df.columns:\n",
    "        notnull = df[col].notna().sum()\n",
    "        if notnull < len_df:\n",
    "            count += 1\n",
    "        if df[col].isna().sum() > 0:\n",
    "            na_col_name.append(col)\n",
    "            col_size = df[col].isna().sum() / len(df) * 100\n",
    "            na_col_size.append(col_size)\n",
    "\n",
    "        unique_list.append(len(df[col].unique()))\n",
    "\n",
    "    pivot = pd.DataFrame(data=unique_list, index=df.columns, columns=['Уникальные значения'])\n",
    "\n",
    "    print(f'Количество записей: \\t {len_df}')\n",
    "    print(f'Количество столбцов: \\t {len(df.columns)}')\n",
    "    print(f'Явных дубликатов: \\t {df.duplicated().sum()}')\n",
    "    print(f'Пропуски присутствуют в {count} столбцах из {len(df.columns)}:')\n",
    "    display(pd.DataFrame(na_col_size, index=na_col_name, columns=['Пропущено %']).sort_values(by='Пропущено %', ascending=False))\n",
    "    print('Обобщенная информация:')\n",
    "    display(df.info(verbose=False))\n",
    "    print('Первые 3 строки:')\n",
    "    display(df.head(3))"
   ]
  },
  {
   "cell_type": "code",
   "execution_count": 7,
   "metadata": {},
   "outputs": [],
   "source": [
    "def low_information_features(df):\n",
    "    \"\"\"\n",
    "    Функция для определения неинформативных признаков в датафрейме.\n",
    "    \n",
    "    Признаки считаются неинформативными, если одно значение встречается более чем в 95%\n",
    "    случаев или если более 95% значений являются уникальными.\n",
    "    \n",
    "    Args:\n",
    "        df (pandas.DataFrame): Входной датафрейм.\n",
    "        \n",
    "    Returns:\n",
    "        Union[list, str]: Список неинформативных признаков или сообщение об их отсутствии.\n",
    "    \"\"\"\n",
    "    low_information_cols = []  # инициализация списка для неинформативных признаков\n",
    "\n",
    "    for col in df.columns:  # цикл по всем столбцам\n",
    "        top_freq = df[col].value_counts(normalize=True).max()  # наибольшая относительная частота в признаке\n",
    "        nunique_ratio = df[col].nunique() / df[col].count()  # доля уникальных значений от размера признака\n",
    "\n",
    "        # сравниваем наибольшую частоту с порогом 95%\n",
    "        if top_freq > 0.95:\n",
    "            low_information_cols.append(col)  # добавляем столбец в список\n",
    "            # выводим информацию о признаке\n",
    "            print(f'{col}: {round(top_freq*100, 2)}% одинаковых значений')\n",
    "\n",
    "        # сравниваем долю уникальных значений с порогом 95%\n",
    "        if nunique_ratio > 0.95:\n",
    "            low_information_cols.append(col)  # добавляем столбец в список\n",
    "            # выводим информацию о признаке\n",
    "            print(f'{col}: {round(nunique_ratio*100, 2)}% уникальных значений')\n",
    "\n",
    "    if not low_information_cols:\n",
    "        return \"Нет неинформативных признаков\"\n",
    "    else:\n",
    "        return low_information_cols  # возвращаем список неинформативных признаков"
   ]
  },
  {
   "cell_type": "code",
   "execution_count": 8,
   "metadata": {},
   "outputs": [],
   "source": [
    "def plot_missing_values(df):\n",
    "    \"\"\"\n",
    "    Функция для построения столбчатой диаграммы, отображающей процент пропущенных значений в каждом столбце датафрейма.\n",
    "\n",
    "    Args:\n",
    "        df (pandas.DataFrame): Входной датафрейм.\n",
    "\n",
    "    Returns:\n",
    "        None\n",
    "    \"\"\"\n",
    "    # Вычисление процента пропущенных значений\n",
    "    nans = 100 * df.isnull().mean().sort_values(ascending=False)[df.isnull().mean().sort_values(ascending=False) > 0]\n",
    "\n",
    "    # Построение столбчатой диаграммы\n",
    "    nans.plot(\n",
    "        kind='bar', \n",
    "        logy=False,\n",
    "        figsize=(10,5),\n",
    "        title='Соотношение пропусков, %'\n",
    "    )"
   ]
  },
  {
   "cell_type": "markdown",
   "metadata": {},
   "source": [
    "### Кастомные функции для графического описаниея распределений признака для каждой выборки"
   ]
  },
  {
   "cell_type": "code",
   "execution_count": 9,
   "metadata": {},
   "outputs": [],
   "source": [
    "def plot_sample_data(sample_data_a, sample_data_b, title_a='a', title_b='b'):\n",
    "    \"\"\"\n",
    "    Функция для создания графиков QQ, гистограмм и boxplot для двух выборок.\n",
    "\n",
    "    Args:\n",
    "    sample_data_a: Первая выборка данных\n",
    "    sample_data_b: Вторая выборка данных\n",
    "    title_a: Название для первой выборки\n",
    "    title_b: Название для второй выборки\n",
    "    \"\"\"\n",
    "    fig, axs = plt.subplots(3, 2, figsize=(10, 15))\n",
    "    plt.subplots_adjust(hspace=0.5)\n",
    "\n",
    "    # Создание графика QQ-графика для sample_data_a\n",
    "    # sm.qqplot(sample_data_a, line='45', ax=axs[0, 0])\n",
    "    stats.probplot(sample_data_a, plot=axs[0, 0]) # qq plot\n",
    "    axs[0, 0].set_title(f'График QQ для {title_a}')\n",
    "\n",
    "    # Создание графика QQ-графика для sample_data_b\n",
    "    # sm.qqplot(sample_data_b, line='45', ax=axs[0, 1])\n",
    "    stats.probplot(sample_data_b, plot=axs[0, 1]) # qq plot\n",
    "    axs[0, 1].set_title(f'График QQ для {title_b}')\n",
    "\n",
    "    # Создание гистограммы для sample_data_a\n",
    "    sns.histplot(sample_data_a, kde=True, ax=axs[1, 0])\n",
    "    axs[1, 0].set_title(f'Гистограмма для {title_a}')\n",
    "\n",
    "    # Создание гистограммы для sample_data_b\n",
    "    sns.histplot(sample_data_b, kde=True, ax=axs[1, 1])\n",
    "    axs[1, 1].set_title(f'Гистограмма для {title_b}')\n",
    "    \n",
    "    # Создание графика boxplot для sample_data_a с отрисовкой среднего и медианы\n",
    "    sns.boxplot(sample_data_a, ax=axs[2, 0], showmeans=True, meanline=True, showfliers=False)\n",
    "    axs[2, 0].set_title(f'Boxplot для {title_a} \\n mean: {np.mean(sample_data_a):.2f}, median: {np.median(sample_data_a):.2f}')\n",
    "    \n",
    "    # Создание графика boxplot для sample_data_b с отрисовкой среднего и медианы\n",
    "    sns.boxplot(sample_data_b, ax=axs[2, 1], showmeans=True, meanline=True, showfliers=False)\n",
    "    axs[2, 1].set_title(f'Boxplot для {title_b} \\n mean: {np.mean(sample_data_b):.2f}, median: {np.median(sample_data_b):.2f}')\n",
    "\n",
    "    plt.show()"
   ]
  },
  {
   "cell_type": "markdown",
   "metadata": {},
   "source": [
    "### Тест Шапиро на нормальность"
   ]
  },
  {
   "cell_type": "code",
   "execution_count": 10,
   "metadata": {},
   "outputs": [],
   "source": [
    "def shapiro_test(sample_a, sample_b, alpha=0.05):\n",
    "    H0 = 'Распределения в обеих группах нормальные'\n",
    "    H1 = 'Распределение в одной или обеих группах отлично от нормального'\n",
    "\n",
    "    shapiro_result_a = shapiro(sample_a)\n",
    "    shapiro_result_b = shapiro(sample_b)\n",
    "\n",
    "    print(f'alpha: {alpha}')\n",
    "    print('p-value sample A', round(shapiro_result_a.pvalue, 2))\n",
    "    print('p-value sample B', round(shapiro_result_b.pvalue, 2))\n",
    "\n",
    "    if shapiro_result_a.pvalue < alpha or shapiro_result_b.pvalue < alpha:\n",
    "        print(\"Отвергаем нулевую гипотезу H0: {}\".format(H0))\n",
    "        print(\"Альтернативная гипотеза. H1: {}\".format(H1))\n",
    "    else:\n",
    "        print(\"Принимаем нулевую гипотезу. {}\".format(H0))\n",
    "\n",
    "# Пример использования:\n",
    "# shapiro_test(more20['deviation'], less20['deviation'], alpha=0.05)"
   ]
  },
  {
   "cell_type": "markdown",
   "metadata": {},
   "source": [
    "## Предобработка для всех задач"
   ]
  },
  {
   "cell_type": "markdown",
   "metadata": {},
   "source": [
    "### Неинформативные признаки"
   ]
  },
  {
   "cell_type": "code",
   "execution_count": 11,
   "metadata": {},
   "outputs": [
    {
     "data": {
      "text/plain": [
       "'Нет неинформативных признаков'"
      ]
     },
     "execution_count": 11,
     "metadata": {},
     "output_type": "execute_result"
    }
   ],
   "source": [
    "low_information_features(combined_df)"
   ]
  },
  {
   "cell_type": "markdown",
   "metadata": {},
   "source": [
    "### Пропуски"
   ]
  },
  {
   "cell_type": "code",
   "execution_count": 12,
   "metadata": {},
   "outputs": [
    {
     "data": {
      "image/png": "[encoded data removed]",
      "text/plain": [
       "<Figure size 1000x500 with 1 Axes>"
      ]
     },
     "metadata": {},
     "output_type": "display_data"
    }
   ],
   "source": [
    "plot_missing_values(combined_df)"
   ]
  },
  {
   "cell_type": "code",
   "execution_count": 13,
   "metadata": {},
   "outputs": [],
   "source": [
    "# удаляем столбец если у него 60% или более значений отсутствует\n",
    "combined_df = combined_df.dropna(axis=1, thresh=(0.4 * combined_df.shape[0]))"
   ]
  },
  {
   "cell_type": "code",
   "execution_count": 14,
   "metadata": {},
   "outputs": [
    {
     "name": "stdout",
     "output_type": "stream",
     "text": [
      "Количество записей: \t 191920\n",
      "Количество столбцов: \t 46\n",
      "Явных дубликатов: \t 0\n",
      "Пропуски присутствуют в 34 столбцах из 46:\n"
     ]
    },
    {
     "data": {
      "text/html": [
       "<div>\n",
       "<style scoped>\n",
       "    .dataframe tbody tr th:only-of-type {\n",
       "        vertical-align: middle;\n",
       "    }\n",
       "\n",
       "    .dataframe tbody tr th {\n",
       "        vertical-align: top;\n",
       "    }\n",
       "\n",
       "    .dataframe thead th {\n",
       "        text-align: right;\n",
       "    }\n",
       "</style>\n",
       "<table border=\"1\" class=\"dataframe\">\n",
       "  <thead>\n",
       "    <tr style=\"text-align: right;\">\n",
       "      <th></th>\n",
       "      <th>Пропущено %</th>\n",
       "    </tr>\n",
       "  </thead>\n",
       "  <tbody>\n",
       "    <tr>\n",
       "      <th>minutes</th>\n",
       "      <td>51.924239</td>\n",
       "    </tr>\n",
       "    <tr>\n",
       "      <th>w_2ndWon</th>\n",
       "      <td>50.482493</td>\n",
       "    </tr>\n",
       "    <tr>\n",
       "      <th>w_1stIn</th>\n",
       "      <td>50.482493</td>\n",
       "    </tr>\n",
       "    <tr>\n",
       "      <th>l_bpFaced</th>\n",
       "      <td>50.482493</td>\n",
       "    </tr>\n",
       "    <tr>\n",
       "      <th>l_bpSaved</th>\n",
       "      <td>50.482493</td>\n",
       "    </tr>\n",
       "    <tr>\n",
       "      <th>w_bpFaced</th>\n",
       "      <td>50.482493</td>\n",
       "    </tr>\n",
       "    <tr>\n",
       "      <th>l_2ndWon</th>\n",
       "      <td>50.482493</td>\n",
       "    </tr>\n",
       "    <tr>\n",
       "      <th>l_1stWon</th>\n",
       "      <td>50.482493</td>\n",
       "    </tr>\n",
       "    <tr>\n",
       "      <th>l_1stIn</th>\n",
       "      <td>50.482493</td>\n",
       "    </tr>\n",
       "    <tr>\n",
       "      <th>l_svpt</th>\n",
       "      <td>50.482493</td>\n",
       "    </tr>\n",
       "    <tr>\n",
       "      <th>w_bpSaved</th>\n",
       "      <td>50.482493</td>\n",
       "    </tr>\n",
       "    <tr>\n",
       "      <th>l_ace</th>\n",
       "      <td>50.482493</td>\n",
       "    </tr>\n",
       "    <tr>\n",
       "      <th>w_1stWon</th>\n",
       "      <td>50.482493</td>\n",
       "    </tr>\n",
       "    <tr>\n",
       "      <th>w_df</th>\n",
       "      <td>50.482493</td>\n",
       "    </tr>\n",
       "    <tr>\n",
       "      <th>w_svpt</th>\n",
       "      <td>50.482493</td>\n",
       "    </tr>\n",
       "    <tr>\n",
       "      <th>l_df</th>\n",
       "      <td>50.481972</td>\n",
       "    </tr>\n",
       "    <tr>\n",
       "      <th>w_ace</th>\n",
       "      <td>50.481972</td>\n",
       "    </tr>\n",
       "    <tr>\n",
       "      <th>l_SvGms</th>\n",
       "      <td>50.481972</td>\n",
       "    </tr>\n",
       "    <tr>\n",
       "      <th>w_SvGms</th>\n",
       "      <td>50.481972</td>\n",
       "    </tr>\n",
       "    <tr>\n",
       "      <th>loser_rank_points</th>\n",
       "      <td>44.087120</td>\n",
       "    </tr>\n",
       "    <tr>\n",
       "      <th>winner_rank_points</th>\n",
       "      <td>43.238850</td>\n",
       "    </tr>\n",
       "    <tr>\n",
       "      <th>loser_rank</th>\n",
       "      <td>22.994998</td>\n",
       "    </tr>\n",
       "    <tr>\n",
       "      <th>winner_rank</th>\n",
       "      <td>18.633285</td>\n",
       "    </tr>\n",
       "    <tr>\n",
       "      <th>loser_ht</th>\n",
       "      <td>15.455919</td>\n",
       "    </tr>\n",
       "    <tr>\n",
       "      <th>winner_ht</th>\n",
       "      <td>8.809921</td>\n",
       "    </tr>\n",
       "    <tr>\n",
       "      <th>loser_age</th>\n",
       "      <td>2.426532</td>\n",
       "    </tr>\n",
       "    <tr>\n",
       "      <th>surface</th>\n",
       "      <td>1.557941</td>\n",
       "    </tr>\n",
       "    <tr>\n",
       "      <th>winner_age</th>\n",
       "      <td>0.683097</td>\n",
       "    </tr>\n",
       "    <tr>\n",
       "      <th>draw_size</th>\n",
       "      <td>0.435077</td>\n",
       "    </tr>\n",
       "    <tr>\n",
       "      <th>loser_ioc</th>\n",
       "      <td>0.037516</td>\n",
       "    </tr>\n",
       "    <tr>\n",
       "      <th>loser_hand</th>\n",
       "      <td>0.025531</td>\n",
       "    </tr>\n",
       "    <tr>\n",
       "      <th>winner_hand</th>\n",
       "      <td>0.006253</td>\n",
       "    </tr>\n",
       "    <tr>\n",
       "      <th>score</th>\n",
       "      <td>0.004689</td>\n",
       "    </tr>\n",
       "    <tr>\n",
       "      <th>winner_ioc</th>\n",
       "      <td>0.004168</td>\n",
       "    </tr>\n",
       "  </tbody>\n",
       "</table>\n",
       "</div>"
      ],
      "text/plain": [
       "                    Пропущено %\n",
       "minutes               51.924239\n",
       "w_2ndWon              50.482493\n",
       "w_1stIn               50.482493\n",
       "l_bpFaced             50.482493\n",
       "l_bpSaved             50.482493\n",
       "w_bpFaced             50.482493\n",
       "l_2ndWon              50.482493\n",
       "l_1stWon              50.482493\n",
       "l_1stIn               50.482493\n",
       "l_svpt                50.482493\n",
       "w_bpSaved             50.482493\n",
       "l_ace                 50.482493\n",
       "w_1stWon              50.482493\n",
       "w_df                  50.482493\n",
       "w_svpt                50.482493\n",
       "l_df                  50.481972\n",
       "w_ace                 50.481972\n",
       "l_SvGms               50.481972\n",
       "w_SvGms               50.481972\n",
       "loser_rank_points     44.087120\n",
       "winner_rank_points    43.238850\n",
       "loser_rank            22.994998\n",
       "winner_rank           18.633285\n",
       "loser_ht              15.455919\n",
       "winner_ht              8.809921\n",
       "loser_age              2.426532\n",
       "surface                1.557941\n",
       "winner_age             0.683097\n",
       "draw_size              0.435077\n",
       "loser_ioc              0.037516\n",
       "loser_hand             0.025531\n",
       "winner_hand            0.006253\n",
       "score                  0.004689\n",
       "winner_ioc             0.004168"
      ]
     },
     "metadata": {},
     "output_type": "display_data"
    },
    {
     "name": "stdout",
     "output_type": "stream",
     "text": [
      "Обобщенная информация:\n",
      "<class 'pandas.core.frame.DataFrame'>\n",
      "RangeIndex: 191920 entries, 0 to 191919\n",
      "Columns: 46 entries, tourney_id to year\n",
      "dtypes: float64(28), int64(6), object(12)\n",
      "memory usage: 67.4+ MB\n"
     ]
    },
    {
     "data": {
      "text/plain": [
       "None"
      ]
     },
     "metadata": {},
     "output_type": "display_data"
    },
    {
     "name": "stdout",
     "output_type": "stream",
     "text": [
      "Первые 3 строки:\n"
     ]
    },
    {
     "data": {
      "text/html": [
       "<div>\n",
       "<style scoped>\n",
       "    .dataframe tbody tr th:only-of-type {\n",
       "        vertical-align: middle;\n",
       "    }\n",
       "\n",
       "    .dataframe tbody tr th {\n",
       "        vertical-align: top;\n",
       "    }\n",
       "\n",
       "    .dataframe thead th {\n",
       "        text-align: right;\n",
       "    }\n",
       "</style>\n",
       "<table border=\"1\" class=\"dataframe\">\n",
       "  <thead>\n",
       "    <tr style=\"text-align: right;\">\n",
       "      <th></th>\n",
       "      <th>tourney_id</th>\n",
       "      <th>tourney_name</th>\n",
       "      <th>surface</th>\n",
       "      <th>draw_size</th>\n",
       "      <th>tourney_level</th>\n",
       "      <th>tourney_date</th>\n",
       "      <th>match_num</th>\n",
       "      <th>winner_id</th>\n",
       "      <th>winner_name</th>\n",
       "      <th>winner_hand</th>\n",
       "      <th>...</th>\n",
       "      <th>l_1stWon</th>\n",
       "      <th>l_2ndWon</th>\n",
       "      <th>l_SvGms</th>\n",
       "      <th>l_bpSaved</th>\n",
       "      <th>l_bpFaced</th>\n",
       "      <th>winner_rank</th>\n",
       "      <th>winner_rank_points</th>\n",
       "      <th>loser_rank</th>\n",
       "      <th>loser_rank_points</th>\n",
       "      <th>year</th>\n",
       "    </tr>\n",
       "  </thead>\n",
       "  <tbody>\n",
       "    <tr>\n",
       "      <th>0</th>\n",
       "      <td>1968-2029</td>\n",
       "      <td>Dublin</td>\n",
       "      <td>Grass</td>\n",
       "      <td>32.0</td>\n",
       "      <td>A</td>\n",
       "      <td>19680708</td>\n",
       "      <td>270</td>\n",
       "      <td>112411</td>\n",
       "      <td>Doug Smith</td>\n",
       "      <td>U</td>\n",
       "      <td>...</td>\n",
       "      <td>NaN</td>\n",
       "      <td>NaN</td>\n",
       "      <td>NaN</td>\n",
       "      <td>NaN</td>\n",
       "      <td>NaN</td>\n",
       "      <td>NaN</td>\n",
       "      <td>NaN</td>\n",
       "      <td>NaN</td>\n",
       "      <td>NaN</td>\n",
       "      <td>1968</td>\n",
       "    </tr>\n",
       "    <tr>\n",
       "      <th>1</th>\n",
       "      <td>1968-2029</td>\n",
       "      <td>Dublin</td>\n",
       "      <td>Grass</td>\n",
       "      <td>32.0</td>\n",
       "      <td>A</td>\n",
       "      <td>19680708</td>\n",
       "      <td>271</td>\n",
       "      <td>126914</td>\n",
       "      <td>Louis Pretorius</td>\n",
       "      <td>R</td>\n",
       "      <td>...</td>\n",
       "      <td>NaN</td>\n",
       "      <td>NaN</td>\n",
       "      <td>NaN</td>\n",
       "      <td>NaN</td>\n",
       "      <td>NaN</td>\n",
       "      <td>NaN</td>\n",
       "      <td>NaN</td>\n",
       "      <td>NaN</td>\n",
       "      <td>NaN</td>\n",
       "      <td>1968</td>\n",
       "    </tr>\n",
       "    <tr>\n",
       "      <th>2</th>\n",
       "      <td>1968-2029</td>\n",
       "      <td>Dublin</td>\n",
       "      <td>Grass</td>\n",
       "      <td>32.0</td>\n",
       "      <td>A</td>\n",
       "      <td>19680708</td>\n",
       "      <td>272</td>\n",
       "      <td>209523</td>\n",
       "      <td>Cecil Pedlow</td>\n",
       "      <td>U</td>\n",
       "      <td>...</td>\n",
       "      <td>NaN</td>\n",
       "      <td>NaN</td>\n",
       "      <td>NaN</td>\n",
       "      <td>NaN</td>\n",
       "      <td>NaN</td>\n",
       "      <td>NaN</td>\n",
       "      <td>NaN</td>\n",
       "      <td>NaN</td>\n",
       "      <td>NaN</td>\n",
       "      <td>1968</td>\n",
       "    </tr>\n",
       "  </tbody>\n",
       "</table>\n",
       "<p>3 rows × 46 columns</p>\n",
       "</div>"
      ],
      "text/plain": [
       "  tourney_id tourney_name surface  draw_size tourney_level  tourney_date  \\\n",
       "0  1968-2029       Dublin   Grass       32.0             A      19680708   \n",
       "1  1968-2029       Dublin   Grass       32.0             A      19680708   \n",
       "2  1968-2029       Dublin   Grass       32.0             A      19680708   \n",
       "\n",
       "   match_num  winner_id      winner_name winner_hand  ...  l_1stWon l_2ndWon  \\\n",
       "0        270     112411       Doug Smith           U  ...       NaN      NaN   \n",
       "1        271     126914  Louis Pretorius           R  ...       NaN      NaN   \n",
       "2        272     209523     Cecil Pedlow           U  ...       NaN      NaN   \n",
       "\n",
       "   l_SvGms  l_bpSaved l_bpFaced winner_rank  winner_rank_points loser_rank  \\\n",
       "0      NaN        NaN       NaN         NaN                 NaN        NaN   \n",
       "1      NaN        NaN       NaN         NaN                 NaN        NaN   \n",
       "2      NaN        NaN       NaN         NaN                 NaN        NaN   \n",
       "\n",
       "   loser_rank_points  year  \n",
       "0                NaN  1968  \n",
       "1                NaN  1968  \n",
       "2                NaN  1968  \n",
       "\n",
       "[3 rows x 46 columns]"
      ]
     },
     "metadata": {},
     "output_type": "display_data"
    }
   ],
   "source": [
    "# Общий обзор сборного датасета\n",
    "df_info(combined_df)"
   ]
  },
  {
   "cell_type": "markdown",
   "metadata": {},
   "source": [
    "## Задача_01_a\n",
    "\n",
    "> Проверьте следующие утверждения - Если ранг игрока выше более, чем на 20 позиций, то в среднем он будет выигрывать с большей вероятностью. (Если хотите проверить статистически — формируйте выборку как отклонение от ожидаемого количества побед при случайном исходе);"
   ]
  },
  {
   "cell_type": "markdown",
   "metadata": {},
   "source": [
    "Для выполнения данного задания можно использовать следующие шаги:\n",
    "* Сформировать две выборки игроков: первая выборка - игроки с рангом, отличающимся более чем на 20 позиций от противника, вторая - игроки с близким рангом к противнику (отличие менее 20 позиций). Например: \n",
    "`df_rank_1['higher_rank_win'] = (df_rank_1['winner_rank'] - df_rank_1['loser_rank']) > 20`\n",
    "* Для каждой игры в выборках посчитать ожидаемое количество побед при случайном исходе. Это можно сделать, умножив количество сыгранных игр на вероятность выигрыша 0,5 (при равных шансах для каждого игрока).\n",
    "* Посчитать фактическое количество побед для каждого игрока в выборках.\n",
    "* Вычислить отклонение фактического количества побед от ожидаемого для каждого игрока.\n",
    "* Рассчитать среднее отклонение для каждой выборки.\n",
    "* Сравнить средние отклонения между выборками. Если в первой выборке (ранг выше более чем на 20 позиций) среднее отклонение значительно выше, чем во второй выборке, то это подтверждает гипотезу о большей вероятности выигрыша у игроков с более высоким рангом.\n",
    "\n",
    "\n",
    "Например:\n",
    "\n",
    "Игрок А сыграл 100 игр, его ожидаемое количество побед 100 * 0,5 = 50. Фактическое количество побед 62. Отклонение +12.\n",
    "Игрок B сыграл 80 игр, ожидаемое 80 * 0,5 = 40 побед. Фактическое 45 побед. Отклонение +5.\n",
    "Рассчитываем среднее отклонение для выборки как сумму всех отклонений, деленную на количество игроков в выборке."
   ]
  },
  {
   "cell_type": "code",
   "execution_count": 15,
   "metadata": {},
   "outputs": [
    {
     "data": {
      "text/plain": [
       "rank_diff_more20\n",
       "1    106767\n",
       "0     37093\n",
       "Name: count, dtype: int64"
      ]
     },
     "execution_count": 15,
     "metadata": {},
     "output_type": "execute_result"
    }
   ],
   "source": [
    "# Создание выборки к задаче\n",
    "combined_df = pd.read_csv('full_data/combined_atp_matches.csv')\n",
    "task_01_a = combined_df[['year', 'match_num', 'winner_id', 'winner_rank', 'loser_id', 'loser_rank']].dropna()\n",
    "task_01_a['rank_diff_more20'] = np.where(abs(task_01_a['winner_rank'] - task_01_a['loser_rank']) > 20, 1, 0)\n",
    "\n",
    "# Размеры выборок\n",
    "task_01_a.rank_diff_more20.value_counts()\n"
   ]
  },
  {
   "cell_type": "code",
   "execution_count": 16,
   "metadata": {},
   "outputs": [
    {
     "name": "stdout",
     "output_type": "stream",
     "text": [
      "Количество записей: \t 143860\n",
      "Количество столбцов: \t 7\n",
      "Явных дубликатов: \t 57\n",
      "Пропуски присутствуют в 0 столбцах из 7:\n"
     ]
    },
    {
     "data": {
      "text/html": [
       "<div>\n",
       "<style scoped>\n",
       "    .dataframe tbody tr th:only-of-type {\n",
       "        vertical-align: middle;\n",
       "    }\n",
       "\n",
       "    .dataframe tbody tr th {\n",
       "        vertical-align: top;\n",
       "    }\n",
       "\n",
       "    .dataframe thead th {\n",
       "        text-align: right;\n",
       "    }\n",
       "</style>\n",
       "<table border=\"1\" class=\"dataframe\">\n",
       "  <thead>\n",
       "    <tr style=\"text-align: right;\">\n",
       "      <th></th>\n",
       "      <th>Пропущено %</th>\n",
       "    </tr>\n",
       "  </thead>\n",
       "  <tbody>\n",
       "  </tbody>\n",
       "</table>\n",
       "</div>"
      ],
      "text/plain": [
       "Empty DataFrame\n",
       "Columns: [Пропущено %]\n",
       "Index: []"
      ]
     },
     "metadata": {},
     "output_type": "display_data"
    },
    {
     "name": "stdout",
     "output_type": "stream",
     "text": [
      "Обобщенная информация:\n",
      "<class 'pandas.core.frame.DataFrame'>\n",
      "Index: 143860 entries, 18086 to 191919\n",
      "Columns: 7 entries, year to rank_diff_more20\n",
      "dtypes: float64(2), int32(1), int64(4)\n",
      "memory usage: 8.2 MB\n"
     ]
    },
    {
     "data": {
      "text/plain": [
       "None"
      ]
     },
     "metadata": {},
     "output_type": "display_data"
    },
    {
     "name": "stdout",
     "output_type": "stream",
     "text": [
      "Первые 3 строки:\n"
     ]
    },
    {
     "data": {
      "text/html": [
       "<div>\n",
       "<style scoped>\n",
       "    .dataframe tbody tr th:only-of-type {\n",
       "        vertical-align: middle;\n",
       "    }\n",
       "\n",
       "    .dataframe tbody tr th {\n",
       "        vertical-align: top;\n",
       "    }\n",
       "\n",
       "    .dataframe thead th {\n",
       "        text-align: right;\n",
       "    }\n",
       "</style>\n",
       "<table border=\"1\" class=\"dataframe\">\n",
       "  <thead>\n",
       "    <tr style=\"text-align: right;\">\n",
       "      <th></th>\n",
       "      <th>year</th>\n",
       "      <th>match_num</th>\n",
       "      <th>winner_id</th>\n",
       "      <th>winner_rank</th>\n",
       "      <th>loser_id</th>\n",
       "      <th>loser_rank</th>\n",
       "      <th>rank_diff_more20</th>\n",
       "    </tr>\n",
       "  </thead>\n",
       "  <tbody>\n",
       "    <tr>\n",
       "      <th>18086</th>\n",
       "      <td>1973</td>\n",
       "      <td>1</td>\n",
       "      <td>100119</td>\n",
       "      <td>1.0</td>\n",
       "      <td>100129</td>\n",
       "      <td>88.0</td>\n",
       "      <td>1</td>\n",
       "    </tr>\n",
       "    <tr>\n",
       "      <th>18087</th>\n",
       "      <td>1973</td>\n",
       "      <td>2</td>\n",
       "      <td>100304</td>\n",
       "      <td>193.0</td>\n",
       "      <td>100067</td>\n",
       "      <td>71.0</td>\n",
       "      <td>1</td>\n",
       "    </tr>\n",
       "    <tr>\n",
       "      <th>18088</th>\n",
       "      <td>1973</td>\n",
       "      <td>3</td>\n",
       "      <td>100135</td>\n",
       "      <td>39.0</td>\n",
       "      <td>100376</td>\n",
       "      <td>118.0</td>\n",
       "      <td>1</td>\n",
       "    </tr>\n",
       "  </tbody>\n",
       "</table>\n",
       "</div>"
      ],
      "text/plain": [
       "       year  match_num  winner_id  winner_rank  loser_id  loser_rank  \\\n",
       "18086  1973          1     100119          1.0    100129        88.0   \n",
       "18087  1973          2     100304        193.0    100067        71.0   \n",
       "18088  1973          3     100135         39.0    100376       118.0   \n",
       "\n",
       "       rank_diff_more20  \n",
       "18086                 1  \n",
       "18087                 1  \n",
       "18088                 1  "
      ]
     },
     "metadata": {},
     "output_type": "display_data"
    }
   ],
   "source": [
    "df_info(task_01_a)"
   ]
  },
  {
   "cell_type": "code",
   "execution_count": 17,
   "metadata": {},
   "outputs": [],
   "source": [
    "def calculate_player_performance_metrics(task_01_a):\n",
    "   \"\"\"\n",
    "   Функция для расчёта метрик производительности игроков\n",
    "\n",
    "   Parameters:\n",
    "   task_01_a (DataFrame): DataFrame с информацией о победах и поражениях\n",
    "\n",
    "   Returns:\n",
    "   DataFrame: DataFrame с метриками производительности игроков\n",
    "   \"\"\"\n",
    "   wins_count = task_01_a['winner_id'].value_counts()\n",
    "   losses_count = task_01_a['loser_id'].value_counts()\n",
    "   total_games = wins_count.add(losses_count, fill_value=0).astype(int)\n",
    "   player_performance_df = pd.DataFrame({\n",
    "       'player_id': total_games.index,\n",
    "       'wins': wins_count,\n",
    "       'losses': losses_count,\n",
    "       'total': total_games\n",
    "   }).reset_index(drop=True)\n",
    "   player_performance_df['wins'].fillna(0, inplace=True)\n",
    "   player_performance_df['losses'].fillna(0, inplace=True)\n",
    "   player_performance_df['wins'] = player_performance_df['wins'].astype(int)\n",
    "   player_performance_df['losses'] = player_performance_df['losses'].astype(int)\n",
    "   player_performance_df['expected_wins'] = player_performance_df['total'] * 0.5\n",
    "   player_performance_df['deviation'] = player_performance_df['wins'] - player_performance_df['expected_wins']\n",
    "   return player_performance_df.sort_values(by='total', ascending=False)"
   ]
  },
  {
   "cell_type": "code",
   "execution_count": 18,
   "metadata": {},
   "outputs": [],
   "source": [
    "more20 = calculate_player_performance_metrics(task_01_a[task_01_a['rank_diff_more20'] == 1])\n",
    "less20 = calculate_player_performance_metrics(task_01_a[task_01_a['rank_diff_more20'] == 0])\n"
   ]
  },
  {
   "cell_type": "code",
   "execution_count": 19,
   "metadata": {},
   "outputs": [
    {
     "data": {
      "text/html": [
       "<div>\n",
       "<style scoped>\n",
       "    .dataframe tbody tr th:only-of-type {\n",
       "        vertical-align: middle;\n",
       "    }\n",
       "\n",
       "    .dataframe tbody tr th {\n",
       "        vertical-align: top;\n",
       "    }\n",
       "\n",
       "    .dataframe thead th {\n",
       "        text-align: right;\n",
       "    }\n",
       "</style>\n",
       "<table border=\"1\" class=\"dataframe\">\n",
       "  <thead>\n",
       "    <tr style=\"text-align: right;\">\n",
       "      <th></th>\n",
       "      <th>player_id</th>\n",
       "      <th>wins</th>\n",
       "      <th>losses</th>\n",
       "      <th>total</th>\n",
       "      <th>expected_wins</th>\n",
       "      <th>deviation</th>\n",
       "    </tr>\n",
       "  </thead>\n",
       "  <tbody>\n",
       "    <tr>\n",
       "      <th>2028</th>\n",
       "      <td>103819</td>\n",
       "      <td>821</td>\n",
       "      <td>103</td>\n",
       "      <td>924</td>\n",
       "      <td>462.0</td>\n",
       "      <td>359.0</td>\n",
       "    </tr>\n",
       "    <tr>\n",
       "      <th>2397</th>\n",
       "      <td>104745</td>\n",
       "      <td>694</td>\n",
       "      <td>88</td>\n",
       "      <td>782</td>\n",
       "      <td>391.0</td>\n",
       "      <td>303.0</td>\n",
       "    </tr>\n",
       "    <tr>\n",
       "      <th>1150</th>\n",
       "      <td>101736</td>\n",
       "      <td>614</td>\n",
       "      <td>132</td>\n",
       "      <td>746</td>\n",
       "      <td>373.0</td>\n",
       "      <td>241.0</td>\n",
       "    </tr>\n",
       "  </tbody>\n",
       "</table>\n",
       "</div>"
      ],
      "text/plain": [
       "      player_id  wins  losses  total  expected_wins  deviation\n",
       "2028     103819   821     103    924          462.0      359.0\n",
       "2397     104745   694      88    782          391.0      303.0\n",
       "1150     101736   614     132    746          373.0      241.0"
      ]
     },
     "execution_count": 19,
     "metadata": {},
     "output_type": "execute_result"
    }
   ],
   "source": [
    "more20.head(3)"
   ]
  },
  {
   "cell_type": "code",
   "execution_count": 20,
   "metadata": {},
   "outputs": [
    {
     "data": {
      "text/html": [
       "<div>\n",
       "<style scoped>\n",
       "    .dataframe tbody tr th:only-of-type {\n",
       "        vertical-align: middle;\n",
       "    }\n",
       "\n",
       "    .dataframe tbody tr th {\n",
       "        vertical-align: top;\n",
       "    }\n",
       "\n",
       "    .dataframe thead th {\n",
       "        text-align: right;\n",
       "    }\n",
       "</style>\n",
       "<table border=\"1\" class=\"dataframe\">\n",
       "  <thead>\n",
       "    <tr style=\"text-align: right;\">\n",
       "      <th></th>\n",
       "      <th>player_id</th>\n",
       "      <th>wins</th>\n",
       "      <th>losses</th>\n",
       "      <th>total</th>\n",
       "      <th>expected_wins</th>\n",
       "      <th>deviation</th>\n",
       "    </tr>\n",
       "  </thead>\n",
       "  <tbody>\n",
       "    <tr>\n",
       "      <th>1157</th>\n",
       "      <td>103819</td>\n",
       "      <td>441</td>\n",
       "      <td>177</td>\n",
       "      <td>618</td>\n",
       "      <td>309.0</td>\n",
       "      <td>132.0</td>\n",
       "    </tr>\n",
       "    <tr>\n",
       "      <th>1330</th>\n",
       "      <td>104925</td>\n",
       "      <td>437</td>\n",
       "      <td>141</td>\n",
       "      <td>578</td>\n",
       "      <td>289.0</td>\n",
       "      <td>148.0</td>\n",
       "    </tr>\n",
       "    <tr>\n",
       "      <th>1306</th>\n",
       "      <td>104745</td>\n",
       "      <td>385</td>\n",
       "      <td>139</td>\n",
       "      <td>524</td>\n",
       "      <td>262.0</td>\n",
       "      <td>123.0</td>\n",
       "    </tr>\n",
       "  </tbody>\n",
       "</table>\n",
       "</div>"
      ],
      "text/plain": [
       "      player_id  wins  losses  total  expected_wins  deviation\n",
       "1157     103819   441     177    618          309.0      132.0\n",
       "1330     104925   437     141    578          289.0      148.0\n",
       "1306     104745   385     139    524          262.0      123.0"
      ]
     },
     "execution_count": 20,
     "metadata": {},
     "output_type": "execute_result"
    }
   ],
   "source": [
    "less20.head(3)"
   ]
  },
  {
   "cell_type": "code",
   "execution_count": 21,
   "metadata": {},
   "outputs": [
    {
     "name": "stdout",
     "output_type": "stream",
     "text": [
      "Cреднее отклонение для выборки more20: 7.23\n",
      "Cреднее отклонение для выборки less20: 2.97\n"
     ]
    }
   ],
   "source": [
    "# Рассчитать среднее отклонение для каждой выборки\n",
    "mean_dev_more20 = more20.deviation.abs().mean()\n",
    "mean_dev_less20 = less20.deviation.abs().mean()\n",
    "\n",
    "print(f'Cреднее отклонение для выборки more20: {round(mean_dev_more20, 2)}')\n",
    "print(f'Cреднее отклонение для выборки less20: {round(mean_dev_less20, 2)}')\n",
    "\n",
    "\n",
    "# Если в первой выборке (ранг выше более чем на 20 позиций) среднее отклонение значительно выше, \n",
    "# чем во второй выборке, то это подтверждает гипотезу о \n",
    "# большей вероятности выигрыша у игроков с более высоким рангом."
   ]
  },
  {
   "cell_type": "markdown",
   "metadata": {},
   "source": [
    "### Графическое описание распределений признака `deviation` для каждой выборки"
   ]
  },
  {
   "cell_type": "code",
   "execution_count": 22,
   "metadata": {},
   "outputs": [
    {
     "data": {
      "image/png": "[encoded data removed]",
      "text/plain": [
       "<Figure size 1000x1500 with 6 Axes>"
      ]
     },
     "metadata": {},
     "output_type": "display_data"
    }
   ],
   "source": [
    "plot_sample_data(more20.deviation, less20.deviation, title_a='more20', title_b='less20')"
   ]
  },
  {
   "cell_type": "markdown",
   "metadata": {},
   "source": [
    "#### Статистический тест на нормальность"
   ]
  },
  {
   "cell_type": "code",
   "execution_count": 23,
   "metadata": {},
   "outputs": [
    {
     "name": "stdout",
     "output_type": "stream",
     "text": [
      "alpha: 0.05\n",
      "p-value sample A 0.0\n",
      "p-value sample B 0.0\n",
      "Отвергаем нулевую гипотезу H0: Распределения в обеих группах нормальные\n",
      "Альтернативная гипотеза. H1: Распределение в одной или обеих группах отлично от нормального\n"
     ]
    }
   ],
   "source": [
    "shapiro_test(more20.deviation, less20.deviation, alpha=0.05)"
   ]
  },
  {
   "cell_type": "markdown",
   "metadata": {},
   "source": [
    "#### Обоснование выбора теста: критерий Уилкоксона (Манна-Уитни)\n",
    "Если выборки формируются путем разделения одной родительской выборки на основе значения одного из признаков, то они могут считаться зависимыми в том смысле, что обе группы изначально были частью одной и той же совокупности. \n",
    "\n",
    "Однако, если после разделения каждая из подвыборок не содержит парных наблюдений (например, один и тот же игрок в обеих подвыборках), то они всё же будут считаться независимыми в контексте статистического анализа.\n",
    "\n",
    "Когда вы разделяете выборку на две группы на основе ранга игрока (например, игроки с рангом выше на 20 позиций и все остальные), и сравниваете отклонения реальных побед от ожидаемых между этими двумя группами, вы фактически имеете дело с двумя независимыми выборками.\n",
    "\n",
    "В таком случае, чтобы сравнить средние отклонения между двумя независимыми выборками, можно использовать t-тест для независимых выборок (если данные удовлетворяют условиям применения t-теста), или непараметрический U-тест Манна-Уитни, если предположения для t-теста не выполняются\n",
    "\n",
    "Поскольку наши данные, не содержат парных наблюдений, а являются двумя отдельными группами из одной совокупности, можно выбрать между t-тестом и U-тестом Манна-Уитни в зависимости от распределения данных.\n",
    "\n",
    "Учитывая, что проведенный тест Шапиро и тест Деагостино не указали на нормальность распределений - подходит только тест Мана-Уитни."
   ]
  },
  {
   "cell_type": "markdown",
   "metadata": {},
   "source": [
    "#### Тест Мана-Уитни\n",
    "Нулевая гипотеза (H0): \n",
    "Нет статистически значимой разницы в медианах отклонений между двумя независимыми выборками. \n",
    "Это означает, что любые различия между выборками могут быть результатом случайности.\n",
    "\n",
    "Альтернативная гипотеза (H1): \n",
    "Существует статистически значимая разница в медианах отклонений между двумя независимыми выборками. \n",
    "Это указывает на то, что наблюдаемые различия маловероятно являются случайными и что \n",
    "одна из групп имеет тенденцию к более высоким или низким отклонениям.\n",
    "\n",
    "выбора параметра alternative:\n",
    "\n",
    "* 'two-sided' используется, если вы хотите проверить, отличаются ли выборки вообще (в любом направлении).\n",
    "* 'less' используется, если вы предполагаете, что медиана первой выборки меньше медианы второй.\n",
    "* 'greater' используется, если вы предполагаете, что медиана первой выборки больше медианы второй."
   ]
  },
  {
   "cell_type": "code",
   "execution_count": 24,
   "metadata": {},
   "outputs": [
    {
     "name": "stdout",
     "output_type": "stream",
     "text": [
      "U-статистика: 2221913.5\n",
      "p-значение: 1.0\n",
      "Нулевая гипотеза (вероятность победы не выше в группе с разницей рангов >20):Среднее отклонений для more20 не больше медианы для выборки less20\n",
      "Альтернативная гипотеза (вероятность победы выше в группе с разницей рангов >20):Среднее отклонений для more20 больше медианы для выборки less20\n",
      "Не отвергаем нулевую гипотезу: Среднее отклонений для more20 не больше медианы для выборки less20 при a = 0.05.\n"
     ]
    }
   ],
   "source": [
    "# Тест Мана-Уитни\n",
    "sample_a = more20.deviation\n",
    "sample_b = less20.deviation\n",
    "\n",
    "# Уровень значимости\n",
    "alpha = 0.05\n",
    "\n",
    "# Проведение одностороннего U-теста Манна-Уитни\n",
    "stat, p = mannwhitneyu(sample_a, sample_b, alternative='greater')\n",
    "\n",
    "# Вывод результатов\n",
    "print(f'U-статистика: {stat}')\n",
    "print(f'p-значение: {p}')\n",
    "\n",
    "# Формулировка гипотез\n",
    "H0 = 'Среднее отклонений для more20 не больше медианы для выборки less20'\n",
    "H1 = 'Среднее отклонений для more20 больше медианы для выборки less20'\n",
    "print(f'Нулевая гипотеза (вероятность победы не выше в группе с разницей рангов >20):{H0}')\n",
    "print(f'Альтернативная гипотеза (вероятность победы выше в группе с разницей рангов >20):{H1}')\n",
    "\n",
    "# Сравнение p-значения с уровнем значимости\n",
    "if p < alpha:\n",
    "    print(f'Отвергаем нулевую гипотезу: {H0} при a = {alpha}.')\n",
    "    print(f'Принимаем альтернативную гипотезу: {H1} при a = {alpha}.')\n",
    "else:\n",
    "    print(f'Не отвергаем нулевую гипотезу: {H0} при a = {alpha}.')"
   ]
  },
  {
   "cell_type": "markdown",
   "metadata": {},
   "source": [
    "#### Вывод по задаче_01_а\n",
    "\n",
    "Проверка тестом Мана-Уитни:\n",
    "\n",
    "* Нулевая гипотеза (вероятность победы не выше в группе с разницей рангов >20):Среднее отклонений для more20 не больше среднего для выборки less20\n",
    "* Альтернативная гипотеза (вероятность победы выше в группе с разницей рангов >20):Среднее отклонений для more20 больше среднего для выборки less20\n",
    "* Не отвергаем нулевую гипотезу: Среднее отклонений для more20 не больше медианы для выборки less20 при a = 0.05."
   ]
  },
  {
   "cell_type": "markdown",
   "metadata": {},
   "source": [
    "## Задача_01_b\n",
    ">Если ранг игрока находится в окне +-5 позиций, то вероятность победы будет значительно отличаться от гипотезы из предыдущего случая. Для проверки статистической значимости выборку можно сделать как среднее по годам (например, с 1980 по 2022г.). Подумайте, как правильно сформировать репрезентативную выборку."
   ]
  },
  {
   "cell_type": "markdown",
   "metadata": {},
   "source": [
    "В данном случае для проверки статистической значимости гипотезы о том, что вероятность победы игроков с рангами, отличающимися не более чем на 5 позиций, будет значительно отличаться от предыдущего случая (ранги различаются более чем на 20 позиций), то есть надо сделать выборку в случае если ранг отличается на 5 позиций. Нужно сравнить среднее количество побед между двумя группами."
   ]
  },
  {
   "cell_type": "code",
   "execution_count": 25,
   "metadata": {},
   "outputs": [
    {
     "data": {
      "text/plain": [
       "window5\n",
       "out    133840\n",
       "in      10020\n",
       "Name: count, dtype: int64"
      ]
     },
     "execution_count": 25,
     "metadata": {},
     "output_type": "execute_result"
    }
   ],
   "source": [
    "# Создание выборки к задаче\n",
    "combined_df = pd.read_csv('full_data/combined_atp_matches.csv')\n",
    "task_01_b = combined_df[['year', 'match_num', 'winner_id', 'winner_rank', 'loser_id', 'loser_rank']].dropna()\n",
    "\n",
    "# Создание бинарного признака window5, который указывает, \n",
    "# попадает ли разница рангов в интервал [-5, 5]\n",
    "task_01_b['window5'] = task_01_b.apply(\n",
    "    lambda row: 'in' if -5 <= (row['winner_rank'] - row['loser_rank']) <= 5 else 'out', \n",
    "    axis=1\n",
    ")\n",
    "# check\n",
    "task_01_b.window5.value_counts()"
   ]
  },
  {
   "cell_type": "code",
   "execution_count": 26,
   "metadata": {},
   "outputs": [
    {
     "name": "stdout",
     "output_type": "stream",
     "text": [
      "Количество записей: \t 143860\n",
      "Количество столбцов: \t 7\n",
      "Явных дубликатов: \t 57\n",
      "Пропуски присутствуют в 0 столбцах из 7:\n"
     ]
    },
    {
     "data": {
      "text/html": [
       "<div>\n",
       "<style scoped>\n",
       "    .dataframe tbody tr th:only-of-type {\n",
       "        vertical-align: middle;\n",
       "    }\n",
       "\n",
       "    .dataframe tbody tr th {\n",
       "        vertical-align: top;\n",
       "    }\n",
       "\n",
       "    .dataframe thead th {\n",
       "        text-align: right;\n",
       "    }\n",
       "</style>\n",
       "<table border=\"1\" class=\"dataframe\">\n",
       "  <thead>\n",
       "    <tr style=\"text-align: right;\">\n",
       "      <th></th>\n",
       "      <th>Пропущено %</th>\n",
       "    </tr>\n",
       "  </thead>\n",
       "  <tbody>\n",
       "  </tbody>\n",
       "</table>\n",
       "</div>"
      ],
      "text/plain": [
       "Empty DataFrame\n",
       "Columns: [Пропущено %]\n",
       "Index: []"
      ]
     },
     "metadata": {},
     "output_type": "display_data"
    },
    {
     "name": "stdout",
     "output_type": "stream",
     "text": [
      "Обобщенная информация:\n",
      "<class 'pandas.core.frame.DataFrame'>\n",
      "Index: 143860 entries, 18086 to 191919\n",
      "Columns: 7 entries, year to window5\n",
      "dtypes: float64(2), int64(4), object(1)\n",
      "memory usage: 8.8+ MB\n"
     ]
    },
    {
     "data": {
      "text/plain": [
       "None"
      ]
     },
     "metadata": {},
     "output_type": "display_data"
    },
    {
     "name": "stdout",
     "output_type": "stream",
     "text": [
      "Первые 3 строки:\n"
     ]
    },
    {
     "data": {
      "text/html": [
       "<div>\n",
       "<style scoped>\n",
       "    .dataframe tbody tr th:only-of-type {\n",
       "        vertical-align: middle;\n",
       "    }\n",
       "\n",
       "    .dataframe tbody tr th {\n",
       "        vertical-align: top;\n",
       "    }\n",
       "\n",
       "    .dataframe thead th {\n",
       "        text-align: right;\n",
       "    }\n",
       "</style>\n",
       "<table border=\"1\" class=\"dataframe\">\n",
       "  <thead>\n",
       "    <tr style=\"text-align: right;\">\n",
       "      <th></th>\n",
       "      <th>year</th>\n",
       "      <th>match_num</th>\n",
       "      <th>winner_id</th>\n",
       "      <th>winner_rank</th>\n",
       "      <th>loser_id</th>\n",
       "      <th>loser_rank</th>\n",
       "      <th>window5</th>\n",
       "    </tr>\n",
       "  </thead>\n",
       "  <tbody>\n",
       "    <tr>\n",
       "      <th>18086</th>\n",
       "      <td>1973</td>\n",
       "      <td>1</td>\n",
       "      <td>100119</td>\n",
       "      <td>1.0</td>\n",
       "      <td>100129</td>\n",
       "      <td>88.0</td>\n",
       "      <td>out</td>\n",
       "    </tr>\n",
       "    <tr>\n",
       "      <th>18087</th>\n",
       "      <td>1973</td>\n",
       "      <td>2</td>\n",
       "      <td>100304</td>\n",
       "      <td>193.0</td>\n",
       "      <td>100067</td>\n",
       "      <td>71.0</td>\n",
       "      <td>out</td>\n",
       "    </tr>\n",
       "    <tr>\n",
       "      <th>18088</th>\n",
       "      <td>1973</td>\n",
       "      <td>3</td>\n",
       "      <td>100135</td>\n",
       "      <td>39.0</td>\n",
       "      <td>100376</td>\n",
       "      <td>118.0</td>\n",
       "      <td>out</td>\n",
       "    </tr>\n",
       "  </tbody>\n",
       "</table>\n",
       "</div>"
      ],
      "text/plain": [
       "       year  match_num  winner_id  winner_rank  loser_id  loser_rank window5\n",
       "18086  1973          1     100119          1.0    100129        88.0     out\n",
       "18087  1973          2     100304        193.0    100067        71.0     out\n",
       "18088  1973          3     100135         39.0    100376       118.0     out"
      ]
     },
     "metadata": {},
     "output_type": "display_data"
    }
   ],
   "source": [
    "df_info(task_01_b)"
   ]
  },
  {
   "cell_type": "code",
   "execution_count": 27,
   "metadata": {},
   "outputs": [],
   "source": [
    "# Фильтрация записей с 1980 по 2022 год\n",
    "filtered_df = task_01_b[(task_01_b['year'] >= 1984) & (task_01_b['year'] <= 2022)]\n",
    "\n",
    "# Группировка по 'winner_id', 'year' и 'window5', подсчет количества побед\n",
    "win_counts = filtered_df.groupby(['winner_id', 'year', 'window5']).size().reset_index(name='win_count')\n",
    "\n",
    "# Считаем среднее количество побед\n",
    "average_wins = win_counts.groupby(['year', 'window5'])['win_count'].mean().reset_index()\n",
    "\n",
    "# Разделение среднего количества побед на группы 'in' и 'out'\n",
    "\n",
    "average_wins_in = average_wins[average_wins['window5'] == 'in'].reset_index(drop=True)\n",
    "average_wins_out = average_wins[average_wins['window5'] == 'out'].reset_index(drop=True)"
   ]
  },
  {
   "cell_type": "code",
   "execution_count": 28,
   "metadata": {},
   "outputs": [
    {
     "data": {
      "text/html": [
       "<div>\n",
       "<style scoped>\n",
       "    .dataframe tbody tr th:only-of-type {\n",
       "        vertical-align: middle;\n",
       "    }\n",
       "\n",
       "    .dataframe tbody tr th {\n",
       "        vertical-align: top;\n",
       "    }\n",
       "\n",
       "    .dataframe thead th {\n",
       "        text-align: right;\n",
       "    }\n",
       "</style>\n",
       "<table border=\"1\" class=\"dataframe\">\n",
       "  <thead>\n",
       "    <tr style=\"text-align: right;\">\n",
       "      <th></th>\n",
       "      <th>winner_id</th>\n",
       "      <th>year</th>\n",
       "      <th>window5</th>\n",
       "      <th>win_count</th>\n",
       "    </tr>\n",
       "  </thead>\n",
       "  <tbody>\n",
       "    <tr>\n",
       "      <th>0</th>\n",
       "      <td>100119</td>\n",
       "      <td>1985</td>\n",
       "      <td>out</td>\n",
       "      <td>1</td>\n",
       "    </tr>\n",
       "    <tr>\n",
       "      <th>1</th>\n",
       "      <td>100144</td>\n",
       "      <td>1984</td>\n",
       "      <td>out</td>\n",
       "      <td>1</td>\n",
       "    </tr>\n",
       "    <tr>\n",
       "      <th>2</th>\n",
       "      <td>100144</td>\n",
       "      <td>1985</td>\n",
       "      <td>out</td>\n",
       "      <td>1</td>\n",
       "    </tr>\n",
       "  </tbody>\n",
       "</table>\n",
       "</div>"
      ],
      "text/plain": [
       "   winner_id  year window5  win_count\n",
       "0     100119  1985     out          1\n",
       "1     100144  1984     out          1\n",
       "2     100144  1985     out          1"
      ]
     },
     "execution_count": 28,
     "metadata": {},
     "output_type": "execute_result"
    }
   ],
   "source": [
    "win_counts.head(3)"
   ]
  },
  {
   "cell_type": "code",
   "execution_count": 29,
   "metadata": {},
   "outputs": [
    {
     "name": "stdout",
     "output_type": "stream",
     "text": [
      "Количество записей: \t 39\n",
      "Количество столбцов: \t 3\n",
      "Явных дубликатов: \t 0\n",
      "Пропуски присутствуют в 0 столбцах из 3:\n"
     ]
    },
    {
     "data": {
      "text/html": [
       "<div>\n",
       "<style scoped>\n",
       "    .dataframe tbody tr th:only-of-type {\n",
       "        vertical-align: middle;\n",
       "    }\n",
       "\n",
       "    .dataframe tbody tr th {\n",
       "        vertical-align: top;\n",
       "    }\n",
       "\n",
       "    .dataframe thead th {\n",
       "        text-align: right;\n",
       "    }\n",
       "</style>\n",
       "<table border=\"1\" class=\"dataframe\">\n",
       "  <thead>\n",
       "    <tr style=\"text-align: right;\">\n",
       "      <th></th>\n",
       "      <th>Пропущено %</th>\n",
       "    </tr>\n",
       "  </thead>\n",
       "  <tbody>\n",
       "  </tbody>\n",
       "</table>\n",
       "</div>"
      ],
      "text/plain": [
       "Empty DataFrame\n",
       "Columns: [Пропущено %]\n",
       "Index: []"
      ]
     },
     "metadata": {},
     "output_type": "display_data"
    },
    {
     "name": "stdout",
     "output_type": "stream",
     "text": [
      "Обобщенная информация:\n",
      "<class 'pandas.core.frame.DataFrame'>\n",
      "RangeIndex: 39 entries, 0 to 38\n",
      "Columns: 3 entries, year to win_count\n",
      "dtypes: float64(1), int64(1), object(1)\n",
      "memory usage: 1.0+ KB\n"
     ]
    },
    {
     "data": {
      "text/plain": [
       "None"
      ]
     },
     "metadata": {},
     "output_type": "display_data"
    },
    {
     "name": "stdout",
     "output_type": "stream",
     "text": [
      "Первые 3 строки:\n"
     ]
    },
    {
     "data": {
      "text/html": [
       "<div>\n",
       "<style scoped>\n",
       "    .dataframe tbody tr th:only-of-type {\n",
       "        vertical-align: middle;\n",
       "    }\n",
       "\n",
       "    .dataframe tbody tr th {\n",
       "        vertical-align: top;\n",
       "    }\n",
       "\n",
       "    .dataframe thead th {\n",
       "        text-align: right;\n",
       "    }\n",
       "</style>\n",
       "<table border=\"1\" class=\"dataframe\">\n",
       "  <thead>\n",
       "    <tr style=\"text-align: right;\">\n",
       "      <th></th>\n",
       "      <th>year</th>\n",
       "      <th>window5</th>\n",
       "      <th>win_count</th>\n",
       "    </tr>\n",
       "  </thead>\n",
       "  <tbody>\n",
       "    <tr>\n",
       "      <th>0</th>\n",
       "      <td>1984</td>\n",
       "      <td>in</td>\n",
       "      <td>1.873563</td>\n",
       "    </tr>\n",
       "    <tr>\n",
       "      <th>1</th>\n",
       "      <td>1985</td>\n",
       "      <td>in</td>\n",
       "      <td>1.966292</td>\n",
       "    </tr>\n",
       "    <tr>\n",
       "      <th>2</th>\n",
       "      <td>1986</td>\n",
       "      <td>in</td>\n",
       "      <td>2.144330</td>\n",
       "    </tr>\n",
       "  </tbody>\n",
       "</table>\n",
       "</div>"
      ],
      "text/plain": [
       "   year window5  win_count\n",
       "0  1984      in   1.873563\n",
       "1  1985      in   1.966292\n",
       "2  1986      in   2.144330"
      ]
     },
     "metadata": {},
     "output_type": "display_data"
    }
   ],
   "source": [
    "df_info(average_wins_in)\n"
   ]
  },
  {
   "cell_type": "code",
   "execution_count": 30,
   "metadata": {},
   "outputs": [
    {
     "name": "stdout",
     "output_type": "stream",
     "text": [
      "Количество записей: \t 39\n",
      "Количество столбцов: \t 3\n",
      "Явных дубликатов: \t 0\n",
      "Пропуски присутствуют в 0 столбцах из 3:\n"
     ]
    },
    {
     "data": {
      "text/html": [
       "<div>\n",
       "<style scoped>\n",
       "    .dataframe tbody tr th:only-of-type {\n",
       "        vertical-align: middle;\n",
       "    }\n",
       "\n",
       "    .dataframe tbody tr th {\n",
       "        vertical-align: top;\n",
       "    }\n",
       "\n",
       "    .dataframe thead th {\n",
       "        text-align: right;\n",
       "    }\n",
       "</style>\n",
       "<table border=\"1\" class=\"dataframe\">\n",
       "  <thead>\n",
       "    <tr style=\"text-align: right;\">\n",
       "      <th></th>\n",
       "      <th>Пропущено %</th>\n",
       "    </tr>\n",
       "  </thead>\n",
       "  <tbody>\n",
       "  </tbody>\n",
       "</table>\n",
       "</div>"
      ],
      "text/plain": [
       "Empty DataFrame\n",
       "Columns: [Пропущено %]\n",
       "Index: []"
      ]
     },
     "metadata": {},
     "output_type": "display_data"
    },
    {
     "name": "stdout",
     "output_type": "stream",
     "text": [
      "Обобщенная информация:\n",
      "<class 'pandas.core.frame.DataFrame'>\n",
      "RangeIndex: 39 entries, 0 to 38\n",
      "Columns: 3 entries, year to win_count\n",
      "dtypes: float64(1), int64(1), object(1)\n",
      "memory usage: 1.0+ KB\n"
     ]
    },
    {
     "data": {
      "text/plain": [
       "None"
      ]
     },
     "metadata": {},
     "output_type": "display_data"
    },
    {
     "name": "stdout",
     "output_type": "stream",
     "text": [
      "Первые 3 строки:\n"
     ]
    },
    {
     "data": {
      "text/html": [
       "<div>\n",
       "<style scoped>\n",
       "    .dataframe tbody tr th:only-of-type {\n",
       "        vertical-align: middle;\n",
       "    }\n",
       "\n",
       "    .dataframe tbody tr th {\n",
       "        vertical-align: top;\n",
       "    }\n",
       "\n",
       "    .dataframe thead th {\n",
       "        text-align: right;\n",
       "    }\n",
       "</style>\n",
       "<table border=\"1\" class=\"dataframe\">\n",
       "  <thead>\n",
       "    <tr style=\"text-align: right;\">\n",
       "      <th></th>\n",
       "      <th>year</th>\n",
       "      <th>window5</th>\n",
       "      <th>win_count</th>\n",
       "    </tr>\n",
       "  </thead>\n",
       "  <tbody>\n",
       "    <tr>\n",
       "      <th>0</th>\n",
       "      <td>1984</td>\n",
       "      <td>out</td>\n",
       "      <td>9.740000</td>\n",
       "    </tr>\n",
       "    <tr>\n",
       "      <th>1</th>\n",
       "      <td>1985</td>\n",
       "      <td>out</td>\n",
       "      <td>10.194719</td>\n",
       "    </tr>\n",
       "    <tr>\n",
       "      <th>2</th>\n",
       "      <td>1986</td>\n",
       "      <td>out</td>\n",
       "      <td>9.925170</td>\n",
       "    </tr>\n",
       "  </tbody>\n",
       "</table>\n",
       "</div>"
      ],
      "text/plain": [
       "   year window5  win_count\n",
       "0  1984     out   9.740000\n",
       "1  1985     out  10.194719\n",
       "2  1986     out   9.925170"
      ]
     },
     "metadata": {},
     "output_type": "display_data"
    }
   ],
   "source": [
    "df_info(average_wins_out)"
   ]
  },
  {
   "cell_type": "markdown",
   "metadata": {},
   "source": [
    "### Графическое описание распределений признака `win_count` для каждой выборки"
   ]
  },
  {
   "cell_type": "code",
   "execution_count": 31,
   "metadata": {},
   "outputs": [
    {
     "data": {
      "image/png": "[encoded data removed]",
      "text/plain": [
       "<Figure size 1000x1500 with 6 Axes>"
      ]
     },
     "metadata": {},
     "output_type": "display_data"
    }
   ],
   "source": [
    "plot_sample_data(average_wins_in.win_count, average_wins_out.win_count, title_a='in5wind', title_b='out')"
   ]
  },
  {
   "cell_type": "markdown",
   "metadata": {},
   "source": [
    "### Статистический тест на нормальность"
   ]
  },
  {
   "cell_type": "code",
   "execution_count": 32,
   "metadata": {},
   "outputs": [
    {
     "name": "stdout",
     "output_type": "stream",
     "text": [
      "alpha: 0.05\n",
      "p-value sample A 0.57\n",
      "p-value sample B 0.0\n",
      "Отвергаем нулевую гипотезу H0: Распределения в обеих группах нормальные\n",
      "Альтернативная гипотеза. H1: Распределение в одной или обеих группах отлично от нормального\n"
     ]
    }
   ],
   "source": [
    "shapiro_test(average_wins_in.win_count, average_wins_out.win_count, alpha=0.05)"
   ]
  },
  {
   "cell_type": "code",
   "execution_count": 33,
   "metadata": {},
   "outputs": [
    {
     "data": {
      "text/plain": [
       "2.299102049249689"
      ]
     },
     "execution_count": 33,
     "metadata": {},
     "output_type": "execute_result"
    }
   ],
   "source": [
    "# Среднее количество побед в группе in5window\n",
    "average_wins_in.win_count.mean()"
   ]
  },
  {
   "cell_type": "code",
   "execution_count": 34,
   "metadata": {},
   "outputs": [
    {
     "data": {
      "text/plain": [
       "10.389651533600555"
      ]
     },
     "execution_count": 34,
     "metadata": {},
     "output_type": "execute_result"
    }
   ],
   "source": [
    "# Среднее количество побед в группе out\n",
    "average_wins_out.win_count.mean()"
   ]
  },
  {
   "cell_type": "markdown",
   "metadata": {},
   "source": [
    "### Статтест Манна-Уитни"
   ]
  },
  {
   "cell_type": "markdown",
   "metadata": {},
   "source": [
    "`Тест Манна-Уитни (U-тест)` выбран для сравнения средних значений выборок, так как он подходит для независимых выборок небольшого размера и не предполагает нормальное распределение данных. Также, он позволяет провести одностороннюю проверку гипотезы о том, что среднее значение в одной выборке больше среднего значения в другой выборке."
   ]
  },
  {
   "cell_type": "code",
   "execution_count": 35,
   "metadata": {},
   "outputs": [
    {
     "name": "stdout",
     "output_type": "stream",
     "text": [
      "U-статистика: 0.0\n",
      "p-значение: 1.5393187778399125e-14\n",
      "Отвергаем нулевую гипотезу: Среднее количество побед в группе out не больше среднего в группе in\n",
      "Принимаем альтернативную гипотезу: Среднее количество побед в группе out больше среднего в группе in\n"
     ]
    }
   ],
   "source": [
    "# Формулировка гипотез\n",
    "H0 = 'Среднее количество побед в группе out не больше среднего в группе in'\n",
    "H1 = 'Среднее количество побед в группе out больше среднего в группе in'\n",
    "\n",
    "# Уровень значимости\n",
    "alpha = 0.05\n",
    "\n",
    "# Проведение одностороннего U-теста Манна-Уитни\n",
    "stat, p = mannwhitneyu(average_wins_in.win_count, average_wins_out.win_count, alternative='less')\n",
    "\n",
    "# Вывод результатов\n",
    "print(f'U-статистика: {stat}')\n",
    "print(f'p-значение: {p}')\n",
    "\n",
    "# Сравнение p-значения с уровнем значимости\n",
    "if p < alpha:\n",
    "    print(f'Отвергаем нулевую гипотезу: {H0}')\n",
    "    print(f'Принимаем альтернативную гипотезу: {H1}')\n",
    "else:\n",
    "    print(f'Принимаем нулевую гипотезу: {H0}')"
   ]
  },
  {
   "cell_type": "markdown",
   "metadata": {},
   "source": [
    "### Вывод по задаче 01 b\n",
    "\n",
    "Вывод: \n",
    "\n",
    "Если ранг игрока находится в окне +-5 позиций, то вероятность победы будет значительно отличаться (вероятность победы ниже) от гипотезы из предыдущего случая (там разницы нет). Для формирования репрезентативной выборки сделано усредненние побед всех игроков по годам."
   ]
  },
  {
   "cell_type": "markdown",
   "metadata": {},
   "source": [
    "## Задача_02\n",
    ">Правда ли, что среднее количество сетов, которое необходимо любому игроку для победы в матче, сокращается со временем? Разбейте данные на две группы — с 1980 до 2001 гг. и 2002-2022 гг. Как изменилось среднее количество сетов, которое победитель затратил на игру? Является ли разница средних этих двух выборок статистически значимой? Выбор статистического теста обоснуйте.\n",
    "\n",
    "Количество сетов можно рассчитать, используя признак `score`"
   ]
  },
  {
   "cell_type": "code",
   "execution_count": 36,
   "metadata": {},
   "outputs": [
    {
     "name": "stdout",
     "output_type": "stream",
     "text": [
      "Образец для количества сетов: 0\n"
     ]
    },
    {
     "data": {
      "text/html": [
       "<div>\n",
       "<style scoped>\n",
       "    .dataframe tbody tr th:only-of-type {\n",
       "        vertical-align: middle;\n",
       "    }\n",
       "\n",
       "    .dataframe tbody tr th {\n",
       "        vertical-align: top;\n",
       "    }\n",
       "\n",
       "    .dataframe thead th {\n",
       "        text-align: right;\n",
       "    }\n",
       "</style>\n",
       "<table border=\"1\" class=\"dataframe\">\n",
       "  <thead>\n",
       "    <tr style=\"text-align: right;\">\n",
       "      <th></th>\n",
       "      <th>year</th>\n",
       "      <th>score</th>\n",
       "      <th>winner_id</th>\n",
       "      <th>sets_count</th>\n",
       "    </tr>\n",
       "  </thead>\n",
       "  <tbody>\n",
       "    <tr>\n",
       "      <th>129</th>\n",
       "      <td>1968</td>\n",
       "      <td>W/O</td>\n",
       "      <td>100099</td>\n",
       "      <td>0</td>\n",
       "    </tr>\n",
       "  </tbody>\n",
       "</table>\n",
       "</div>"
      ],
      "text/plain": [
       "     year score  winner_id  sets_count\n",
       "129  1968   W/O     100099           0"
      ]
     },
     "metadata": {},
     "output_type": "display_data"
    },
    {
     "name": "stdout",
     "output_type": "stream",
     "text": [
      "Образец для количества сетов: 1\n"
     ]
    },
    {
     "data": {
      "text/html": [
       "<div>\n",
       "<style scoped>\n",
       "    .dataframe tbody tr th:only-of-type {\n",
       "        vertical-align: middle;\n",
       "    }\n",
       "\n",
       "    .dataframe tbody tr th {\n",
       "        vertical-align: top;\n",
       "    }\n",
       "\n",
       "    .dataframe thead th {\n",
       "        text-align: right;\n",
       "    }\n",
       "</style>\n",
       "<table border=\"1\" class=\"dataframe\">\n",
       "  <thead>\n",
       "    <tr style=\"text-align: right;\">\n",
       "      <th></th>\n",
       "      <th>year</th>\n",
       "      <th>score</th>\n",
       "      <th>winner_id</th>\n",
       "      <th>sets_count</th>\n",
       "    </tr>\n",
       "  </thead>\n",
       "  <tbody>\n",
       "    <tr>\n",
       "      <th>67</th>\n",
       "      <td>1968</td>\n",
       "      <td>1-0 RET</td>\n",
       "      <td>109825</td>\n",
       "      <td>1</td>\n",
       "    </tr>\n",
       "  </tbody>\n",
       "</table>\n",
       "</div>"
      ],
      "text/plain": [
       "    year    score  winner_id  sets_count\n",
       "67  1968  1-0 RET     109825           1"
      ]
     },
     "metadata": {},
     "output_type": "display_data"
    },
    {
     "name": "stdout",
     "output_type": "stream",
     "text": [
      "Образец для количества сетов: 2\n"
     ]
    },
    {
     "data": {
      "text/html": [
       "<div>\n",
       "<style scoped>\n",
       "    .dataframe tbody tr th:only-of-type {\n",
       "        vertical-align: middle;\n",
       "    }\n",
       "\n",
       "    .dataframe tbody tr th {\n",
       "        vertical-align: top;\n",
       "    }\n",
       "\n",
       "    .dataframe thead th {\n",
       "        text-align: right;\n",
       "    }\n",
       "</style>\n",
       "<table border=\"1\" class=\"dataframe\">\n",
       "  <thead>\n",
       "    <tr style=\"text-align: right;\">\n",
       "      <th></th>\n",
       "      <th>year</th>\n",
       "      <th>score</th>\n",
       "      <th>winner_id</th>\n",
       "      <th>sets_count</th>\n",
       "    </tr>\n",
       "  </thead>\n",
       "  <tbody>\n",
       "    <tr>\n",
       "      <th>0</th>\n",
       "      <td>1968</td>\n",
       "      <td>6-1 7-5</td>\n",
       "      <td>112411</td>\n",
       "      <td>2</td>\n",
       "    </tr>\n",
       "  </tbody>\n",
       "</table>\n",
       "</div>"
      ],
      "text/plain": [
       "   year    score  winner_id  sets_count\n",
       "0  1968  6-1 7-5     112411           2"
      ]
     },
     "metadata": {},
     "output_type": "display_data"
    },
    {
     "name": "stdout",
     "output_type": "stream",
     "text": [
      "Образец для количества сетов: 3\n"
     ]
    },
    {
     "data": {
      "text/html": [
       "<div>\n",
       "<style scoped>\n",
       "    .dataframe tbody tr th:only-of-type {\n",
       "        vertical-align: middle;\n",
       "    }\n",
       "\n",
       "    .dataframe tbody tr th {\n",
       "        vertical-align: top;\n",
       "    }\n",
       "\n",
       "    .dataframe thead th {\n",
       "        text-align: right;\n",
       "    }\n",
       "</style>\n",
       "<table border=\"1\" class=\"dataframe\">\n",
       "  <thead>\n",
       "    <tr style=\"text-align: right;\">\n",
       "      <th></th>\n",
       "      <th>year</th>\n",
       "      <th>score</th>\n",
       "      <th>winner_id</th>\n",
       "      <th>sets_count</th>\n",
       "    </tr>\n",
       "  </thead>\n",
       "  <tbody>\n",
       "    <tr>\n",
       "      <th>5</th>\n",
       "      <td>1968</td>\n",
       "      <td>4-6 8-6 6-2</td>\n",
       "      <td>207073</td>\n",
       "      <td>3</td>\n",
       "    </tr>\n",
       "  </tbody>\n",
       "</table>\n",
       "</div>"
      ],
      "text/plain": [
       "   year        score  winner_id  sets_count\n",
       "5  1968  4-6 8-6 6-2     207073           3"
      ]
     },
     "metadata": {},
     "output_type": "display_data"
    },
    {
     "name": "stdout",
     "output_type": "stream",
     "text": [
      "Образец для количества сетов: 4\n"
     ]
    },
    {
     "data": {
      "text/html": [
       "<div>\n",
       "<style scoped>\n",
       "    .dataframe tbody tr th:only-of-type {\n",
       "        vertical-align: middle;\n",
       "    }\n",
       "\n",
       "    .dataframe tbody tr th {\n",
       "        vertical-align: top;\n",
       "    }\n",
       "\n",
       "    .dataframe thead th {\n",
       "        text-align: right;\n",
       "    }\n",
       "</style>\n",
       "<table border=\"1\" class=\"dataframe\">\n",
       "  <thead>\n",
       "    <tr style=\"text-align: right;\">\n",
       "      <th></th>\n",
       "      <th>year</th>\n",
       "      <th>score</th>\n",
       "      <th>winner_id</th>\n",
       "      <th>sets_count</th>\n",
       "    </tr>\n",
       "  </thead>\n",
       "  <tbody>\n",
       "    <tr>\n",
       "      <th>32</th>\n",
       "      <td>1968</td>\n",
       "      <td>6-3 6-2 0-6 6-3</td>\n",
       "      <td>100099</td>\n",
       "      <td>4</td>\n",
       "    </tr>\n",
       "  </tbody>\n",
       "</table>\n",
       "</div>"
      ],
      "text/plain": [
       "    year            score  winner_id  sets_count\n",
       "32  1968  6-3 6-2 0-6 6-3     100099           4"
      ]
     },
     "metadata": {},
     "output_type": "display_data"
    },
    {
     "name": "stdout",
     "output_type": "stream",
     "text": [
      "Образец для количества сетов: 5\n"
     ]
    },
    {
     "data": {
      "text/html": [
       "<div>\n",
       "<style scoped>\n",
       "    .dataframe tbody tr th:only-of-type {\n",
       "        vertical-align: middle;\n",
       "    }\n",
       "\n",
       "    .dataframe tbody tr th {\n",
       "        vertical-align: top;\n",
       "    }\n",
       "\n",
       "    .dataframe thead th {\n",
       "        text-align: right;\n",
       "    }\n",
       "</style>\n",
       "<table border=\"1\" class=\"dataframe\">\n",
       "  <thead>\n",
       "    <tr style=\"text-align: right;\">\n",
       "      <th></th>\n",
       "      <th>year</th>\n",
       "      <th>score</th>\n",
       "      <th>winner_id</th>\n",
       "      <th>sets_count</th>\n",
       "    </tr>\n",
       "  </thead>\n",
       "  <tbody>\n",
       "    <tr>\n",
       "      <th>43</th>\n",
       "      <td>1968</td>\n",
       "      <td>6-0 2-6 6-3 4-6 7-5</td>\n",
       "      <td>100282</td>\n",
       "      <td>5</td>\n",
       "    </tr>\n",
       "  </tbody>\n",
       "</table>\n",
       "</div>"
      ],
      "text/plain": [
       "    year                score  winner_id  sets_count\n",
       "43  1968  6-0 2-6 6-3 4-6 7-5     100282           5"
      ]
     },
     "metadata": {},
     "output_type": "display_data"
    },
    {
     "name": "stdout",
     "output_type": "stream",
     "text": [
      "Количество записей: \t 191911\n",
      "Количество столбцов: \t 4\n",
      "Явных дубликатов: \t 17938\n",
      "Пропуски присутствуют в 0 столбцах из 4:\n"
     ]
    },
    {
     "data": {
      "text/html": [
       "<div>\n",
       "<style scoped>\n",
       "    .dataframe tbody tr th:only-of-type {\n",
       "        vertical-align: middle;\n",
       "    }\n",
       "\n",
       "    .dataframe tbody tr th {\n",
       "        vertical-align: top;\n",
       "    }\n",
       "\n",
       "    .dataframe thead th {\n",
       "        text-align: right;\n",
       "    }\n",
       "</style>\n",
       "<table border=\"1\" class=\"dataframe\">\n",
       "  <thead>\n",
       "    <tr style=\"text-align: right;\">\n",
       "      <th></th>\n",
       "      <th>Пропущено %</th>\n",
       "    </tr>\n",
       "  </thead>\n",
       "  <tbody>\n",
       "  </tbody>\n",
       "</table>\n",
       "</div>"
      ],
      "text/plain": [
       "Empty DataFrame\n",
       "Columns: [Пропущено %]\n",
       "Index: []"
      ]
     },
     "metadata": {},
     "output_type": "display_data"
    },
    {
     "name": "stdout",
     "output_type": "stream",
     "text": [
      "Обобщенная информация:\n",
      "<class 'pandas.core.frame.DataFrame'>\n",
      "Index: 191911 entries, 0 to 191919\n",
      "Columns: 4 entries, year to sets_count\n",
      "dtypes: int64(3), object(1)\n",
      "memory usage: 7.3+ MB\n"
     ]
    },
    {
     "data": {
      "text/plain": [
       "None"
      ]
     },
     "metadata": {},
     "output_type": "display_data"
    },
    {
     "name": "stdout",
     "output_type": "stream",
     "text": [
      "Первые 3 строки:\n"
     ]
    },
    {
     "data": {
      "text/html": [
       "<div>\n",
       "<style scoped>\n",
       "    .dataframe tbody tr th:only-of-type {\n",
       "        vertical-align: middle;\n",
       "    }\n",
       "\n",
       "    .dataframe tbody tr th {\n",
       "        vertical-align: top;\n",
       "    }\n",
       "\n",
       "    .dataframe thead th {\n",
       "        text-align: right;\n",
       "    }\n",
       "</style>\n",
       "<table border=\"1\" class=\"dataframe\">\n",
       "  <thead>\n",
       "    <tr style=\"text-align: right;\">\n",
       "      <th></th>\n",
       "      <th>year</th>\n",
       "      <th>score</th>\n",
       "      <th>winner_id</th>\n",
       "      <th>sets_count</th>\n",
       "    </tr>\n",
       "  </thead>\n",
       "  <tbody>\n",
       "    <tr>\n",
       "      <th>0</th>\n",
       "      <td>1968</td>\n",
       "      <td>6-1 7-5</td>\n",
       "      <td>112411</td>\n",
       "      <td>2</td>\n",
       "    </tr>\n",
       "    <tr>\n",
       "      <th>1</th>\n",
       "      <td>1968</td>\n",
       "      <td>6-1 6-1</td>\n",
       "      <td>126914</td>\n",
       "      <td>2</td>\n",
       "    </tr>\n",
       "    <tr>\n",
       "      <th>2</th>\n",
       "      <td>1968</td>\n",
       "      <td>6-2 6-2</td>\n",
       "      <td>209523</td>\n",
       "      <td>2</td>\n",
       "    </tr>\n",
       "  </tbody>\n",
       "</table>\n",
       "</div>"
      ],
      "text/plain": [
       "   year    score  winner_id  sets_count\n",
       "0  1968  6-1 7-5     112411           2\n",
       "1  1968  6-1 6-1     126914           2\n",
       "2  1968  6-2 6-2     209523           2"
      ]
     },
     "metadata": {},
     "output_type": "display_data"
    }
   ],
   "source": [
    "# Создание выборки к задаче\n",
    "combined_df = pd.read_csv('full_data/combined_atp_matches.csv')\n",
    "task_02 = combined_df[['year', 'score', 'winner_id']].dropna()\n",
    "\n",
    "# Создаем признак с количеством сетов\n",
    "# Учитываем только те сеты при подсчете, где явно указан счет партии в сете\n",
    "def count_sets_with_scores(score):\n",
    "    sets = re.findall(r'\\d+-\\d+', score)\n",
    "    return len(sets)\n",
    "\n",
    "task_02['sets_count'] = task_02['score'].apply(count_sets_with_scores)\n",
    "\n",
    "# Образец разбиения score на количество сетов\n",
    "unique_sets_count = sorted(task_02['sets_count'].unique())\n",
    "for count in unique_sets_count:\n",
    "    print(f'Образец для количества сетов: {count}')\n",
    "    display(task_02[task_02['sets_count'] == count].head(1))\n",
    "\n",
    "df_info(task_02)"
   ]
  },
  {
   "cell_type": "code",
   "execution_count": 37,
   "metadata": {},
   "outputs": [
    {
     "name": "stdout",
     "output_type": "stream",
     "text": [
      "Образец для количества сетов: 0\n"
     ]
    },
    {
     "data": {
      "text/html": [
       "<div>\n",
       "<style scoped>\n",
       "    .dataframe tbody tr th:only-of-type {\n",
       "        vertical-align: middle;\n",
       "    }\n",
       "\n",
       "    .dataframe tbody tr th {\n",
       "        vertical-align: top;\n",
       "    }\n",
       "\n",
       "    .dataframe thead th {\n",
       "        text-align: right;\n",
       "    }\n",
       "</style>\n",
       "<table border=\"1\" class=\"dataframe\">\n",
       "  <thead>\n",
       "    <tr style=\"text-align: right;\">\n",
       "      <th></th>\n",
       "      <th>year</th>\n",
       "      <th>score</th>\n",
       "      <th>winner_id</th>\n",
       "      <th>sets_count</th>\n",
       "    </tr>\n",
       "  </thead>\n",
       "  <tbody>\n",
       "    <tr>\n",
       "      <th>129</th>\n",
       "      <td>1968</td>\n",
       "      <td>W/O</td>\n",
       "      <td>100099</td>\n",
       "      <td>0</td>\n",
       "    </tr>\n",
       "  </tbody>\n",
       "</table>\n",
       "</div>"
      ],
      "text/plain": [
       "     year score  winner_id  sets_count\n",
       "129  1968   W/O     100099           0"
      ]
     },
     "metadata": {},
     "output_type": "display_data"
    },
    {
     "name": "stdout",
     "output_type": "stream",
     "text": [
      "Образец для количества сетов: 1\n"
     ]
    },
    {
     "data": {
      "text/html": [
       "<div>\n",
       "<style scoped>\n",
       "    .dataframe tbody tr th:only-of-type {\n",
       "        vertical-align: middle;\n",
       "    }\n",
       "\n",
       "    .dataframe tbody tr th {\n",
       "        vertical-align: top;\n",
       "    }\n",
       "\n",
       "    .dataframe thead th {\n",
       "        text-align: right;\n",
       "    }\n",
       "</style>\n",
       "<table border=\"1\" class=\"dataframe\">\n",
       "  <thead>\n",
       "    <tr style=\"text-align: right;\">\n",
       "      <th></th>\n",
       "      <th>year</th>\n",
       "      <th>score</th>\n",
       "      <th>winner_id</th>\n",
       "      <th>sets_count</th>\n",
       "    </tr>\n",
       "  </thead>\n",
       "  <tbody>\n",
       "    <tr>\n",
       "      <th>67</th>\n",
       "      <td>1968</td>\n",
       "      <td>1-0 RET</td>\n",
       "      <td>109825</td>\n",
       "      <td>1</td>\n",
       "    </tr>\n",
       "  </tbody>\n",
       "</table>\n",
       "</div>"
      ],
      "text/plain": [
       "    year    score  winner_id  sets_count\n",
       "67  1968  1-0 RET     109825           1"
      ]
     },
     "metadata": {},
     "output_type": "display_data"
    },
    {
     "name": "stdout",
     "output_type": "stream",
     "text": [
      "Образец для количества сетов: 2\n"
     ]
    },
    {
     "data": {
      "text/html": [
       "<div>\n",
       "<style scoped>\n",
       "    .dataframe tbody tr th:only-of-type {\n",
       "        vertical-align: middle;\n",
       "    }\n",
       "\n",
       "    .dataframe tbody tr th {\n",
       "        vertical-align: top;\n",
       "    }\n",
       "\n",
       "    .dataframe thead th {\n",
       "        text-align: right;\n",
       "    }\n",
       "</style>\n",
       "<table border=\"1\" class=\"dataframe\">\n",
       "  <thead>\n",
       "    <tr style=\"text-align: right;\">\n",
       "      <th></th>\n",
       "      <th>year</th>\n",
       "      <th>score</th>\n",
       "      <th>winner_id</th>\n",
       "      <th>sets_count</th>\n",
       "    </tr>\n",
       "  </thead>\n",
       "  <tbody>\n",
       "    <tr>\n",
       "      <th>0</th>\n",
       "      <td>1968</td>\n",
       "      <td>6-1 7-5</td>\n",
       "      <td>112411</td>\n",
       "      <td>2</td>\n",
       "    </tr>\n",
       "  </tbody>\n",
       "</table>\n",
       "</div>"
      ],
      "text/plain": [
       "   year    score  winner_id  sets_count\n",
       "0  1968  6-1 7-5     112411           2"
      ]
     },
     "metadata": {},
     "output_type": "display_data"
    },
    {
     "name": "stdout",
     "output_type": "stream",
     "text": [
      "Образец для количества сетов: 3\n"
     ]
    },
    {
     "data": {
      "text/html": [
       "<div>\n",
       "<style scoped>\n",
       "    .dataframe tbody tr th:only-of-type {\n",
       "        vertical-align: middle;\n",
       "    }\n",
       "\n",
       "    .dataframe tbody tr th {\n",
       "        vertical-align: top;\n",
       "    }\n",
       "\n",
       "    .dataframe thead th {\n",
       "        text-align: right;\n",
       "    }\n",
       "</style>\n",
       "<table border=\"1\" class=\"dataframe\">\n",
       "  <thead>\n",
       "    <tr style=\"text-align: right;\">\n",
       "      <th></th>\n",
       "      <th>year</th>\n",
       "      <th>score</th>\n",
       "      <th>winner_id</th>\n",
       "      <th>sets_count</th>\n",
       "    </tr>\n",
       "  </thead>\n",
       "  <tbody>\n",
       "    <tr>\n",
       "      <th>5</th>\n",
       "      <td>1968</td>\n",
       "      <td>4-6 8-6 6-2</td>\n",
       "      <td>207073</td>\n",
       "      <td>3</td>\n",
       "    </tr>\n",
       "  </tbody>\n",
       "</table>\n",
       "</div>"
      ],
      "text/plain": [
       "   year        score  winner_id  sets_count\n",
       "5  1968  4-6 8-6 6-2     207073           3"
      ]
     },
     "metadata": {},
     "output_type": "display_data"
    },
    {
     "name": "stdout",
     "output_type": "stream",
     "text": [
      "Образец для количества сетов: 4\n"
     ]
    },
    {
     "data": {
      "text/html": [
       "<div>\n",
       "<style scoped>\n",
       "    .dataframe tbody tr th:only-of-type {\n",
       "        vertical-align: middle;\n",
       "    }\n",
       "\n",
       "    .dataframe tbody tr th {\n",
       "        vertical-align: top;\n",
       "    }\n",
       "\n",
       "    .dataframe thead th {\n",
       "        text-align: right;\n",
       "    }\n",
       "</style>\n",
       "<table border=\"1\" class=\"dataframe\">\n",
       "  <thead>\n",
       "    <tr style=\"text-align: right;\">\n",
       "      <th></th>\n",
       "      <th>year</th>\n",
       "      <th>score</th>\n",
       "      <th>winner_id</th>\n",
       "      <th>sets_count</th>\n",
       "    </tr>\n",
       "  </thead>\n",
       "  <tbody>\n",
       "    <tr>\n",
       "      <th>32</th>\n",
       "      <td>1968</td>\n",
       "      <td>6-3 6-2 0-6 6-3</td>\n",
       "      <td>100099</td>\n",
       "      <td>4</td>\n",
       "    </tr>\n",
       "  </tbody>\n",
       "</table>\n",
       "</div>"
      ],
      "text/plain": [
       "    year            score  winner_id  sets_count\n",
       "32  1968  6-3 6-2 0-6 6-3     100099           4"
      ]
     },
     "metadata": {},
     "output_type": "display_data"
    },
    {
     "name": "stdout",
     "output_type": "stream",
     "text": [
      "Образец для количества сетов: 5\n"
     ]
    },
    {
     "data": {
      "text/html": [
       "<div>\n",
       "<style scoped>\n",
       "    .dataframe tbody tr th:only-of-type {\n",
       "        vertical-align: middle;\n",
       "    }\n",
       "\n",
       "    .dataframe tbody tr th {\n",
       "        vertical-align: top;\n",
       "    }\n",
       "\n",
       "    .dataframe thead th {\n",
       "        text-align: right;\n",
       "    }\n",
       "</style>\n",
       "<table border=\"1\" class=\"dataframe\">\n",
       "  <thead>\n",
       "    <tr style=\"text-align: right;\">\n",
       "      <th></th>\n",
       "      <th>year</th>\n",
       "      <th>score</th>\n",
       "      <th>winner_id</th>\n",
       "      <th>sets_count</th>\n",
       "    </tr>\n",
       "  </thead>\n",
       "  <tbody>\n",
       "    <tr>\n",
       "      <th>43</th>\n",
       "      <td>1968</td>\n",
       "      <td>6-0 2-6 6-3 4-6 7-5</td>\n",
       "      <td>100282</td>\n",
       "      <td>5</td>\n",
       "    </tr>\n",
       "  </tbody>\n",
       "</table>\n",
       "</div>"
      ],
      "text/plain": [
       "    year                score  winner_id  sets_count\n",
       "43  1968  6-0 2-6 6-3 4-6 7-5     100282           5"
      ]
     },
     "metadata": {},
     "output_type": "display_data"
    },
    {
     "name": "stdout",
     "output_type": "stream",
     "text": [
      "Количество записей: \t 173973\n",
      "Количество столбцов: \t 4\n",
      "Явных дубликатов: \t 0\n",
      "Пропуски присутствуют в 0 столбцах из 4:\n"
     ]
    },
    {
     "data": {
      "text/html": [
       "<div>\n",
       "<style scoped>\n",
       "    .dataframe tbody tr th:only-of-type {\n",
       "        vertical-align: middle;\n",
       "    }\n",
       "\n",
       "    .dataframe tbody tr th {\n",
       "        vertical-align: top;\n",
       "    }\n",
       "\n",
       "    .dataframe thead th {\n",
       "        text-align: right;\n",
       "    }\n",
       "</style>\n",
       "<table border=\"1\" class=\"dataframe\">\n",
       "  <thead>\n",
       "    <tr style=\"text-align: right;\">\n",
       "      <th></th>\n",
       "      <th>Пропущено %</th>\n",
       "    </tr>\n",
       "  </thead>\n",
       "  <tbody>\n",
       "  </tbody>\n",
       "</table>\n",
       "</div>"
      ],
      "text/plain": [
       "Empty DataFrame\n",
       "Columns: [Пропущено %]\n",
       "Index: []"
      ]
     },
     "metadata": {},
     "output_type": "display_data"
    },
    {
     "name": "stdout",
     "output_type": "stream",
     "text": [
      "Обобщенная информация:\n",
      "<class 'pandas.core.frame.DataFrame'>\n",
      "Index: 173973 entries, 0 to 191919\n",
      "Columns: 4 entries, year to sets_count\n",
      "dtypes: int64(3), object(1)\n",
      "memory usage: 6.6+ MB\n"
     ]
    },
    {
     "data": {
      "text/plain": [
       "None"
      ]
     },
     "metadata": {},
     "output_type": "display_data"
    },
    {
     "name": "stdout",
     "output_type": "stream",
     "text": [
      "Первые 3 строки:\n"
     ]
    },
    {
     "data": {
      "text/html": [
       "<div>\n",
       "<style scoped>\n",
       "    .dataframe tbody tr th:only-of-type {\n",
       "        vertical-align: middle;\n",
       "    }\n",
       "\n",
       "    .dataframe tbody tr th {\n",
       "        vertical-align: top;\n",
       "    }\n",
       "\n",
       "    .dataframe thead th {\n",
       "        text-align: right;\n",
       "    }\n",
       "</style>\n",
       "<table border=\"1\" class=\"dataframe\">\n",
       "  <thead>\n",
       "    <tr style=\"text-align: right;\">\n",
       "      <th></th>\n",
       "      <th>year</th>\n",
       "      <th>score</th>\n",
       "      <th>winner_id</th>\n",
       "      <th>sets_count</th>\n",
       "    </tr>\n",
       "  </thead>\n",
       "  <tbody>\n",
       "    <tr>\n",
       "      <th>0</th>\n",
       "      <td>1968</td>\n",
       "      <td>6-1 7-5</td>\n",
       "      <td>112411</td>\n",
       "      <td>2</td>\n",
       "    </tr>\n",
       "    <tr>\n",
       "      <th>1</th>\n",
       "      <td>1968</td>\n",
       "      <td>6-1 6-1</td>\n",
       "      <td>126914</td>\n",
       "      <td>2</td>\n",
       "    </tr>\n",
       "    <tr>\n",
       "      <th>2</th>\n",
       "      <td>1968</td>\n",
       "      <td>6-2 6-2</td>\n",
       "      <td>209523</td>\n",
       "      <td>2</td>\n",
       "    </tr>\n",
       "  </tbody>\n",
       "</table>\n",
       "</div>"
      ],
      "text/plain": [
       "   year    score  winner_id  sets_count\n",
       "0  1968  6-1 7-5     112411           2\n",
       "1  1968  6-1 6-1     126914           2\n",
       "2  1968  6-2 6-2     209523           2"
      ]
     },
     "metadata": {},
     "output_type": "display_data"
    }
   ],
   "source": [
    "# Удаление полных дубликатов\n",
    "task_02 = task_02.drop_duplicates()\n",
    "\n",
    "# Образец разбиения score на количество сетов\n",
    "unique_sets_count = sorted(task_02['sets_count'].unique())\n",
    "for count in unique_sets_count:\n",
    "    print(f'Образец для количества сетов: {count}')\n",
    "    display(task_02[task_02['sets_count'] == count].head(1))\n",
    "\n",
    "df_info(task_02)"
   ]
  },
  {
   "cell_type": "code",
   "execution_count": 38,
   "metadata": {},
   "outputs": [
    {
     "data": {
      "image/png": "[encoded data removed]",
      "text/plain": [
       "<Figure size 1000x600 with 1 Axes>"
      ]
     },
     "metadata": {},
     "output_type": "display_data"
    }
   ],
   "source": [
    "# Рапределение количества сетов, всего\n",
    "# Фильтрация данных по годам\n",
    "task_02_1980_2001 = task_02[(task_02['year'] >= 1980) & (task_02['year'] <= 2001)].reset_index(drop=True)\n",
    "task_02_2002_2023 = task_02[(task_02['year'] > 2001) & (task_02['year'] <= 2023)].reset_index(drop=True)\n",
    "\n",
    "# Создание позиций для баров\n",
    "positions = range(1, max(task_02['sets_count']) + 2, 1)\n",
    "\n",
    "# Построение гистограммы для каждой группы с разными цветами\n",
    "plt.figure(figsize=(10, 6))\n",
    "plt.bar([pos - 0.2 for pos in positions], \n",
    "        task_02_1980_2001['sets_count'].value_counts().sort_index(), \n",
    "        width=0.4, \n",
    "        color='red', \n",
    "        alpha=0.7, \n",
    "        label='1980-2000')\n",
    "plt.bar([pos + 0.2 for pos in positions], \n",
    "        task_02_2002_2023['sets_count'].value_counts().sort_index(), \n",
    "        width=0.4, \n",
    "        color='orange', \n",
    "        alpha=0.7, \n",
    "        label='2000-2023')\n",
    "\n",
    "plt.title('Рапределение количества побед по сетам')\n",
    "plt.xlabel('Количество сетов')\n",
    "plt.ylabel('Количество побед')\n",
    "plt.legend()\n",
    "plt.show()"
   ]
  },
  {
   "cell_type": "markdown",
   "metadata": {},
   "source": [
    "### Графическое описание распределений признака для каждой выборки"
   ]
  },
  {
   "cell_type": "code",
   "execution_count": 39,
   "metadata": {},
   "outputs": [
    {
     "data": {
      "image/png": "[encoded data removed]",
      "text/plain": [
       "<Figure size 1000x1500 with 6 Axes>"
      ]
     },
     "metadata": {},
     "output_type": "display_data"
    }
   ],
   "source": [
    "plot_sample_data(task_02_1980_2001.sets_count, task_02_2002_2023.sets_count, title_a='1980_2001', title_b='2002_2023')"
   ]
  },
  {
   "cell_type": "code",
   "execution_count": 40,
   "metadata": {},
   "outputs": [
    {
     "name": "stdout",
     "output_type": "stream",
     "text": [
      "Среднее количество сетов для побед в периоде 1980-2001: 2.6531740125141265, общее количество партий: 72558\n",
      "Среднее количество сетов для побед в периоде 2002-2023: 2.668783561370551, общее количество партий: 60151\n"
     ]
    }
   ],
   "source": [
    "# Сравнение среднего количества побед\n",
    "\n",
    "print(f\"Среднее количество сетов для побед в периоде 1980-2001: {task_02_1980_2001.sets_count.mean()}, общее количество партий: {len(task_02_1980_2001.sets_count)}\")\n",
    "print(f\"Среднее количество сетов для побед в периоде 2002-2023: {task_02_2002_2023.sets_count.mean()}, общее количество партий: {len(task_02_2002_2023.sets_count)}\")"
   ]
  },
  {
   "cell_type": "markdown",
   "metadata": {},
   "source": [
    "### Статистический тест на нормальность"
   ]
  },
  {
   "cell_type": "code",
   "execution_count": 41,
   "metadata": {},
   "outputs": [
    {
     "name": "stdout",
     "output_type": "stream",
     "text": [
      "alpha: 0.05\n",
      "p-value sample A 0.0\n",
      "p-value sample B 0.0\n",
      "Отвергаем нулевую гипотезу H0: Распределения в обеих группах нормальные\n",
      "Альтернативная гипотеза. H1: Распределение в одной или обеих группах отлично от нормального\n"
     ]
    }
   ],
   "source": [
    "shapiro_test(task_02_1980_2001.sets_count, task_02_2002_2023.sets_count, alpha=0.05)"
   ]
  },
  {
   "cell_type": "markdown",
   "metadata": {},
   "source": [
    "Примем с работе, что выборки все же нормально распределены, на основании графического представления. QQ plot и boxplot отражают это наиболее ясно."
   ]
  },
  {
   "cell_type": "markdown",
   "metadata": {},
   "source": [
    "### Z тест"
   ]
  },
  {
   "cell_type": "markdown",
   "metadata": {},
   "source": [
    "Обоснование выбора теста:\n",
    "\n",
    "Z-тест подходит для сравнения средних двух независимых выборок, когда выполнены следующие условия:\n",
    "\n",
    "Большой объем выборок: Для каждой из выборок количество наблюдений достаточно велико (обычно более 30), что позволяет применять Центральную предельную теорему.\n",
    "\n",
    "Распределение выборочных средних близко к нормальному: Предполагается, что данные распределены нормально, или что из-за большого размера выборок распределение средних можно считать нормальным на основании Центральной предельной теоремы.\n",
    "\n",
    "Известные или предполагаемые равные дисперсии: Значения в выборках должны иметь примерно одинаковые дисперсии. Если дисперсии сильно отличаются, следует использовать другие виды тестов (например, t-тест Уэлча).\n",
    "\n",
    "Независимость выборок: Наблюдения в одной выборке не должны влиять на наблюдения в другой.\n",
    "В вашем случае, сравнение среднего количества сетов для победы между двумя временными периодами (1980-2001 и 2002-2023) с большим количеством данных (60 000 наблюдений) подходит под эти критерии. Допущение о нормальности распределения усиливается благодаря большому размеру выборки и предположению о том, что выборочные средние будут распределены нормально.\n",
    "\n",
    "Также, предполагается, что данные за разные годы независимы, что является важным условием для z-теста. И хотя дисперсии могли измениться со временем, z-тест может быть использован как первичная проверка различий между средними, особенно при больших объемах данных, когда влияние несоответствия дисперсий снижается.\n",
    "\n",
    "Если дисперсии выборок неизвестны или предположение о равенстве дисперсий сомнительно, можно использовать t-тест с поправкой Уэлча, который не требует равенства дисперсий."
   ]
  },
  {
   "cell_type": "code",
   "execution_count": 42,
   "metadata": {},
   "outputs": [
    {
     "name": "stdout",
     "output_type": "stream",
     "text": [
      "Z-statistic: -3.4641509089513445\n",
      "P-value: 0.999734045988888\n",
      "Не отвергаем нулевую гипотезу - нет достаточных доказательств считать среднее первой выборки 1980_2001 большим\n"
     ]
    }
   ],
   "source": [
    "# Нулевая гипотеза: среднее значение первой выборки меньше или равно среднему значению второй выборки\n",
    "# Альтернативная гипотеза: среднее значение первой выборки больше среднего значения второй выборки\n",
    "\n",
    "# Проведем z-тест\n",
    "z_stat, p_value = ztest(task_02_1980_2001.sets_count, task_02_2002_2023.sets_count, alternative='larger')\n",
    "\n",
    "print(f'Z-statistic: {z_stat}')\n",
    "print(f'P-value: {p_value}')\n",
    "\n",
    "# Установим уровень значимости, например, 0.05\n",
    "alpha = 0.05\n",
    "\n",
    "# Проверим нулевую гипотезу\n",
    "if p_value < alpha:\n",
    "    print(\"Отвергаем нулевую гипотезу - есть достаточные доказательства, что среднее первой выборки 1980_2001 больше среднего второй 2002_2023\")\n",
    "else:\n",
    "    print(\"Не отвергаем нулевую гипотезу - нет достаточных доказательств считать среднее первой выборки 1980_2001 большим\")"
   ]
  },
  {
   "cell_type": "markdown",
   "metadata": {},
   "source": [
    "### Вывод по задаче 02 \n",
    "\n",
    "На основании графического распределения данных и вопреки результату теста Шапиро принимаем версию о нормальном распределении значений количества сетов в выборках.\n",
    "\n",
    "Проведенный z тест позволяет утверждать - среднее значение первой выборки 1980_2001 меньше или равно среднему значению второй выборки 2002_2023.\n",
    "\n",
    "Среднее количество сетов для любого игрока чтобы победить уменьшается со временем - не верно."
   ]
  },
  {
   "cell_type": "markdown",
   "metadata": {},
   "source": []
  },
  {
   "cell_type": "markdown",
   "metadata": {},
   "source": [
    "## Задача_03"
   ]
  },
  {
   "cell_type": "markdown",
   "metadata": {},
   "source": [
    "У вас появились сомнения — не является ли результат, который вы посчитали на предыдущем шаге, некорректным. Кажется, что на это мог повлиять формат самого матча — best of 3 или best of 5. Оставьте только матчи best of 5 (колонка best_of) и определите — является ли разница среднего количества сетов, которое сыграл победитель, значимой для выборок матчей по 1980 до 2001 гг. и 2002-2022 гг. Выбор статистического теста обоснуйте."
   ]
  },
  {
   "cell_type": "markdown",
   "metadata": {},
   "source": [
    "Чтобы сформировать датасет надо:\n",
    "1. Фильтрация данных: Оставить только матчи, где значение в колонке best_of равно 5. Это можно сделать, создав новый фрейм данных, который содержит только строки, где df['best_of'] == 5.\n",
    "2. Разделение данных на две группы: Разделите данные на две группы в зависимости от года матча. Одна группа должна содержать матчи с 1980 по 2001 год, а другая с 2002 по 2022 год. Это можно сделать с помощью логического индексирования по столбцу с годами."
   ]
  },
  {
   "cell_type": "code",
   "execution_count": 43,
   "metadata": {},
   "outputs": [
    {
     "name": "stdout",
     "output_type": "stream",
     "text": [
      "Образец для количества сетов: 0\n"
     ]
    },
    {
     "data": {
      "text/html": [
       "<div>\n",
       "<style scoped>\n",
       "    .dataframe tbody tr th:only-of-type {\n",
       "        vertical-align: middle;\n",
       "    }\n",
       "\n",
       "    .dataframe tbody tr th {\n",
       "        vertical-align: top;\n",
       "    }\n",
       "\n",
       "    .dataframe thead th {\n",
       "        text-align: right;\n",
       "    }\n",
       "</style>\n",
       "<table border=\"1\" class=\"dataframe\">\n",
       "  <thead>\n",
       "    <tr style=\"text-align: right;\">\n",
       "      <th></th>\n",
       "      <th>year</th>\n",
       "      <th>score</th>\n",
       "      <th>winner_id</th>\n",
       "      <th>best_of</th>\n",
       "      <th>sets_count</th>\n",
       "    </tr>\n",
       "  </thead>\n",
       "  <tbody>\n",
       "    <tr>\n",
       "      <th>233</th>\n",
       "      <td>1968</td>\n",
       "      <td>W/O</td>\n",
       "      <td>100085</td>\n",
       "      <td>5</td>\n",
       "      <td>0</td>\n",
       "    </tr>\n",
       "  </tbody>\n",
       "</table>\n",
       "</div>"
      ],
      "text/plain": [
       "     year score  winner_id  best_of  sets_count\n",
       "233  1968   W/O     100085        5           0"
      ]
     },
     "metadata": {},
     "output_type": "display_data"
    },
    {
     "name": "stdout",
     "output_type": "stream",
     "text": [
      "Образец для количества сетов: 1\n"
     ]
    },
    {
     "data": {
      "text/html": [
       "<div>\n",
       "<style scoped>\n",
       "    .dataframe tbody tr th:only-of-type {\n",
       "        vertical-align: middle;\n",
       "    }\n",
       "\n",
       "    .dataframe tbody tr th {\n",
       "        vertical-align: top;\n",
       "    }\n",
       "\n",
       "    .dataframe thead th {\n",
       "        text-align: right;\n",
       "    }\n",
       "</style>\n",
       "<table border=\"1\" class=\"dataframe\">\n",
       "  <thead>\n",
       "    <tr style=\"text-align: right;\">\n",
       "      <th></th>\n",
       "      <th>year</th>\n",
       "      <th>score</th>\n",
       "      <th>winner_id</th>\n",
       "      <th>best_of</th>\n",
       "      <th>sets_count</th>\n",
       "    </tr>\n",
       "  </thead>\n",
       "  <tbody>\n",
       "    <tr>\n",
       "      <th>9444</th>\n",
       "      <td>1970</td>\n",
       "      <td>2-1 RET</td>\n",
       "      <td>100203</td>\n",
       "      <td>5</td>\n",
       "      <td>1</td>\n",
       "    </tr>\n",
       "  </tbody>\n",
       "</table>\n",
       "</div>"
      ],
      "text/plain": [
       "      year    score  winner_id  best_of  sets_count\n",
       "9444  1970  2-1 RET     100203        5           1"
      ]
     },
     "metadata": {},
     "output_type": "display_data"
    },
    {
     "name": "stdout",
     "output_type": "stream",
     "text": [
      "Образец для количества сетов: 2\n"
     ]
    },
    {
     "data": {
      "text/html": [
       "<div>\n",
       "<style scoped>\n",
       "    .dataframe tbody tr th:only-of-type {\n",
       "        vertical-align: middle;\n",
       "    }\n",
       "\n",
       "    .dataframe tbody tr th {\n",
       "        vertical-align: top;\n",
       "    }\n",
       "\n",
       "    .dataframe thead th {\n",
       "        text-align: right;\n",
       "    }\n",
       "</style>\n",
       "<table border=\"1\" class=\"dataframe\">\n",
       "  <thead>\n",
       "    <tr style=\"text-align: right;\">\n",
       "      <th></th>\n",
       "      <th>year</th>\n",
       "      <th>score</th>\n",
       "      <th>winner_id</th>\n",
       "      <th>best_of</th>\n",
       "      <th>sets_count</th>\n",
       "    </tr>\n",
       "  </thead>\n",
       "  <tbody>\n",
       "    <tr>\n",
       "      <th>101</th>\n",
       "      <td>1968</td>\n",
       "      <td>6-3 0-1 RET</td>\n",
       "      <td>110047</td>\n",
       "      <td>5</td>\n",
       "      <td>2</td>\n",
       "    </tr>\n",
       "  </tbody>\n",
       "</table>\n",
       "</div>"
      ],
      "text/plain": [
       "     year        score  winner_id  best_of  sets_count\n",
       "101  1968  6-3 0-1 RET     110047        5           2"
      ]
     },
     "metadata": {},
     "output_type": "display_data"
    },
    {
     "name": "stdout",
     "output_type": "stream",
     "text": [
      "Образец для количества сетов: 3\n"
     ]
    },
    {
     "data": {
      "text/html": [
       "<div>\n",
       "<style scoped>\n",
       "    .dataframe tbody tr th:only-of-type {\n",
       "        vertical-align: middle;\n",
       "    }\n",
       "\n",
       "    .dataframe tbody tr th {\n",
       "        vertical-align: top;\n",
       "    }\n",
       "\n",
       "    .dataframe thead th {\n",
       "        text-align: right;\n",
       "    }\n",
       "</style>\n",
       "<table border=\"1\" class=\"dataframe\">\n",
       "  <thead>\n",
       "    <tr style=\"text-align: right;\">\n",
       "      <th></th>\n",
       "      <th>year</th>\n",
       "      <th>score</th>\n",
       "      <th>winner_id</th>\n",
       "      <th>best_of</th>\n",
       "      <th>sets_count</th>\n",
       "    </tr>\n",
       "  </thead>\n",
       "  <tbody>\n",
       "    <tr>\n",
       "      <th>31</th>\n",
       "      <td>1968</td>\n",
       "      <td>6-1 6-4 6-4</td>\n",
       "      <td>100029</td>\n",
       "      <td>5</td>\n",
       "      <td>3</td>\n",
       "    </tr>\n",
       "  </tbody>\n",
       "</table>\n",
       "</div>"
      ],
      "text/plain": [
       "    year        score  winner_id  best_of  sets_count\n",
       "31  1968  6-1 6-4 6-4     100029        5           3"
      ]
     },
     "metadata": {},
     "output_type": "display_data"
    },
    {
     "name": "stdout",
     "output_type": "stream",
     "text": [
      "Образец для количества сетов: 4\n"
     ]
    },
    {
     "data": {
      "text/html": [
       "<div>\n",
       "<style scoped>\n",
       "    .dataframe tbody tr th:only-of-type {\n",
       "        vertical-align: middle;\n",
       "    }\n",
       "\n",
       "    .dataframe tbody tr th {\n",
       "        vertical-align: top;\n",
       "    }\n",
       "\n",
       "    .dataframe thead th {\n",
       "        text-align: right;\n",
       "    }\n",
       "</style>\n",
       "<table border=\"1\" class=\"dataframe\">\n",
       "  <thead>\n",
       "    <tr style=\"text-align: right;\">\n",
       "      <th></th>\n",
       "      <th>year</th>\n",
       "      <th>score</th>\n",
       "      <th>winner_id</th>\n",
       "      <th>best_of</th>\n",
       "      <th>sets_count</th>\n",
       "    </tr>\n",
       "  </thead>\n",
       "  <tbody>\n",
       "    <tr>\n",
       "      <th>32</th>\n",
       "      <td>1968</td>\n",
       "      <td>6-3 6-2 0-6 6-3</td>\n",
       "      <td>100099</td>\n",
       "      <td>5</td>\n",
       "      <td>4</td>\n",
       "    </tr>\n",
       "  </tbody>\n",
       "</table>\n",
       "</div>"
      ],
      "text/plain": [
       "    year            score  winner_id  best_of  sets_count\n",
       "32  1968  6-3 6-2 0-6 6-3     100099        5           4"
      ]
     },
     "metadata": {},
     "output_type": "display_data"
    },
    {
     "name": "stdout",
     "output_type": "stream",
     "text": [
      "Образец для количества сетов: 5\n"
     ]
    },
    {
     "data": {
      "text/html": [
       "<div>\n",
       "<style scoped>\n",
       "    .dataframe tbody tr th:only-of-type {\n",
       "        vertical-align: middle;\n",
       "    }\n",
       "\n",
       "    .dataframe tbody tr th {\n",
       "        vertical-align: top;\n",
       "    }\n",
       "\n",
       "    .dataframe thead th {\n",
       "        text-align: right;\n",
       "    }\n",
       "</style>\n",
       "<table border=\"1\" class=\"dataframe\">\n",
       "  <thead>\n",
       "    <tr style=\"text-align: right;\">\n",
       "      <th></th>\n",
       "      <th>year</th>\n",
       "      <th>score</th>\n",
       "      <th>winner_id</th>\n",
       "      <th>best_of</th>\n",
       "      <th>sets_count</th>\n",
       "    </tr>\n",
       "  </thead>\n",
       "  <tbody>\n",
       "    <tr>\n",
       "      <th>43</th>\n",
       "      <td>1968</td>\n",
       "      <td>6-0 2-6 6-3 4-6 7-5</td>\n",
       "      <td>100282</td>\n",
       "      <td>5</td>\n",
       "      <td>5</td>\n",
       "    </tr>\n",
       "  </tbody>\n",
       "</table>\n",
       "</div>"
      ],
      "text/plain": [
       "    year                score  winner_id  best_of  sets_count\n",
       "43  1968  6-0 2-6 6-3 4-6 7-5     100282        5           5"
      ]
     },
     "metadata": {},
     "output_type": "display_data"
    },
    {
     "name": "stdout",
     "output_type": "stream",
     "text": [
      "Количество записей: \t 42042\n",
      "Количество столбцов: \t 5\n",
      "Явных дубликатов: \t 289\n",
      "Пропуски присутствуют в 0 столбцах из 5:\n"
     ]
    },
    {
     "data": {
      "text/html": [
       "<div>\n",
       "<style scoped>\n",
       "    .dataframe tbody tr th:only-of-type {\n",
       "        vertical-align: middle;\n",
       "    }\n",
       "\n",
       "    .dataframe tbody tr th {\n",
       "        vertical-align: top;\n",
       "    }\n",
       "\n",
       "    .dataframe thead th {\n",
       "        text-align: right;\n",
       "    }\n",
       "</style>\n",
       "<table border=\"1\" class=\"dataframe\">\n",
       "  <thead>\n",
       "    <tr style=\"text-align: right;\">\n",
       "      <th></th>\n",
       "      <th>Пропущено %</th>\n",
       "    </tr>\n",
       "  </thead>\n",
       "  <tbody>\n",
       "  </tbody>\n",
       "</table>\n",
       "</div>"
      ],
      "text/plain": [
       "Empty DataFrame\n",
       "Columns: [Пропущено %]\n",
       "Index: []"
      ]
     },
     "metadata": {},
     "output_type": "display_data"
    },
    {
     "name": "stdout",
     "output_type": "stream",
     "text": [
      "Обобщенная информация:\n",
      "<class 'pandas.core.frame.DataFrame'>\n",
      "Index: 42042 entries, 31 to 191699\n",
      "Columns: 5 entries, year to sets_count\n",
      "dtypes: int64(4), object(1)\n",
      "memory usage: 1.9+ MB\n"
     ]
    },
    {
     "data": {
      "text/plain": [
       "None"
      ]
     },
     "metadata": {},
     "output_type": "display_data"
    },
    {
     "name": "stdout",
     "output_type": "stream",
     "text": [
      "Первые 3 строки:\n"
     ]
    },
    {
     "data": {
      "text/html": [
       "<div>\n",
       "<style scoped>\n",
       "    .dataframe tbody tr th:only-of-type {\n",
       "        vertical-align: middle;\n",
       "    }\n",
       "\n",
       "    .dataframe tbody tr th {\n",
       "        vertical-align: top;\n",
       "    }\n",
       "\n",
       "    .dataframe thead th {\n",
       "        text-align: right;\n",
       "    }\n",
       "</style>\n",
       "<table border=\"1\" class=\"dataframe\">\n",
       "  <thead>\n",
       "    <tr style=\"text-align: right;\">\n",
       "      <th></th>\n",
       "      <th>year</th>\n",
       "      <th>score</th>\n",
       "      <th>winner_id</th>\n",
       "      <th>best_of</th>\n",
       "      <th>sets_count</th>\n",
       "    </tr>\n",
       "  </thead>\n",
       "  <tbody>\n",
       "    <tr>\n",
       "      <th>31</th>\n",
       "      <td>1968</td>\n",
       "      <td>6-1 6-4 6-4</td>\n",
       "      <td>100029</td>\n",
       "      <td>5</td>\n",
       "      <td>3</td>\n",
       "    </tr>\n",
       "    <tr>\n",
       "      <th>32</th>\n",
       "      <td>1968</td>\n",
       "      <td>6-3 6-2 0-6 6-3</td>\n",
       "      <td>100099</td>\n",
       "      <td>5</td>\n",
       "      <td>4</td>\n",
       "    </tr>\n",
       "    <tr>\n",
       "      <th>33</th>\n",
       "      <td>1968</td>\n",
       "      <td>11-9 9-11 6-4 6-3</td>\n",
       "      <td>100022</td>\n",
       "      <td>5</td>\n",
       "      <td>4</td>\n",
       "    </tr>\n",
       "  </tbody>\n",
       "</table>\n",
       "</div>"
      ],
      "text/plain": [
       "    year              score  winner_id  best_of  sets_count\n",
       "31  1968        6-1 6-4 6-4     100029        5           3\n",
       "32  1968    6-3 6-2 0-6 6-3     100099        5           4\n",
       "33  1968  11-9 9-11 6-4 6-3     100022        5           4"
      ]
     },
     "metadata": {},
     "output_type": "display_data"
    }
   ],
   "source": [
    "# Создание выборки к задаче\n",
    "combined_df = pd.read_csv('full_data/combined_atp_matches.csv')\n",
    "task_03 = combined_df[['year', 'score', 'winner_id', 'best_of']].dropna()\n",
    "task_03 = task_03[task_03.best_of == 5]\n",
    "# Создаем признак с количеством сетов\n",
    "# Учитываем только те сеты при подсчете, где явно указан счет партии в сете\n",
    "def count_sets_with_scores(score):\n",
    "    sets = re.findall(r'\\d+-\\d+', score)\n",
    "    return len(sets)\n",
    "\n",
    "task_03['sets_count'] = task_03['score'].apply(count_sets_with_scores)\n",
    "\n",
    "# Образец разбиения score на количество сетов\n",
    "unique_sets_count = sorted(task_03['sets_count'].unique())\n",
    "for count in unique_sets_count:\n",
    "    print(f'Образец для количества сетов: {count}')\n",
    "    display(task_03[task_03['sets_count'] == count].head(1))\n",
    "\n",
    "df_info(task_03)"
   ]
  },
  {
   "cell_type": "code",
   "execution_count": 44,
   "metadata": {},
   "outputs": [
    {
     "name": "stdout",
     "output_type": "stream",
     "text": [
      "Образец для количества сетов: 0\n"
     ]
    },
    {
     "data": {
      "text/html": [
       "<div>\n",
       "<style scoped>\n",
       "    .dataframe tbody tr th:only-of-type {\n",
       "        vertical-align: middle;\n",
       "    }\n",
       "\n",
       "    .dataframe tbody tr th {\n",
       "        vertical-align: top;\n",
       "    }\n",
       "\n",
       "    .dataframe thead th {\n",
       "        text-align: right;\n",
       "    }\n",
       "</style>\n",
       "<table border=\"1\" class=\"dataframe\">\n",
       "  <thead>\n",
       "    <tr style=\"text-align: right;\">\n",
       "      <th></th>\n",
       "      <th>year</th>\n",
       "      <th>score</th>\n",
       "      <th>winner_id</th>\n",
       "      <th>best_of</th>\n",
       "      <th>sets_count</th>\n",
       "    </tr>\n",
       "  </thead>\n",
       "  <tbody>\n",
       "    <tr>\n",
       "      <th>233</th>\n",
       "      <td>1968</td>\n",
       "      <td>W/O</td>\n",
       "      <td>100085</td>\n",
       "      <td>5</td>\n",
       "      <td>0</td>\n",
       "    </tr>\n",
       "  </tbody>\n",
       "</table>\n",
       "</div>"
      ],
      "text/plain": [
       "     year score  winner_id  best_of  sets_count\n",
       "233  1968   W/O     100085        5           0"
      ]
     },
     "metadata": {},
     "output_type": "display_data"
    },
    {
     "name": "stdout",
     "output_type": "stream",
     "text": [
      "Образец для количества сетов: 1\n"
     ]
    },
    {
     "data": {
      "text/html": [
       "<div>\n",
       "<style scoped>\n",
       "    .dataframe tbody tr th:only-of-type {\n",
       "        vertical-align: middle;\n",
       "    }\n",
       "\n",
       "    .dataframe tbody tr th {\n",
       "        vertical-align: top;\n",
       "    }\n",
       "\n",
       "    .dataframe thead th {\n",
       "        text-align: right;\n",
       "    }\n",
       "</style>\n",
       "<table border=\"1\" class=\"dataframe\">\n",
       "  <thead>\n",
       "    <tr style=\"text-align: right;\">\n",
       "      <th></th>\n",
       "      <th>year</th>\n",
       "      <th>score</th>\n",
       "      <th>winner_id</th>\n",
       "      <th>best_of</th>\n",
       "      <th>sets_count</th>\n",
       "    </tr>\n",
       "  </thead>\n",
       "  <tbody>\n",
       "    <tr>\n",
       "      <th>9444</th>\n",
       "      <td>1970</td>\n",
       "      <td>2-1 RET</td>\n",
       "      <td>100203</td>\n",
       "      <td>5</td>\n",
       "      <td>1</td>\n",
       "    </tr>\n",
       "  </tbody>\n",
       "</table>\n",
       "</div>"
      ],
      "text/plain": [
       "      year    score  winner_id  best_of  sets_count\n",
       "9444  1970  2-1 RET     100203        5           1"
      ]
     },
     "metadata": {},
     "output_type": "display_data"
    },
    {
     "name": "stdout",
     "output_type": "stream",
     "text": [
      "Образец для количества сетов: 2\n"
     ]
    },
    {
     "data": {
      "text/html": [
       "<div>\n",
       "<style scoped>\n",
       "    .dataframe tbody tr th:only-of-type {\n",
       "        vertical-align: middle;\n",
       "    }\n",
       "\n",
       "    .dataframe tbody tr th {\n",
       "        vertical-align: top;\n",
       "    }\n",
       "\n",
       "    .dataframe thead th {\n",
       "        text-align: right;\n",
       "    }\n",
       "</style>\n",
       "<table border=\"1\" class=\"dataframe\">\n",
       "  <thead>\n",
       "    <tr style=\"text-align: right;\">\n",
       "      <th></th>\n",
       "      <th>year</th>\n",
       "      <th>score</th>\n",
       "      <th>winner_id</th>\n",
       "      <th>best_of</th>\n",
       "      <th>sets_count</th>\n",
       "    </tr>\n",
       "  </thead>\n",
       "  <tbody>\n",
       "    <tr>\n",
       "      <th>101</th>\n",
       "      <td>1968</td>\n",
       "      <td>6-3 0-1 RET</td>\n",
       "      <td>110047</td>\n",
       "      <td>5</td>\n",
       "      <td>2</td>\n",
       "    </tr>\n",
       "  </tbody>\n",
       "</table>\n",
       "</div>"
      ],
      "text/plain": [
       "     year        score  winner_id  best_of  sets_count\n",
       "101  1968  6-3 0-1 RET     110047        5           2"
      ]
     },
     "metadata": {},
     "output_type": "display_data"
    },
    {
     "name": "stdout",
     "output_type": "stream",
     "text": [
      "Образец для количества сетов: 3\n"
     ]
    },
    {
     "data": {
      "text/html": [
       "<div>\n",
       "<style scoped>\n",
       "    .dataframe tbody tr th:only-of-type {\n",
       "        vertical-align: middle;\n",
       "    }\n",
       "\n",
       "    .dataframe tbody tr th {\n",
       "        vertical-align: top;\n",
       "    }\n",
       "\n",
       "    .dataframe thead th {\n",
       "        text-align: right;\n",
       "    }\n",
       "</style>\n",
       "<table border=\"1\" class=\"dataframe\">\n",
       "  <thead>\n",
       "    <tr style=\"text-align: right;\">\n",
       "      <th></th>\n",
       "      <th>year</th>\n",
       "      <th>score</th>\n",
       "      <th>winner_id</th>\n",
       "      <th>best_of</th>\n",
       "      <th>sets_count</th>\n",
       "    </tr>\n",
       "  </thead>\n",
       "  <tbody>\n",
       "    <tr>\n",
       "      <th>31</th>\n",
       "      <td>1968</td>\n",
       "      <td>6-1 6-4 6-4</td>\n",
       "      <td>100029</td>\n",
       "      <td>5</td>\n",
       "      <td>3</td>\n",
       "    </tr>\n",
       "  </tbody>\n",
       "</table>\n",
       "</div>"
      ],
      "text/plain": [
       "    year        score  winner_id  best_of  sets_count\n",
       "31  1968  6-1 6-4 6-4     100029        5           3"
      ]
     },
     "metadata": {},
     "output_type": "display_data"
    },
    {
     "name": "stdout",
     "output_type": "stream",
     "text": [
      "Образец для количества сетов: 4\n"
     ]
    },
    {
     "data": {
      "text/html": [
       "<div>\n",
       "<style scoped>\n",
       "    .dataframe tbody tr th:only-of-type {\n",
       "        vertical-align: middle;\n",
       "    }\n",
       "\n",
       "    .dataframe tbody tr th {\n",
       "        vertical-align: top;\n",
       "    }\n",
       "\n",
       "    .dataframe thead th {\n",
       "        text-align: right;\n",
       "    }\n",
       "</style>\n",
       "<table border=\"1\" class=\"dataframe\">\n",
       "  <thead>\n",
       "    <tr style=\"text-align: right;\">\n",
       "      <th></th>\n",
       "      <th>year</th>\n",
       "      <th>score</th>\n",
       "      <th>winner_id</th>\n",
       "      <th>best_of</th>\n",
       "      <th>sets_count</th>\n",
       "    </tr>\n",
       "  </thead>\n",
       "  <tbody>\n",
       "    <tr>\n",
       "      <th>32</th>\n",
       "      <td>1968</td>\n",
       "      <td>6-3 6-2 0-6 6-3</td>\n",
       "      <td>100099</td>\n",
       "      <td>5</td>\n",
       "      <td>4</td>\n",
       "    </tr>\n",
       "  </tbody>\n",
       "</table>\n",
       "</div>"
      ],
      "text/plain": [
       "    year            score  winner_id  best_of  sets_count\n",
       "32  1968  6-3 6-2 0-6 6-3     100099        5           4"
      ]
     },
     "metadata": {},
     "output_type": "display_data"
    },
    {
     "name": "stdout",
     "output_type": "stream",
     "text": [
      "Образец для количества сетов: 5\n"
     ]
    },
    {
     "data": {
      "text/html": [
       "<div>\n",
       "<style scoped>\n",
       "    .dataframe tbody tr th:only-of-type {\n",
       "        vertical-align: middle;\n",
       "    }\n",
       "\n",
       "    .dataframe tbody tr th {\n",
       "        vertical-align: top;\n",
       "    }\n",
       "\n",
       "    .dataframe thead th {\n",
       "        text-align: right;\n",
       "    }\n",
       "</style>\n",
       "<table border=\"1\" class=\"dataframe\">\n",
       "  <thead>\n",
       "    <tr style=\"text-align: right;\">\n",
       "      <th></th>\n",
       "      <th>year</th>\n",
       "      <th>score</th>\n",
       "      <th>winner_id</th>\n",
       "      <th>best_of</th>\n",
       "      <th>sets_count</th>\n",
       "    </tr>\n",
       "  </thead>\n",
       "  <tbody>\n",
       "    <tr>\n",
       "      <th>43</th>\n",
       "      <td>1968</td>\n",
       "      <td>6-0 2-6 6-3 4-6 7-5</td>\n",
       "      <td>100282</td>\n",
       "      <td>5</td>\n",
       "      <td>5</td>\n",
       "    </tr>\n",
       "  </tbody>\n",
       "</table>\n",
       "</div>"
      ],
      "text/plain": [
       "    year                score  winner_id  best_of  sets_count\n",
       "43  1968  6-0 2-6 6-3 4-6 7-5     100282        5           5"
      ]
     },
     "metadata": {},
     "output_type": "display_data"
    },
    {
     "name": "stdout",
     "output_type": "stream",
     "text": [
      "Количество записей: \t 41753\n",
      "Количество столбцов: \t 5\n",
      "Явных дубликатов: \t 0\n",
      "Пропуски присутствуют в 0 столбцах из 5:\n"
     ]
    },
    {
     "data": {
      "text/html": [
       "<div>\n",
       "<style scoped>\n",
       "    .dataframe tbody tr th:only-of-type {\n",
       "        vertical-align: middle;\n",
       "    }\n",
       "\n",
       "    .dataframe tbody tr th {\n",
       "        vertical-align: top;\n",
       "    }\n",
       "\n",
       "    .dataframe thead th {\n",
       "        text-align: right;\n",
       "    }\n",
       "</style>\n",
       "<table border=\"1\" class=\"dataframe\">\n",
       "  <thead>\n",
       "    <tr style=\"text-align: right;\">\n",
       "      <th></th>\n",
       "      <th>Пропущено %</th>\n",
       "    </tr>\n",
       "  </thead>\n",
       "  <tbody>\n",
       "  </tbody>\n",
       "</table>\n",
       "</div>"
      ],
      "text/plain": [
       "Empty DataFrame\n",
       "Columns: [Пропущено %]\n",
       "Index: []"
      ]
     },
     "metadata": {},
     "output_type": "display_data"
    },
    {
     "name": "stdout",
     "output_type": "stream",
     "text": [
      "Обобщенная информация:\n",
      "<class 'pandas.core.frame.DataFrame'>\n",
      "Index: 41753 entries, 31 to 191699\n",
      "Columns: 5 entries, year to sets_count\n",
      "dtypes: int64(4), object(1)\n",
      "memory usage: 1.9+ MB\n"
     ]
    },
    {
     "data": {
      "text/plain": [
       "None"
      ]
     },
     "metadata": {},
     "output_type": "display_data"
    },
    {
     "name": "stdout",
     "output_type": "stream",
     "text": [
      "Первые 3 строки:\n"
     ]
    },
    {
     "data": {
      "text/html": [
       "<div>\n",
       "<style scoped>\n",
       "    .dataframe tbody tr th:only-of-type {\n",
       "        vertical-align: middle;\n",
       "    }\n",
       "\n",
       "    .dataframe tbody tr th {\n",
       "        vertical-align: top;\n",
       "    }\n",
       "\n",
       "    .dataframe thead th {\n",
       "        text-align: right;\n",
       "    }\n",
       "</style>\n",
       "<table border=\"1\" class=\"dataframe\">\n",
       "  <thead>\n",
       "    <tr style=\"text-align: right;\">\n",
       "      <th></th>\n",
       "      <th>year</th>\n",
       "      <th>score</th>\n",
       "      <th>winner_id</th>\n",
       "      <th>best_of</th>\n",
       "      <th>sets_count</th>\n",
       "    </tr>\n",
       "  </thead>\n",
       "  <tbody>\n",
       "    <tr>\n",
       "      <th>31</th>\n",
       "      <td>1968</td>\n",
       "      <td>6-1 6-4 6-4</td>\n",
       "      <td>100029</td>\n",
       "      <td>5</td>\n",
       "      <td>3</td>\n",
       "    </tr>\n",
       "    <tr>\n",
       "      <th>32</th>\n",
       "      <td>1968</td>\n",
       "      <td>6-3 6-2 0-6 6-3</td>\n",
       "      <td>100099</td>\n",
       "      <td>5</td>\n",
       "      <td>4</td>\n",
       "    </tr>\n",
       "    <tr>\n",
       "      <th>33</th>\n",
       "      <td>1968</td>\n",
       "      <td>11-9 9-11 6-4 6-3</td>\n",
       "      <td>100022</td>\n",
       "      <td>5</td>\n",
       "      <td>4</td>\n",
       "    </tr>\n",
       "  </tbody>\n",
       "</table>\n",
       "</div>"
      ],
      "text/plain": [
       "    year              score  winner_id  best_of  sets_count\n",
       "31  1968        6-1 6-4 6-4     100029        5           3\n",
       "32  1968    6-3 6-2 0-6 6-3     100099        5           4\n",
       "33  1968  11-9 9-11 6-4 6-3     100022        5           4"
      ]
     },
     "metadata": {},
     "output_type": "display_data"
    }
   ],
   "source": [
    "# Удаление полных дубликатов\n",
    "task_03 = task_03.drop_duplicates()\n",
    "\n",
    "# Образец разбиения score на количество сетов\n",
    "unique_sets_count = sorted(task_03['sets_count'].unique())\n",
    "for count in unique_sets_count:\n",
    "    print(f'Образец для количества сетов: {count}')\n",
    "    display(task_03[task_03['sets_count'] == count].head(1))\n",
    "\n",
    "df_info(task_03)"
   ]
  },
  {
   "cell_type": "code",
   "execution_count": 45,
   "metadata": {},
   "outputs": [
    {
     "data": {
      "image/png": "[encoded data removed]",
      "text/plain": [
       "<Figure size 1000x600 with 1 Axes>"
      ]
     },
     "metadata": {},
     "output_type": "display_data"
    }
   ],
   "source": [
    "# Рапределение количества сетов best_of ==5, всего\n",
    "# Фильтрация данных по годам\n",
    "task_03_1980_2001 = task_03[(task_03['year'] >= 1980) & (task_03['year'] <= 2001)].reset_index(drop=True)\n",
    "task_03_2002_2023 = task_03[(task_03['year'] > 2001) & (task_03['year'] <= 2023)].reset_index(drop=True)\n",
    "\n",
    "# Создание позиций для баров\n",
    "positions = range(1, max(task_03['sets_count']) + 2, 1)\n",
    "\n",
    "# Построение гистограммы для каждой группы с разными цветами\n",
    "plt.figure(figsize=(10, 6))\n",
    "plt.bar([pos - 0.2 for pos in positions], \n",
    "        task_03_1980_2001['sets_count'].value_counts().sort_index(), \n",
    "        width=0.4, \n",
    "        color='red', \n",
    "        alpha=0.7, \n",
    "        label='1980-2000')\n",
    "plt.bar([pos + 0.2 for pos in positions], \n",
    "        task_03_2002_2023['sets_count'].value_counts().sort_index(), \n",
    "        width=0.4, \n",
    "        color='orange', \n",
    "        alpha=0.7, \n",
    "        label='2000-2023')\n",
    "\n",
    "plt.title('Рапределение количества побед по сетам')\n",
    "plt.xlabel('Количество сетов')\n",
    "plt.ylabel('Количество побед')\n",
    "plt.legend()\n",
    "plt.show()"
   ]
  },
  {
   "cell_type": "markdown",
   "metadata": {},
   "source": [
    "### Графическое описание распределений признака для каждой выборки"
   ]
  },
  {
   "cell_type": "code",
   "execution_count": 46,
   "metadata": {},
   "outputs": [
    {
     "data": {
      "image/png": "[encoded data removed]",
      "text/plain": [
       "<Figure size 1000x1500 with 6 Axes>"
      ]
     },
     "metadata": {},
     "output_type": "display_data"
    }
   ],
   "source": [
    "plot_sample_data(task_03_1980_2001.sets_count, task_03_2002_2023.sets_count, title_a='1980_2001 best_of 5', title_b='2002_2023 best_of 5')"
   ]
  },
  {
   "cell_type": "code",
   "execution_count": 47,
   "metadata": {},
   "outputs": [
    {
     "name": "stdout",
     "output_type": "stream",
     "text": [
      "Среднее количество сетов для побед в периоде 1980-2001: 3.6685703643925756, общее количество партий: 16109\n",
      "Среднее количество сетов для побед в периоде 2002-2023: 3.628614191441595, общее количество партий: 14699\n"
     ]
    }
   ],
   "source": [
    "# Сравнение среднего количества побед\n",
    "\n",
    "print(f\"Среднее количество сетов для побед в периоде 1980-2001: {task_03_1980_2001.sets_count.mean()}, общее количество партий: {len(task_03_1980_2001.sets_count)}\")\n",
    "print(f\"Среднее количество сетов для побед в периоде 2002-2023: {task_03_2002_2023.sets_count.mean()}, общее количество партий: {len(task_03_2002_2023.sets_count)}\")"
   ]
  },
  {
   "cell_type": "markdown",
   "metadata": {},
   "source": [
    "### Статистический тест на нормальность"
   ]
  },
  {
   "cell_type": "code",
   "execution_count": 48,
   "metadata": {},
   "outputs": [
    {
     "name": "stdout",
     "output_type": "stream",
     "text": [
      "alpha: 0.05\n",
      "p-value sample A 0.0\n",
      "p-value sample B 0.0\n",
      "Отвергаем нулевую гипотезу H0: Распределения в обеих группах нормальные\n",
      "Альтернативная гипотеза. H1: Распределение в одной или обеих группах отлично от нормального\n"
     ]
    }
   ],
   "source": [
    "shapiro_test(task_03_1980_2001.sets_count, task_03_2002_2023.sets_count, alpha=0.05)"
   ]
  },
  {
   "cell_type": "markdown",
   "metadata": {},
   "source": [
    "Примем с работе, что выборки все же нормально распределены, на основании графического представления. QQ plot и boxplot отражают это наиболее ясно."
   ]
  },
  {
   "cell_type": "markdown",
   "metadata": {},
   "source": [
    "### Z тест"
   ]
  },
  {
   "cell_type": "markdown",
   "metadata": {},
   "source": [
    "Обоснование выбора теста:\n",
    "\n",
    "Z-тест подходит для сравнения средних двух независимых выборок, когда выполнены следующие условия:\n",
    "\n",
    "Большой объем выборок: Для каждой из выборок количество наблюдений достаточно велико (обычно более 30), что позволяет применять Центральную предельную теорему.\n",
    "\n",
    "Распределение выборочных средних близко к нормальному: Предполагается, что данные распределены нормально, или что из-за большого размера выборок распределение средних можно считать нормальным на основании Центральной предельной теоремы.\n",
    "\n",
    "Известные или предполагаемые равные дисперсии: Значения в выборках должны иметь примерно одинаковые дисперсии. Если дисперсии сильно отличаются, следует использовать другие виды тестов (например, t-тест Уэлча).\n",
    "\n",
    "Независимость выборок: Наблюдения в одной выборке не должны влиять на наблюдения в другой.\n",
    "В вашем случае, сравнение среднего количества сетов для победы между двумя временными периодами (1980-2001 и 2002-2023) с большим количеством данных (60 000 наблюдений) подходит под эти критерии. Допущение о нормальности распределения усиливается благодаря большому размеру выборки и предположению о том, что выборочные средние будут распределены нормально.\n",
    "\n",
    "Также, предполагается, что данные за разные годы независимы, что является важным условием для z-теста. И хотя дисперсии могли измениться со временем, z-тест может быть использован как первичная проверка различий между средними, особенно при больших объемах данных, когда влияние несоответствия дисперсий снижается.\n",
    "\n",
    "Если дисперсии выборок неизвестны или предположение о равенстве дисперсий сомнительно, можно использовать t-тест с поправкой Уэлча, который не требует равенства дисперсий."
   ]
  },
  {
   "cell_type": "code",
   "execution_count": 49,
   "metadata": {},
   "outputs": [
    {
     "name": "stdout",
     "output_type": "stream",
     "text": [
      "Z-statistic: 4.225681445684541\n",
      "P-value: 1.1910939311081864e-05\n",
      "Отвергаем нулевую гипотезу - есть достаточные доказательства, что среднее первой выборки 1980_2001 больше среднего второй 2002_2023\n"
     ]
    }
   ],
   "source": [
    "# Нулевая гипотеза: среднее значение первой выборки меньше или равно среднему значению второй выборки\n",
    "# Альтернативная гипотеза: среднее значение первой выборки больше среднего значения второй выборки\n",
    "\n",
    "# Проведем z-тест\n",
    "z_stat, p_value = ztest(task_03_1980_2001.sets_count, task_03_2002_2023.sets_count, alternative='larger')\n",
    "\n",
    "print(f'Z-statistic: {z_stat}')\n",
    "print(f'P-value: {p_value}')\n",
    "\n",
    "# Установим уровень значимости, например, 0.05\n",
    "alpha = 0.05\n",
    "\n",
    "# Проверим нулевую гипотезу\n",
    "if p_value < alpha:\n",
    "    print(\"Отвергаем нулевую гипотезу - есть достаточные доказательства, что среднее первой выборки 1980_2001 больше среднего второй 2002_2023\")\n",
    "else:\n",
    "    print(\"Не отвергаем нулевую гипотезу - нет достаточных доказательств считать среднее первой выборки 1980_2001 большим\")"
   ]
  },
  {
   "cell_type": "markdown",
   "metadata": {},
   "source": [
    "### Вывод по задаче 03\n",
    "\n",
    "На основании графического распределения данных и вопреки результату теста Шапиро принимаем версию о нормальном распределении значений количества сетов в выборках.\n",
    "\n",
    "Проведенный z тест позволяет утверждать - среднее первой выборки 1980_2001 больше среднего второй 2002_2023\n",
    "\n",
    "Среднее количество сетов для любого игрока чтобы победить уменьшается со временем - верно."
   ]
  },
  {
   "cell_type": "markdown",
   "metadata": {},
   "source": [
    "## Задача_04"
   ]
  },
  {
   "cell_type": "markdown",
   "metadata": {},
   "source": [
    "Вы хотите изучить психологическую устойчивость профессиональных игроков в теннис. Одним из важных показателей такой устойчивости будет доля выигранных брейк-поинтов. Возьмите трех игроков (они необязательно должны играть в одно и то же время. Можете взять игроков, которые сильно отличаются по рангу, а можете взять примерно равных игроков), для каждого из них посчитайте долю выигранных брейк поинтов (колонки, заканчивающиеся на bpFaced и bpSaved) отдельно в победных и проигранных матчах за минимум 10 лет (можно больше, но годы должны идти подряд). Постройте box-plot’ы для этих статистик для каждого из игроков. Являются ли эти распределения по годам (по победным и по проигранным матчам) независимыми для каждого из игроков? Если сравнивать эту статистику между игроками — будет ли разница в средних для проигранных и выигранных матчей значимой попарно между всеми игроками? Выбор статистического теста обоснуйте."
   ]
  },
  {
   "cell_type": "markdown",
   "metadata": {},
   "source": [
    " Выберите трех игроков с разным рангом или примерно равным уровнем игры.\n",
    "- Для каждого игрока соберите данные о сыгранных матчах за период минимум 10 лет подряд. Данные должны включать количество брейк-поинтов, полученных игроком (bpFaced), и количество отыгранных брейк-поинтов (bpSaved) в каждом матче.\n",
    "- Для каждого игрока разделите матчи на две группы: выигранные и проигранные.\n",
    "- Посчитайте долю выигранных брейк-поинтов в каждой группе матчей за каждый год: Доля выигранных брейк-поинтов = bpSaved / bpFaced"
   ]
  },
  {
   "cell_type": "markdown",
   "metadata": {},
   "source": [
    "### Подготовка выборки для задачи"
   ]
  },
  {
   "cell_type": "code",
   "execution_count": 50,
   "metadata": {},
   "outputs": [
    {
     "name": "stdout",
     "output_type": "stream",
     "text": [
      "Количество записей: \t 3344\n",
      "Количество столбцов: \t 11\n",
      "Явных дубликатов: \t 0\n",
      "Пропуски присутствуют в 0 столбцах из 11:\n"
     ]
    },
    {
     "data": {
      "text/html": [
       "<div>\n",
       "<style scoped>\n",
       "    .dataframe tbody tr th:only-of-type {\n",
       "        vertical-align: middle;\n",
       "    }\n",
       "\n",
       "    .dataframe tbody tr th {\n",
       "        vertical-align: top;\n",
       "    }\n",
       "\n",
       "    .dataframe thead th {\n",
       "        text-align: right;\n",
       "    }\n",
       "</style>\n",
       "<table border=\"1\" class=\"dataframe\">\n",
       "  <thead>\n",
       "    <tr style=\"text-align: right;\">\n",
       "      <th></th>\n",
       "      <th>Пропущено %</th>\n",
       "    </tr>\n",
       "  </thead>\n",
       "  <tbody>\n",
       "  </tbody>\n",
       "</table>\n",
       "</div>"
      ],
      "text/plain": [
       "Empty DataFrame\n",
       "Columns: [Пропущено %]\n",
       "Index: []"
      ]
     },
     "metadata": {},
     "output_type": "display_data"
    },
    {
     "name": "stdout",
     "output_type": "stream",
     "text": [
      "Обобщенная информация:\n",
      "<class 'pandas.core.frame.DataFrame'>\n",
      "Index: 3344 entries, 115195 to 191759\n",
      "Columns: 11 entries, year to winned_bp\n",
      "dtypes: float64(8), int64(3)\n",
      "memory usage: 313.5 KB\n"
     ]
    },
    {
     "data": {
      "text/plain": [
       "None"
      ]
     },
     "metadata": {},
     "output_type": "display_data"
    },
    {
     "name": "stdout",
     "output_type": "stream",
     "text": [
      "Первые 3 строки:\n"
     ]
    },
    {
     "data": {
      "text/html": [
       "<div>\n",
       "<style scoped>\n",
       "    .dataframe tbody tr th:only-of-type {\n",
       "        vertical-align: middle;\n",
       "    }\n",
       "\n",
       "    .dataframe tbody tr th {\n",
       "        vertical-align: top;\n",
       "    }\n",
       "\n",
       "    .dataframe thead th {\n",
       "        text-align: right;\n",
       "    }\n",
       "</style>\n",
       "<table border=\"1\" class=\"dataframe\">\n",
       "  <thead>\n",
       "    <tr style=\"text-align: right;\">\n",
       "      <th></th>\n",
       "      <th>year</th>\n",
       "      <th>winner_id</th>\n",
       "      <th>loser_id</th>\n",
       "      <th>w_bpSaved</th>\n",
       "      <th>w_bpFaced</th>\n",
       "      <th>l_bpSaved</th>\n",
       "      <th>l_bpFaced</th>\n",
       "      <th>winner_rank</th>\n",
       "      <th>loser_rank</th>\n",
       "      <th>game_result</th>\n",
       "      <th>winned_bp</th>\n",
       "    </tr>\n",
       "  </thead>\n",
       "  <tbody>\n",
       "    <tr>\n",
       "      <th>115195</th>\n",
       "      <td>1998</td>\n",
       "      <td>102463</td>\n",
       "      <td>103819</td>\n",
       "      <td>1.0</td>\n",
       "      <td>3.0</td>\n",
       "      <td>1.0</td>\n",
       "      <td>5.0</td>\n",
       "      <td>88.0</td>\n",
       "      <td>702.0</td>\n",
       "      <td>0.0</td>\n",
       "      <td>20.0</td>\n",
       "    </tr>\n",
       "    <tr>\n",
       "      <th>116251</th>\n",
       "      <td>1998</td>\n",
       "      <td>103819</td>\n",
       "      <td>101703</td>\n",
       "      <td>1.0</td>\n",
       "      <td>1.0</td>\n",
       "      <td>4.0</td>\n",
       "      <td>8.0</td>\n",
       "      <td>878.0</td>\n",
       "      <td>45.0</td>\n",
       "      <td>1.0</td>\n",
       "      <td>100.0</td>\n",
       "    </tr>\n",
       "    <tr>\n",
       "      <th>116260</th>\n",
       "      <td>1998</td>\n",
       "      <td>103819</td>\n",
       "      <td>101735</td>\n",
       "      <td>4.0</td>\n",
       "      <td>4.0</td>\n",
       "      <td>8.0</td>\n",
       "      <td>10.0</td>\n",
       "      <td>878.0</td>\n",
       "      <td>43.0</td>\n",
       "      <td>1.0</td>\n",
       "      <td>100.0</td>\n",
       "    </tr>\n",
       "  </tbody>\n",
       "</table>\n",
       "</div>"
      ],
      "text/plain": [
       "        year  winner_id  loser_id  w_bpSaved  w_bpFaced  l_bpSaved  l_bpFaced  \\\n",
       "115195  1998     102463    103819        1.0        3.0        1.0        5.0   \n",
       "116251  1998     103819    101703        1.0        1.0        4.0        8.0   \n",
       "116260  1998     103819    101735        4.0        4.0        8.0       10.0   \n",
       "\n",
       "        winner_rank  loser_rank  game_result  winned_bp  \n",
       "115195         88.0       702.0          0.0       20.0  \n",
       "116251        878.0        45.0          1.0      100.0  \n",
       "116260        878.0        43.0          1.0      100.0  "
      ]
     },
     "metadata": {},
     "output_type": "display_data"
    }
   ],
   "source": [
    "# Создание выборки к задаче\n",
    "combined_df = pd.read_csv('full_data/combined_atp_matches.csv')\n",
    "task_04 = combined_df[['year', 'winner_id', 'loser_id', 'w_bpSaved', 'w_bpFaced', 'l_bpSaved', 'l_bpFaced', 'winner_rank', 'loser_rank']].dropna()\n",
    "\n",
    "# Отбор трех игроков по количеству матчей что они сыграли\n",
    "ids = list(task_04.winner_id.value_counts().head(3).index)\n",
    "\n",
    "(task_04[task_04['winner_id']\n",
    "         .isin(ids)]\n",
    "         .groupby('winner_id')\n",
    "         .agg({'winner_id':'count', 'winner_id':'count', 'winner_rank':'max'})\n",
    "         .rename(columns={'winner_id':'winns_count', 'winner_rank':'winner_rank_max'}))\n",
    "\n",
    "task_04['game_result'] = task_04.apply(lambda x: 1 if x['winner_id'] in ids else 0 if x['loser_id'] in ids else None, axis=1)\n",
    "task_04 = (task_04[(task_04['winner_id'].isin(ids)) | \n",
    "                          (task_04['loser_id'].isin(ids))])\n",
    "task_04['winned_bp'] = (task_04.apply(lambda x: \n",
    "                                                    round(x['w_bpSaved'] / x['w_bpFaced'] * 100, 1) if x['game_result'] == 1\n",
    "                                                    else round(x['l_bpSaved'] / x['l_bpFaced'] * 100, 1) if x['game_result'] == 0 else None, axis=1))\n",
    "task_04 = task_04.dropna()\n",
    "\n",
    "df_info(task_04)"
   ]
  },
  {
   "cell_type": "markdown",
   "metadata": {},
   "source": [
    "Для отбора временного окна, где для каждого игрока есть данные и о победах и опоражениях графически посмотрим на распределение побед и поражений"
   ]
  },
  {
   "cell_type": "code",
   "execution_count": 51,
   "metadata": {},
   "outputs": [
    {
     "data": {
      "image/png": "[encoded data removed]",
      "text/plain": [
       "<Figure size 640x480 with 1 Axes>"
      ]
     },
     "metadata": {},
     "output_type": "display_data"
    }
   ],
   "source": [
    "win_plot = task_04[task_04.game_result == 1].groupby(['year', 'winner_id']).size().unstack().plot(kind='bar', stacked=False, width=0.8, color=['red', 'blue', 'lightgreen']);\n",
    "win_plot.set_title('Распределение побед по годам для каждого игрока');\n",
    "win_plot.set_xlabel('Год');\n",
    "win_plot.set_ylabel('Количество матчей с победой');"
   ]
  },
  {
   "cell_type": "code",
   "execution_count": 52,
   "metadata": {},
   "outputs": [
    {
     "data": {
      "image/png": "[encoded data removed]",
      "text/plain": [
       "<Figure size 640x480 with 1 Axes>"
      ]
     },
     "metadata": {},
     "output_type": "display_data"
    }
   ],
   "source": [
    "lose_plot = task_04[task_04.game_result == 0].groupby(['year', 'loser_id']).size().unstack().plot(kind='bar', stacked=False, width=0.8, color=['red', 'blue', 'lightgreen']);\n",
    "lose_plot.set_title('Распределение поражений по годам для каждого игрока');\n",
    "lose_plot.set_xlabel('Год');\n",
    "lose_plot.set_ylabel('Количество матчей с поражением');"
   ]
  },
  {
   "cell_type": "code",
   "execution_count": 53,
   "metadata": {},
   "outputs": [
    {
     "name": "stdout",
     "output_type": "stream",
     "text": [
      "Количество записей: \t 2054\n",
      "Количество столбцов: \t 11\n",
      "Явных дубликатов: \t 0\n",
      "Пропуски присутствуют в 0 столбцах из 11:\n"
     ]
    },
    {
     "data": {
      "text/html": [
       "<div>\n",
       "<style scoped>\n",
       "    .dataframe tbody tr th:only-of-type {\n",
       "        vertical-align: middle;\n",
       "    }\n",
       "\n",
       "    .dataframe tbody tr th {\n",
       "        vertical-align: top;\n",
       "    }\n",
       "\n",
       "    .dataframe thead th {\n",
       "        text-align: right;\n",
       "    }\n",
       "</style>\n",
       "<table border=\"1\" class=\"dataframe\">\n",
       "  <thead>\n",
       "    <tr style=\"text-align: right;\">\n",
       "      <th></th>\n",
       "      <th>Пропущено %</th>\n",
       "    </tr>\n",
       "  </thead>\n",
       "  <tbody>\n",
       "  </tbody>\n",
       "</table>\n",
       "</div>"
      ],
      "text/plain": [
       "Empty DataFrame\n",
       "Columns: [Пропущено %]\n",
       "Index: []"
      ]
     },
     "metadata": {},
     "output_type": "display_data"
    },
    {
     "name": "stdout",
     "output_type": "stream",
     "text": [
      "Обобщенная информация:\n",
      "<class 'pandas.core.frame.DataFrame'>\n",
      "Index: 2054 entries, 136510 to 170263\n",
      "Columns: 11 entries, year to winned_bp\n",
      "dtypes: float64(8), int64(3)\n",
      "memory usage: 192.6 KB\n"
     ]
    },
    {
     "data": {
      "text/plain": [
       "None"
      ]
     },
     "metadata": {},
     "output_type": "display_data"
    },
    {
     "name": "stdout",
     "output_type": "stream",
     "text": [
      "Первые 3 строки:\n"
     ]
    },
    {
     "data": {
      "text/html": [
       "<div>\n",
       "<style scoped>\n",
       "    .dataframe tbody tr th:only-of-type {\n",
       "        vertical-align: middle;\n",
       "    }\n",
       "\n",
       "    .dataframe tbody tr th {\n",
       "        vertical-align: top;\n",
       "    }\n",
       "\n",
       "    .dataframe thead th {\n",
       "        text-align: right;\n",
       "    }\n",
       "</style>\n",
       "<table border=\"1\" class=\"dataframe\">\n",
       "  <thead>\n",
       "    <tr style=\"text-align: right;\">\n",
       "      <th></th>\n",
       "      <th>year</th>\n",
       "      <th>winner_id</th>\n",
       "      <th>loser_id</th>\n",
       "      <th>w_bpSaved</th>\n",
       "      <th>w_bpFaced</th>\n",
       "      <th>l_bpSaved</th>\n",
       "      <th>l_bpFaced</th>\n",
       "      <th>winner_rank</th>\n",
       "      <th>loser_rank</th>\n",
       "      <th>game_result</th>\n",
       "      <th>winned_bp</th>\n",
       "    </tr>\n",
       "  </thead>\n",
       "  <tbody>\n",
       "    <tr>\n",
       "      <th>136510</th>\n",
       "      <td>2005</td>\n",
       "      <td>104745</td>\n",
       "      <td>103812</td>\n",
       "      <td>0.0</td>\n",
       "      <td>1.0</td>\n",
       "      <td>3.0</td>\n",
       "      <td>6.0</td>\n",
       "      <td>2.0</td>\n",
       "      <td>42.0</td>\n",
       "      <td>1.0</td>\n",
       "      <td>0.0</td>\n",
       "    </tr>\n",
       "    <tr>\n",
       "      <th>136526</th>\n",
       "      <td>2005</td>\n",
       "      <td>104745</td>\n",
       "      <td>103990</td>\n",
       "      <td>0.0</td>\n",
       "      <td>1.0</td>\n",
       "      <td>2.0</td>\n",
       "      <td>6.0</td>\n",
       "      <td>2.0</td>\n",
       "      <td>17.0</td>\n",
       "      <td>1.0</td>\n",
       "      <td>0.0</td>\n",
       "    </tr>\n",
       "    <tr>\n",
       "      <th>136534</th>\n",
       "      <td>2005</td>\n",
       "      <td>104745</td>\n",
       "      <td>103285</td>\n",
       "      <td>3.0</td>\n",
       "      <td>4.0</td>\n",
       "      <td>2.0</td>\n",
       "      <td>4.0</td>\n",
       "      <td>2.0</td>\n",
       "      <td>14.0</td>\n",
       "      <td>1.0</td>\n",
       "      <td>75.0</td>\n",
       "    </tr>\n",
       "  </tbody>\n",
       "</table>\n",
       "</div>"
      ],
      "text/plain": [
       "        year  winner_id  loser_id  w_bpSaved  w_bpFaced  l_bpSaved  l_bpFaced  \\\n",
       "136510  2005     104745    103812        0.0        1.0        3.0        6.0   \n",
       "136526  2005     104745    103990        0.0        1.0        2.0        6.0   \n",
       "136534  2005     104745    103285        3.0        4.0        2.0        4.0   \n",
       "\n",
       "        winner_rank  loser_rank  game_result  winned_bp  \n",
       "136510          2.0        42.0          1.0        0.0  \n",
       "136526          2.0        17.0          1.0        0.0  \n",
       "136534          2.0        14.0          1.0       75.0  "
      ]
     },
     "metadata": {},
     "output_type": "display_data"
    }
   ],
   "source": [
    "# выбираем  временное окно 2005-2015\n",
    "task_04 = task_04[(task_04['year'] >= 2005) & (task_04['year'] <= 2015)]\n",
    "df_info(task_04)"
   ]
  },
  {
   "cell_type": "code",
   "execution_count": 54,
   "metadata": {},
   "outputs": [
    {
     "data": {
      "text/html": [
       "<div>\n",
       "<style scoped>\n",
       "    .dataframe tbody tr th:only-of-type {\n",
       "        vertical-align: middle;\n",
       "    }\n",
       "\n",
       "    .dataframe tbody tr th {\n",
       "        vertical-align: top;\n",
       "    }\n",
       "\n",
       "    .dataframe thead th {\n",
       "        text-align: right;\n",
       "    }\n",
       "</style>\n",
       "<table border=\"1\" class=\"dataframe\">\n",
       "  <thead>\n",
       "    <tr style=\"text-align: right;\">\n",
       "      <th></th>\n",
       "      <th>103819_1.0</th>\n",
       "      <th>103819_0.0</th>\n",
       "      <th>104925_1.0</th>\n",
       "      <th>104925_0.0</th>\n",
       "      <th>104745_1.0</th>\n",
       "      <th>104745_0.0</th>\n",
       "    </tr>\n",
       "    <tr>\n",
       "      <th>year</th>\n",
       "      <th></th>\n",
       "      <th></th>\n",
       "      <th></th>\n",
       "      <th></th>\n",
       "      <th></th>\n",
       "      <th></th>\n",
       "    </tr>\n",
       "  </thead>\n",
       "  <tbody>\n",
       "    <tr>\n",
       "      <th>2005</th>\n",
       "      <td>64.243836</td>\n",
       "      <td>40.300000</td>\n",
       "      <td>67.000000</td>\n",
       "      <td>54.100000</td>\n",
       "      <td>62.619403</td>\n",
       "      <td>50.466667</td>\n",
       "    </tr>\n",
       "    <tr>\n",
       "      <th>2006</th>\n",
       "      <td>66.363095</td>\n",
       "      <td>50.000000</td>\n",
       "      <td>61.560000</td>\n",
       "      <td>52.073333</td>\n",
       "      <td>70.866038</td>\n",
       "      <td>50.320000</td>\n",
       "    </tr>\n",
       "    <tr>\n",
       "      <th>2007</th>\n",
       "      <td>64.980328</td>\n",
       "      <td>52.983333</td>\n",
       "      <td>69.075000</td>\n",
       "      <td>56.270000</td>\n",
       "      <td>70.122581</td>\n",
       "      <td>56.760000</td>\n",
       "    </tr>\n",
       "    <tr>\n",
       "      <th>2008</th>\n",
       "      <td>71.783333</td>\n",
       "      <td>58.490000</td>\n",
       "      <td>67.315000</td>\n",
       "      <td>59.780000</td>\n",
       "      <td>64.375362</td>\n",
       "      <td>49.877778</td>\n",
       "    </tr>\n",
       "    <tr>\n",
       "      <th>2009</th>\n",
       "      <td>74.607843</td>\n",
       "      <td>52.262500</td>\n",
       "      <td>65.311688</td>\n",
       "      <td>57.783333</td>\n",
       "      <td>66.294643</td>\n",
       "      <td>54.110000</td>\n",
       "    </tr>\n",
       "    <tr>\n",
       "      <th>2010</th>\n",
       "      <td>70.996226</td>\n",
       "      <td>54.245455</td>\n",
       "      <td>67.857407</td>\n",
       "      <td>56.100000</td>\n",
       "      <td>65.139683</td>\n",
       "      <td>48.200000</td>\n",
       "    </tr>\n",
       "    <tr>\n",
       "      <th>2011</th>\n",
       "      <td>65.290741</td>\n",
       "      <td>61.840000</td>\n",
       "      <td>65.045161</td>\n",
       "      <td>36.925000</td>\n",
       "      <td>63.628070</td>\n",
       "      <td>47.150000</td>\n",
       "    </tr>\n",
       "    <tr>\n",
       "      <th>2012</th>\n",
       "      <td>74.124561</td>\n",
       "      <td>46.742857</td>\n",
       "      <td>66.338571</td>\n",
       "      <td>49.716667</td>\n",
       "      <td>72.132500</td>\n",
       "      <td>38.750000</td>\n",
       "    </tr>\n",
       "    <tr>\n",
       "      <th>2013</th>\n",
       "      <td>69.852273</td>\n",
       "      <td>60.663636</td>\n",
       "      <td>65.454237</td>\n",
       "      <td>61.050000</td>\n",
       "      <td>69.810000</td>\n",
       "      <td>69.825000</td>\n",
       "    </tr>\n",
       "    <tr>\n",
       "      <th>2014</th>\n",
       "      <td>75.493220</td>\n",
       "      <td>61.025000</td>\n",
       "      <td>64.198305</td>\n",
       "      <td>36.325000</td>\n",
       "      <td>70.951111</td>\n",
       "      <td>53.955556</td>\n",
       "    </tr>\n",
       "    <tr>\n",
       "      <th>2015</th>\n",
       "      <td>67.451020</td>\n",
       "      <td>60.133333</td>\n",
       "      <td>63.633824</td>\n",
       "      <td>75.733333</td>\n",
       "      <td>67.382759</td>\n",
       "      <td>51.120000</td>\n",
       "    </tr>\n",
       "  </tbody>\n",
       "</table>\n",
       "</div>"
      ],
      "text/plain": [
       "      103819_1.0  103819_0.0  104925_1.0  104925_0.0  104745_1.0  104745_0.0\n",
       "year                                                                        \n",
       "2005   64.243836   40.300000   67.000000   54.100000   62.619403   50.466667\n",
       "2006   66.363095   50.000000   61.560000   52.073333   70.866038   50.320000\n",
       "2007   64.980328   52.983333   69.075000   56.270000   70.122581   56.760000\n",
       "2008   71.783333   58.490000   67.315000   59.780000   64.375362   49.877778\n",
       "2009   74.607843   52.262500   65.311688   57.783333   66.294643   54.110000\n",
       "2010   70.996226   54.245455   67.857407   56.100000   65.139683   48.200000\n",
       "2011   65.290741   61.840000   65.045161   36.925000   63.628070   47.150000\n",
       "2012   74.124561   46.742857   66.338571   49.716667   72.132500   38.750000\n",
       "2013   69.852273   60.663636   65.454237   61.050000   69.810000   69.825000\n",
       "2014   75.493220   61.025000   64.198305   36.325000   70.951111   53.955556\n",
       "2015   67.451020   60.133333   63.633824   75.733333   67.382759   51.120000"
      ]
     },
     "execution_count": 54,
     "metadata": {},
     "output_type": "execute_result"
    }
   ],
   "source": [
    "# Сбор общей статистики по игрокам\n",
    "result = []\n",
    "for gamer_id in ids:\n",
    "    for game_result in task_04.game_result.unique():\n",
    "        df = (task_04[(task_04.game_result == game_result) & \n",
    "                      ((task_04.winner_id == gamer_id) | (task_04.loser_id == gamer_id))])\n",
    "        df = df.groupby(['year'])['winned_bp'].mean().reset_index()\n",
    "        # Set the column name to \"<gamer_id>_<result>\"\n",
    "        column_name = f\"{gamer_id}_{game_result}\"\n",
    "        df.rename(columns={'winned_bp': column_name}, inplace=True)\n",
    "        df.set_index('year', inplace=True)\n",
    "        result.append(df)\n",
    "\n",
    "# Concatenate the result dataframes on the columns\n",
    "task_04_result_df = pd.concat(result, axis=1)\n",
    "task_04_result_df"
   ]
  },
  {
   "cell_type": "code",
   "execution_count": 55,
   "metadata": {},
   "outputs": [
    {
     "data": {
      "image/png": "[encoded data removed]",
      "text/plain": [
       "<Figure size 1000x600 with 1 Axes>"
      ]
     },
     "metadata": {},
     "output_type": "display_data"
    }
   ],
   "source": [
    "# Создание боксплотов\n",
    "ax = task_04_result_df.boxplot(figsize=(10, 6))\n",
    "ax.set_title('Boxplot of Game Results by Year')\n",
    "ax.set_xlabel('Gamer ID, Game Result')\n",
    "ax.set_ylabel('Mean % Win BP')\n",
    "plt.show()"
   ]
  },
  {
   "cell_type": "markdown",
   "metadata": {},
   "source": [
    "###  Обоснование выбора тестов"
   ]
  },
  {
   "cell_type": "markdown",
   "metadata": {},
   "source": [
    "Для того чтобы выяснить, независимо ли распределение метрики winned_bp по годам для каждого игрока, можно использовать следующие статистические тесты:\n",
    "\n",
    "* Для одного игрока (внутригрупповой анализ):\n",
    "\n",
    "Чтобы проверить независимость распределения winned_bp по годам для победных и проигранных матчей одного игрока, можно использовать `двусторонний хи-квадрат тест независимости`. Этот тест сравнит частоты winned_bp для победных и проигранных матчей по каждому году.\n",
    "\n",
    "* Между игроками (межгрупповой анализ):\n",
    "Для сравнения средних значений метрики winned_bp между игроками для выигранных матчей и отдельно для проигранных матчей можно использовать `однофакторный ANOVA тест`, если предполагается, что данные распределены нормально и дисперсии равны.\n",
    "\n",
    "Если данные не соответствуют предпосылкам нормальности или гомоскедастичности, следует использовать непараметрический тест, например, Краскела-Уоллиса.\n",
    "\n",
    "Перед применением статистических тестов, необходимо проверить предпосылки:\n",
    "\n",
    "`Нормальность распределения`: QQ-plot или тесты нормальности, такие как Шапиро-Уилка.\n",
    "\n",
    "`Равенство дисперсий`: тест Левена или Бартлетта.\n",
    "\n",
    "После проверки предпосылок выбираем соответствующий статистический тест. Если предпосылки не выполняются, используем соответствующие непараметрические тесты."
   ]
  },
  {
   "cell_type": "markdown",
   "metadata": {},
   "source": [
    "1. Проверить предположение о независимости распределений по годам для каждого игрока с помощью теста Краскела-Уоллиса. Это непараметрический аналог одностороннего дисперсионного анализа (ANOVA), который не требует предположения о нормальном распределении данных. Нулевая гипотеза: распределения по годам идентичны для каждого игрока, альтернативная: по крайней мере одно распределение отличается от остальных.\n",
    "\n"
   ]
  },
  {
   "cell_type": "code",
   "execution_count": 56,
   "metadata": {},
   "outputs": [
    {
     "name": "stdout",
     "output_type": "stream",
     "text": [
      "Для игрока 103819: Отвергаем нулевую гипотезу. Принимаем гипотезу по крайней мере одно распределение отличается от остальных\n",
      "Для игрока 104925: Отвергаем нулевую гипотезу. Принимаем гипотезу по крайней мере одно распределение отличается от остальных\n",
      "Для игрока 104745: Отвергаем нулевую гипотезу. Принимаем гипотезу по крайней мере одно распределение отличается от остальных\n"
     ]
    }
   ],
   "source": [
    "H0 = 'распределения по годам идентичны для каждого игрока'\n",
    "H1 = 'по крайней мере одно распределение отличается от остальных'\n",
    "\n",
    "def run_kruskal_test(player_id, task_04_result_df):\n",
    "    statistic, p_value = kruskal(task_04_result_df[f'{player_id}_1.0'], task_04_result_df[f'{player_id}_0.0'])\n",
    "    result = f\"Отвергаем нулевую гипотезу. Принимаем гипотезу {H1}\" if p_value < 0.05 else f\"Принимаем альтернативную гипотезу {H1}\"\n",
    "    print(f\"Для игрока {player_id}: {result}\")\n",
    "\n",
    "for player in ids:\n",
    "    run_kruskal_test(player, task_04_result_df)"
   ]
  },
  {
   "cell_type": "markdown",
   "metadata": {},
   "source": [
    "2. Для сравнения долей выигранных брейк-поинтов между игроками можно использовать тест Краскела-Уоллиса для независимых выборок. Проверяем гипотезу о том, что средние доли выигранных брейк-поинтов одинаковы для всех игроков, отдельно для проигранных и выигранных матчей. Если обнаруживается значимое различие, то можно провести попарные сравнения с помощью теста Манна-Уитни с поправкой Бонферрони."
   ]
  },
  {
   "cell_type": "code",
   "execution_count": 57,
   "metadata": {},
   "outputs": [
    {
     "name": "stdout",
     "output_type": "stream",
     "text": [
      "Для игрока 103819: Отвергаем нулевую гипотезу: средние доли выигранных брейк-поинтов различны.\n",
      "Для игрока 104925: Отвергаем нулевую гипотезу: средние доли выигранных брейк-поинтов различны.\n",
      "Для игрока 104745: Отвергаем нулевую гипотезу: средние доли выигранных брейк-поинтов различны.\n",
      "Сравнение для игроков 103819 и 104925: Принимаем нулевую гипотезу: средние доли выигранных брейк-поинтов одинаковы.\n",
      "Сравнение для игроков 103819 и 104745: Принимаем нулевую гипотезу: средние доли выигранных брейк-поинтов одинаковы.\n",
      "Сравнение для игроков 104925 и 104745: Принимаем нулевую гипотезу: средние доли выигранных брейк-поинтов одинаковы.\n"
     ]
    }
   ],
   "source": [
    "def run_kruskal_wallis_test(task_04_result_df):\n",
    "    \n",
    "    for player in ids:\n",
    "        player_data = task_04_result_df[[f'{player}_1.0', f'{player}_0.0']]\n",
    "        statistic, p_value = kruskal(player_data[f'{player}_1.0'], player_data[f'{player}_0.0'])\n",
    "        result = \"Отвергаем нулевую гипотезу: средние доли выигранных брейк-поинтов различны.\" if p_value < 0.05 else \"Принимаем нулевую гипотезу: средние доли выигранных брейк-поинтов одинаковы.\"\n",
    "        print(f\"Для игрока {player}: {result}\")\n",
    "\n",
    "    # Попарные сравнения с помощью теста Манна-Уитни с поправкой Бонферрони\n",
    "    for i in range(len(ids)):\n",
    "        for j in range(i+1, len(ids)):\n",
    "            player1_data = task_04_result_df[[f'{ids[i]}_1.0', f'{ids[i]}_0.0']]\n",
    "            player2_data = task_04_result_df[[f'{ids[j]}_1.0', f'{ids[j]}_0.0']]\n",
    "            _, p_value = mannwhitneyu(player1_data[f'{ids[i]}_1.0'], player2_data[f'{ids[j]}_1.0'], alternative='two-sided')\n",
    "            adjusted_p_value = p_value * len(ids) * (len(ids) - 1) / 2  # Поправка Бонферрони\n",
    "            comparison_result = \"Отвергаем нулевую гипотезу: средние доли выигранных брейк-поинтов различны.\" if adjusted_p_value < 0.05 else \"Принимаем нулевую гипотезу: средние доли выигранных брейк-поинтов одинаковы.\"\n",
    "            print(f\"Сравнение для игроков {ids[i]} и {ids[j]}: {comparison_result}\")\n",
    "\n",
    "run_kruskal_wallis_test(task_04_result_df)"
   ]
  },
  {
   "cell_type": "markdown",
   "metadata": {},
   "source": [
    "### Выводы по задаче 04"
   ]
  },
  {
   "cell_type": "markdown",
   "metadata": {},
   "source": [
    "Являются ли эти распределения по годам (по победным и по проигранным матчам) независимыми для каждого из игроков?  - Являются.\n",
    "\n",
    "Если сравнивать эту статистику между игроками — будет ли разница в средних для проигранных и выигранных матчей значимой попарно между всеми игроками? Разницы нет."
   ]
  },
  {
   "cell_type": "markdown",
   "metadata": {},
   "source": [
    "## Задача_05"
   ]
  },
  {
   "cell_type": "markdown",
   "metadata": {},
   "source": [
    "У вас есть гипотеза, что доля выигранных брейк-поинтов связана с вероятностью победить в игре. Соберите статистику, где для каждого матча будет собран его исход (победа/поражение) и доля выигранных брейк-поинтов (не забудьте, что в матче два игрока). Разделите долю выигранных брейкпоинтов на группы выше/ниже медианы и, используя информацию о исходе матча, проверьте зависимость между количеством выигранных брейкпоинтов и результатом матча. Насколько сильна эта зависимость? Выбор статистического теста обоснуйте."
   ]
  },
  {
   "cell_type": "markdown",
   "metadata": {},
   "source": [
    "1. Создайте новый признак, который будет отражать долю выигранных брейк-поинтов для каждого игрока в матче. Для этого используйте следующую формулу:\n",
    "\n",
    "Доля выигранных брейк-поинтов = (wbpSaved + lbpSaved) / (wbpFaced + lbpFaced)\n",
    "\n",
    "2. После этого разделите выборку на две группы: матчи, где игроки выиграли брейк-поинты больше или равно медианы, и матчи, где они выиграли меньше медианы.\n",
    "\n",
    "3. Составьте таблицу сопряжённости, где строки будут представлять долю выигранных брейк-поинтов (выше/ниже медианы), а столбцы — исход матча (победа/поражение)."
   ]
  },
  {
   "cell_type": "markdown",
   "metadata": {},
   "source": [
    "Надо для каждого игрока собрать данные о брейк-поинтах (колонки bpFaced и bpSaved) за минимум 10 лет подряд, отдельно для победных и проигранных матчей.\n",
    "Посчитать долю выигранных брейк-поинтов (bpSaved / bpFaced) для каждого игрока, отдельно для победных и проигранных матчей по годам.\n",
    "Можно сделать по принципе задания 4."
   ]
  },
  {
   "cell_type": "code",
   "execution_count": 58,
   "metadata": {},
   "outputs": [
    {
     "name": "stdout",
     "output_type": "stream",
     "text": [
      "Количество записей: \t 114879\n",
      "Количество столбцов: \t 5\n",
      "Явных дубликатов: \t 0\n",
      "Пропуски присутствуют в 0 столбцах из 5:\n"
     ]
    },
    {
     "data": {
      "text/html": [
       "<div>\n",
       "<style scoped>\n",
       "    .dataframe tbody tr th:only-of-type {\n",
       "        vertical-align: middle;\n",
       "    }\n",
       "\n",
       "    .dataframe tbody tr th {\n",
       "        vertical-align: top;\n",
       "    }\n",
       "\n",
       "    .dataframe thead th {\n",
       "        text-align: right;\n",
       "    }\n",
       "</style>\n",
       "<table border=\"1\" class=\"dataframe\">\n",
       "  <thead>\n",
       "    <tr style=\"text-align: right;\">\n",
       "      <th></th>\n",
       "      <th>Пропущено %</th>\n",
       "    </tr>\n",
       "  </thead>\n",
       "  <tbody>\n",
       "  </tbody>\n",
       "</table>\n",
       "</div>"
      ],
      "text/plain": [
       "Empty DataFrame\n",
       "Columns: [Пропущено %]\n",
       "Index: []"
      ]
     },
     "metadata": {},
     "output_type": "display_data"
    },
    {
     "name": "stdout",
     "output_type": "stream",
     "text": [
      "Обобщенная информация:\n",
      "<class 'pandas.core.frame.DataFrame'>\n",
      "Index: 114879 entries, 0 to 172719\n",
      "Columns: 5 entries, year to breakpoints_level\n",
      "dtypes: float64(1), int64(3), object(1)\n",
      "memory usage: 5.3+ MB\n"
     ]
    },
    {
     "data": {
      "text/plain": [
       "None"
      ]
     },
     "metadata": {},
     "output_type": "display_data"
    },
    {
     "name": "stdout",
     "output_type": "stream",
     "text": [
      "Первые 3 строки:\n"
     ]
    },
    {
     "data": {
      "text/html": [
       "<div>\n",
       "<style scoped>\n",
       "    .dataframe tbody tr th:only-of-type {\n",
       "        vertical-align: middle;\n",
       "    }\n",
       "\n",
       "    .dataframe tbody tr th {\n",
       "        vertical-align: top;\n",
       "    }\n",
       "\n",
       "    .dataframe thead th {\n",
       "        text-align: right;\n",
       "    }\n",
       "</style>\n",
       "<table border=\"1\" class=\"dataframe\">\n",
       "  <thead>\n",
       "    <tr style=\"text-align: right;\">\n",
       "      <th></th>\n",
       "      <th>year</th>\n",
       "      <th>id</th>\n",
       "      <th>bp_ratio</th>\n",
       "      <th>result</th>\n",
       "      <th>breakpoints_level</th>\n",
       "    </tr>\n",
       "  </thead>\n",
       "  <tbody>\n",
       "    <tr>\n",
       "      <th>0</th>\n",
       "      <td>1991</td>\n",
       "      <td>101723</td>\n",
       "      <td>50.0</td>\n",
       "      <td>1</td>\n",
       "      <td>less median</td>\n",
       "    </tr>\n",
       "    <tr>\n",
       "      <th>1</th>\n",
       "      <td>1991</td>\n",
       "      <td>100946</td>\n",
       "      <td>90.0</td>\n",
       "      <td>1</td>\n",
       "      <td>more median</td>\n",
       "    </tr>\n",
       "    <tr>\n",
       "      <th>2</th>\n",
       "      <td>1991</td>\n",
       "      <td>101234</td>\n",
       "      <td>100.0</td>\n",
       "      <td>1</td>\n",
       "      <td>more median</td>\n",
       "    </tr>\n",
       "  </tbody>\n",
       "</table>\n",
       "</div>"
      ],
      "text/plain": [
       "   year      id  bp_ratio  result breakpoints_level\n",
       "0  1991  101723      50.0       1       less median\n",
       "1  1991  100946      90.0       1       more median\n",
       "2  1991  101234     100.0       1       more median"
      ]
     },
     "metadata": {},
     "output_type": "display_data"
    },
    {
     "name": "stdout",
     "output_type": "stream",
     "text": [
      "66.7 53.3\n"
     ]
    }
   ],
   "source": [
    "# Создание выборки для задачи\n",
    "combined_df = pd.read_csv('full_data/combined_atp_matches.csv')\n",
    "\n",
    "# Выбор определенных столбцов и удаление строк с отсутствующими значениями\n",
    "task_05 = combined_df[['year', 'winner_id', 'loser_id', 'w_bpSaved', 'w_bpFaced', 'l_bpSaved', 'l_bpFaced']].dropna()\n",
    "\n",
    "# Вычисление показателей соотношения брейк-поинтов\n",
    "task_05['bp_ratio_winner'] = round((task_05['w_bpSaved'] / task_05['w_bpFaced'] * 100), 1)\n",
    "task_05['bp_ratio_loser'] = round((task_05['l_bpSaved'] / task_05['l_bpFaced'] * 100), 1)\n",
    "\n",
    "# Удаление строк с отсутствующими значениями\n",
    "task_05 = task_05.dropna()\n",
    "\n",
    "# Создание DataFrame для победителей и проигравших\n",
    "winners = task_05[['year', 'winner_id', 'bp_ratio_winner']].rename(columns={'winner_id': 'id', 'bp_ratio_winner': 'bp_ratio'})\n",
    "losers = task_05[['year', 'loser_id', 'bp_ratio_loser']].rename(columns={'loser_id': 'id', 'bp_ratio_loser': 'bp_ratio'})\n",
    "\n",
    "# Добавление столбца 'result'\n",
    "winners['result'] = 1\n",
    "losers['result'] = 0\n",
    "\n",
    "# Удаление дублирующихся строк\n",
    "task_05 = task_05.drop_duplicates()\n",
    "\n",
    "# Объединение DataFrame\n",
    "task_05 = pd.concat([winners, losers], ignore_index=True)\n",
    "task_05 = task_05.drop_duplicates()\n",
    "\n",
    "# Вычисление медианы показателя брейк-поинтов для победителей и проигравших\n",
    "losers_median = losers.bp_ratio.median()\n",
    "winners_median = winners.bp_ratio.median()\n",
    "\n",
    "# Создание столбца 'breakpoints_level'\n",
    "task_05['breakpoints_level'] = (task_05\n",
    "                           .apply(lambda x: \n",
    "                                  'more median' if (x['bp_ratio'] >= winners_median and x['result'] == 1) else \n",
    "                                  'less median' if (x['bp_ratio'] < winners_median and x['result'] == 1) else \n",
    "                                  'more median' if (x['bp_ratio'] >= losers_median and x['result'] == 0) else \n",
    "                                  'less median' if (x['bp_ratio'] < losers_median and x['result'] == 0) else '', axis=1))\n",
    "\n",
    "df_info(task_05)  # Отображение информации о DataFrame\n",
    "print(winners_median, losers_median)"
   ]
  },
  {
   "cell_type": "code",
   "execution_count": 59,
   "metadata": {},
   "outputs": [
    {
     "data": {
      "text/html": [
       "<div>\n",
       "<style scoped>\n",
       "    .dataframe tbody tr th:only-of-type {\n",
       "        vertical-align: middle;\n",
       "    }\n",
       "\n",
       "    .dataframe tbody tr th {\n",
       "        vertical-align: top;\n",
       "    }\n",
       "\n",
       "    .dataframe thead th {\n",
       "        text-align: right;\n",
       "    }\n",
       "</style>\n",
       "<table border=\"1\" class=\"dataframe\">\n",
       "  <thead>\n",
       "    <tr style=\"text-align: right;\">\n",
       "      <th>breakpoints_level</th>\n",
       "      <th>less median</th>\n",
       "      <th>more median</th>\n",
       "    </tr>\n",
       "    <tr>\n",
       "      <th>result</th>\n",
       "      <th></th>\n",
       "      <th></th>\n",
       "    </tr>\n",
       "  </thead>\n",
       "  <tbody>\n",
       "    <tr>\n",
       "      <th>0</th>\n",
       "      <td>30556</td>\n",
       "      <td>35615</td>\n",
       "    </tr>\n",
       "    <tr>\n",
       "      <th>1</th>\n",
       "      <td>22003</td>\n",
       "      <td>26705</td>\n",
       "    </tr>\n",
       "  </tbody>\n",
       "</table>\n",
       "</div>"
      ],
      "text/plain": [
       "breakpoints_level  less median  more median\n",
       "result                                     \n",
       "0                        30556        35615\n",
       "1                        22003        26705"
      ]
     },
     "execution_count": 59,
     "metadata": {},
     "output_type": "execute_result"
    }
   ],
   "source": [
    "task_05.groupby('result')['breakpoints_level'].value_counts().unstack()"
   ]
  },
  {
   "cell_type": "code",
   "execution_count": 60,
   "metadata": {},
   "outputs": [
    {
     "data": {
      "image/png": "[encoded data removed]",
      "text/plain": [
       "<Figure size 640x480 with 1 Axes>"
      ]
     },
     "metadata": {},
     "output_type": "display_data"
    }
   ],
   "source": [
    "count_of_games = task_05.groupby('result')['breakpoints_level'].value_counts().unstack().plot(kind='bar')\n",
    "count_of_games.set_title('Breakpoints Level Histogram')\n",
    "plt.xlabel('Результат Матча: 0 - Поражение, 1 - Победа')\n",
    "plt.ylabel('Количество наблюдений')\n",
    "plt.legend(title='Доля выигранных брейкпоинтов')\n",
    "plt.show()\n"
   ]
  },
  {
   "cell_type": "code",
   "execution_count": 61,
   "metadata": {},
   "outputs": [
    {
     "data": {
      "text/html": [
       "<div>\n",
       "<style scoped>\n",
       "    .dataframe tbody tr th:only-of-type {\n",
       "        vertical-align: middle;\n",
       "    }\n",
       "\n",
       "    .dataframe tbody tr th {\n",
       "        vertical-align: top;\n",
       "    }\n",
       "\n",
       "    .dataframe thead th {\n",
       "        text-align: right;\n",
       "    }\n",
       "</style>\n",
       "<table border=\"1\" class=\"dataframe\">\n",
       "  <thead>\n",
       "    <tr style=\"text-align: right;\">\n",
       "      <th>breakpoints_level</th>\n",
       "      <th>less median</th>\n",
       "      <th>more median</th>\n",
       "    </tr>\n",
       "    <tr>\n",
       "      <th>result</th>\n",
       "      <th></th>\n",
       "      <th></th>\n",
       "    </tr>\n",
       "  </thead>\n",
       "  <tbody>\n",
       "    <tr>\n",
       "      <th>0</th>\n",
       "      <td>30556</td>\n",
       "      <td>35615</td>\n",
       "    </tr>\n",
       "    <tr>\n",
       "      <th>1</th>\n",
       "      <td>22003</td>\n",
       "      <td>26705</td>\n",
       "    </tr>\n",
       "  </tbody>\n",
       "</table>\n",
       "</div>"
      ],
      "text/plain": [
       "breakpoints_level  less median  more median\n",
       "result                                     \n",
       "0                        30556        35615\n",
       "1                        22003        26705"
      ]
     },
     "execution_count": 61,
     "metadata": {},
     "output_type": "execute_result"
    }
   ],
   "source": [
    "count_of_games = task_05.groupby('result')['breakpoints_level'].value_counts().unstack()\n",
    "count_of_games"
   ]
  },
  {
   "cell_type": "code",
   "execution_count": 62,
   "metadata": {},
   "outputs": [
    {
     "data": {
      "text/plain": [
       "30556"
      ]
     },
     "execution_count": 62,
     "metadata": {},
     "output_type": "execute_result"
    }
   ],
   "source": [
    "count_of_games['less median'][0]"
   ]
  },
  {
   "cell_type": "markdown",
   "metadata": {},
   "source": [
    "### Обоснование выбора теста"
   ]
  },
  {
   "cell_type": "markdown",
   "metadata": {},
   "source": [
    "Парный Z-тест используется для сравнения средних значений двух связанных выборок. В вашем случае, если у вас есть две выборки, например, значения \"breakpoints_level\" для двух разных медианных значений \"less median\" и \"more median\", вы можете использовать парный Z-тест, чтобы определить, есть ли статистически значимая разница между этими двумя значениями."
   ]
  },
  {
   "cell_type": "code",
   "execution_count": 63,
   "metadata": {},
   "outputs": [
    {
     "name": "stdout",
     "output_type": "stream",
     "text": [
      "p-value:  0.0\n",
      "Отвергаем нулевую гипотезу. Соотношения долей брейкпоинтов (больше / меньше медианы) -  в группах 0 и 1 равны\n",
      "Альтернативная гипотеза. H1: Доля брейкпоинтов больше медианы -  в группе 0 выше, чем в группе 1\n"
     ]
    }
   ],
   "source": [
    "# нулевая и альтернативная гипотезы\n",
    "H0 = 'Соотношения долей брейкпоинтов (больше / меньше медианы) -  в группах 0 и 1 равны'\n",
    "H1 = 'Доля брейкпоинтов больше медианы -  в группе 0 выше, чем в группе 1'\n",
    "alpha = 0.05 # уровень значимости\n",
    "# вычисляем значение p-value для z-теста для пропорций\n",
    "_, p_value = proportions_ztest(\n",
    "    count=count_of_games['less median'],  \n",
    "    nobs=count_of_games['more median'],  \n",
    "    alternative='larger',\n",
    ")\n",
    "# выводим результат на экран\n",
    "print('p-value: ', round(p_value, 2))\n",
    "# сравниваем полученное p-value с уровнем значимости\n",
    "if (p_value < alpha): \n",
    "    print(\"Отвергаем нулевую гипотезу. {}\".format(H0))\n",
    "    print(\"Альтернативная гипотеза. H1: {}\".format(H1))\n",
    "else:\n",
    "    print(\"Принимаем нулевую гипотезу. {}\".format(H0))\n",
    " "
   ]
  },
  {
   "cell_type": "markdown",
   "metadata": {},
   "source": [
    "### Вывод по задаче 5"
   ]
  },
  {
   "cell_type": "markdown",
   "metadata": {},
   "source": [
    "Доля выигранных брейк-поинтов связана с вероятностью победить в игре./"
   ]
  }
 ],
 "metadata": {
  "kernelspec": {
   "display_name": "mipt",
   "language": "python",
   "name": "python3"
  },
  "language_info": {
   "codemirror_mode": {
    "name": "ipython",
    "version": 3
   },
   "file_extension": ".py",
   "mimetype": "text/x-python",
   "name": "python",
   "nbconvert_exporter": "python",
   "pygments_lexer": "ipython3",
   "version": "3.11.7"
  }
 },
 "nbformat": 4,
 "nbformat_minor": 2
}
