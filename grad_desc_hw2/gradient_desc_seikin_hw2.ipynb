{
  "cells": [
    {
      "cell_type": "code",
      "execution_count": 60,
      "metadata": {},
      "outputs": [
        {
          "name": "stdout",
          "output_type": "stream",
          "text": [
            "optuna ver.: 3.5.0\n"
          ]
        }
      ],
      "source": [
        "# install optuna if not\n",
        "try:\n",
        "    import optuna\n",
        "    print('optuna ver.:', optuna.__version__)\n",
        "except:\n",
        "    !pip install optuna"
      ]
    },
    {
      "cell_type": "code",
      "execution_count": 61,
      "metadata": {},
      "outputs": [],
      "source": [
        "# Imports\n",
        "import pandas as pd\n",
        "import numpy as np\n",
        "import matplotlib.pyplot as plt\n",
        "import optuna\n",
        "from sklearn.linear_model import SGDRegressor\n",
        "from sklearn.preprocessing import StandardScaler\n",
        "from sklearn.metrics import mean_squared_error, mean_absolute_error\n",
        "from sklearn.model_selection import train_test_split, cross_val_score\n",
        "from IPython.display import display"
      ]
    },
    {
      "cell_type": "markdown",
      "metadata": {
        "id": "NyHIGVhfa_Wf"
      },
      "source": [
        "# Стохастический градиентный и координатный спуски"
      ]
    },
    {
      "cell_type": "markdown",
      "metadata": {
        "id": "gn6lluIADUKa"
      },
      "source": [
        "Для каждого задания указано количество баллов (если они оцениваются отдельно) + 1 балл за аккуратное и полное выполнение всего задания"
      ]
    },
    {
      "cell_type": "markdown",
      "metadata": {
        "id": "txCccYvha_Wv"
      },
      "source": [
        "## Загрузка и подготовка данных"
      ]
    },
    {
      "cell_type": "markdown",
      "metadata": {
        "id": "NbyOzeZ6a_Wx"
      },
      "source": [
        "**✔Загрузите уже знакомый вам файл *Advertising.csv* как объект DataFrame.** "
      ]
    },
    {
      "cell_type": "code",
      "execution_count": 62,
      "metadata": {
        "id": "E1L4_xeDa_Wz"
      },
      "outputs": [],
      "source": [
        "df = pd.read_csv('Advertising.csv')"
      ]
    },
    {
      "cell_type": "markdown",
      "metadata": {
        "id": "bf4aVFndDUKf"
      },
      "source": [
        "**✔Проверьте, есть ли в данных пропуски и, если они есть - удалите их**"
      ]
    },
    {
      "cell_type": "code",
      "execution_count": 63,
      "metadata": {},
      "outputs": [
        {
          "name": "stdout",
          "output_type": "stream",
          "text": [
            "Number of records:\t 200\n",
            "Number of columns:\t 5\n",
            "Explicit duplicates:\t 0\n",
            "Missing values present in 0 columns out of 5:\n",
            "Number of unique values in each feature:\n"
          ]
        },
        {
          "data": {
            "text/html": [
              "<div>\n",
              "<style scoped>\n",
              "    .dataframe tbody tr th:only-of-type {\n",
              "        vertical-align: middle;\n",
              "    }\n",
              "\n",
              "    .dataframe tbody tr th {\n",
              "        vertical-align: top;\n",
              "    }\n",
              "\n",
              "    .dataframe thead th {\n",
              "        text-align: right;\n",
              "    }\n",
              "</style>\n",
              "<table border=\"1\" class=\"dataframe\">\n",
              "  <thead>\n",
              "    <tr style=\"text-align: right;\">\n",
              "      <th></th>\n",
              "      <th>Unique Values</th>\n",
              "    </tr>\n",
              "  </thead>\n",
              "  <tbody>\n",
              "    <tr>\n",
              "      <th>Unnamed: 0</th>\n",
              "      <td>200</td>\n",
              "    </tr>\n",
              "    <tr>\n",
              "      <th>TV</th>\n",
              "      <td>190</td>\n",
              "    </tr>\n",
              "    <tr>\n",
              "      <th>newspaper</th>\n",
              "      <td>172</td>\n",
              "    </tr>\n",
              "    <tr>\n",
              "      <th>radio</th>\n",
              "      <td>167</td>\n",
              "    </tr>\n",
              "    <tr>\n",
              "      <th>sales</th>\n",
              "      <td>121</td>\n",
              "    </tr>\n",
              "  </tbody>\n",
              "</table>\n",
              "</div>"
            ],
            "text/plain": [
              "            Unique Values\n",
              "Unnamed: 0            200\n",
              "TV                    190\n",
              "newspaper             172\n",
              "radio                 167\n",
              "sales                 121"
            ]
          },
          "metadata": {},
          "output_type": "display_data"
        },
        {
          "name": "stdout",
          "output_type": "stream",
          "text": [
            "\n",
            "Statistics:\n"
          ]
        },
        {
          "data": {
            "text/html": [
              "<div>\n",
              "<style scoped>\n",
              "    .dataframe tbody tr th:only-of-type {\n",
              "        vertical-align: middle;\n",
              "    }\n",
              "\n",
              "    .dataframe tbody tr th {\n",
              "        vertical-align: top;\n",
              "    }\n",
              "\n",
              "    .dataframe thead th {\n",
              "        text-align: right;\n",
              "    }\n",
              "</style>\n",
              "<table border=\"1\" class=\"dataframe\">\n",
              "  <thead>\n",
              "    <tr style=\"text-align: right;\">\n",
              "      <th></th>\n",
              "      <th>Unnamed: 0</th>\n",
              "      <th>TV</th>\n",
              "      <th>radio</th>\n",
              "      <th>newspaper</th>\n",
              "      <th>sales</th>\n",
              "    </tr>\n",
              "  </thead>\n",
              "  <tbody>\n",
              "    <tr>\n",
              "      <th>count</th>\n",
              "      <td>200.000000</td>\n",
              "      <td>200.000000</td>\n",
              "      <td>200.000000</td>\n",
              "      <td>200.000000</td>\n",
              "      <td>200.000000</td>\n",
              "    </tr>\n",
              "    <tr>\n",
              "      <th>mean</th>\n",
              "      <td>100.500000</td>\n",
              "      <td>147.042500</td>\n",
              "      <td>23.264000</td>\n",
              "      <td>30.554000</td>\n",
              "      <td>14.022500</td>\n",
              "    </tr>\n",
              "    <tr>\n",
              "      <th>std</th>\n",
              "      <td>57.879185</td>\n",
              "      <td>85.854236</td>\n",
              "      <td>14.846809</td>\n",
              "      <td>21.778621</td>\n",
              "      <td>5.217457</td>\n",
              "    </tr>\n",
              "    <tr>\n",
              "      <th>min</th>\n",
              "      <td>1.000000</td>\n",
              "      <td>0.700000</td>\n",
              "      <td>0.000000</td>\n",
              "      <td>0.300000</td>\n",
              "      <td>1.600000</td>\n",
              "    </tr>\n",
              "    <tr>\n",
              "      <th>25%</th>\n",
              "      <td>50.750000</td>\n",
              "      <td>74.375000</td>\n",
              "      <td>9.975000</td>\n",
              "      <td>12.750000</td>\n",
              "      <td>10.375000</td>\n",
              "    </tr>\n",
              "    <tr>\n",
              "      <th>50%</th>\n",
              "      <td>100.500000</td>\n",
              "      <td>149.750000</td>\n",
              "      <td>22.900000</td>\n",
              "      <td>25.750000</td>\n",
              "      <td>12.900000</td>\n",
              "    </tr>\n",
              "    <tr>\n",
              "      <th>75%</th>\n",
              "      <td>150.250000</td>\n",
              "      <td>218.825000</td>\n",
              "      <td>36.525000</td>\n",
              "      <td>45.100000</td>\n",
              "      <td>17.400000</td>\n",
              "    </tr>\n",
              "    <tr>\n",
              "      <th>max</th>\n",
              "      <td>200.000000</td>\n",
              "      <td>296.400000</td>\n",
              "      <td>49.600000</td>\n",
              "      <td>114.000000</td>\n",
              "      <td>27.000000</td>\n",
              "    </tr>\n",
              "  </tbody>\n",
              "</table>\n",
              "</div>"
            ],
            "text/plain": [
              "       Unnamed: 0          TV       radio   newspaper       sales\n",
              "count  200.000000  200.000000  200.000000  200.000000  200.000000\n",
              "mean   100.500000  147.042500   23.264000   30.554000   14.022500\n",
              "std     57.879185   85.854236   14.846809   21.778621    5.217457\n",
              "min      1.000000    0.700000    0.000000    0.300000    1.600000\n",
              "25%     50.750000   74.375000    9.975000   12.750000   10.375000\n",
              "50%    100.500000  149.750000   22.900000   25.750000   12.900000\n",
              "75%    150.250000  218.825000   36.525000   45.100000   17.400000\n",
              "max    200.000000  296.400000   49.600000  114.000000   27.000000"
            ]
          },
          "metadata": {},
          "output_type": "display_data"
        },
        {
          "name": "stdout",
          "output_type": "stream",
          "text": [
            "\n",
            "Summary information:\n",
            "<class 'pandas.core.frame.DataFrame'>\n",
            "RangeIndex: 200 entries, 0 to 199\n",
            "Data columns (total 5 columns):\n",
            " #   Column      Non-Null Count  Dtype  \n",
            "---  ------      --------------  -----  \n",
            " 0   Unnamed: 0  200 non-null    int64  \n",
            " 1   TV          200 non-null    float64\n",
            " 2   radio       200 non-null    float64\n",
            " 3   newspaper   200 non-null    float64\n",
            " 4   sales       200 non-null    float64\n",
            "dtypes: float64(4), int64(1)\n",
            "memory usage: 7.9 KB\n",
            "\n",
            "First 3 rows:\n"
          ]
        },
        {
          "data": {
            "text/html": [
              "<div>\n",
              "<style scoped>\n",
              "    .dataframe tbody tr th:only-of-type {\n",
              "        vertical-align: middle;\n",
              "    }\n",
              "\n",
              "    .dataframe tbody tr th {\n",
              "        vertical-align: top;\n",
              "    }\n",
              "\n",
              "    .dataframe thead th {\n",
              "        text-align: right;\n",
              "    }\n",
              "</style>\n",
              "<table border=\"1\" class=\"dataframe\">\n",
              "  <thead>\n",
              "    <tr style=\"text-align: right;\">\n",
              "      <th></th>\n",
              "      <th>Unnamed: 0</th>\n",
              "      <th>TV</th>\n",
              "      <th>radio</th>\n",
              "      <th>newspaper</th>\n",
              "      <th>sales</th>\n",
              "    </tr>\n",
              "  </thead>\n",
              "  <tbody>\n",
              "    <tr>\n",
              "      <th>0</th>\n",
              "      <td>1</td>\n",
              "      <td>230.1</td>\n",
              "      <td>37.8</td>\n",
              "      <td>69.2</td>\n",
              "      <td>22.1</td>\n",
              "    </tr>\n",
              "    <tr>\n",
              "      <th>1</th>\n",
              "      <td>2</td>\n",
              "      <td>44.5</td>\n",
              "      <td>39.3</td>\n",
              "      <td>45.1</td>\n",
              "      <td>10.4</td>\n",
              "    </tr>\n",
              "    <tr>\n",
              "      <th>2</th>\n",
              "      <td>3</td>\n",
              "      <td>17.2</td>\n",
              "      <td>45.9</td>\n",
              "      <td>69.3</td>\n",
              "      <td>9.3</td>\n",
              "    </tr>\n",
              "  </tbody>\n",
              "</table>\n",
              "</div>"
            ],
            "text/plain": [
              "   Unnamed: 0     TV  radio  newspaper  sales\n",
              "0           1  230.1   37.8       69.2   22.1\n",
              "1           2   44.5   39.3       45.1   10.4\n",
              "2           3   17.2   45.9       69.3    9.3"
            ]
          },
          "metadata": {},
          "output_type": "display_data"
        }
      ],
      "source": [
        "def df_info(df: pd.DataFrame):\n",
        "    \"\"\"\n",
        "    Displays comprehensive information about the pandas DataFrame including\n",
        "    the number of records, columns, explicit duplicates, missing values,\n",
        "    unique values, descriptive statistics, and a preview of the first 3 rows.\n",
        "\n",
        "    Parameters:\n",
        "    df (pd.DataFrame): The DataFrame to be analyzed.\n",
        "    \"\"\"\n",
        "    len_df = len(df)\n",
        "    na_columns = df.isna().sum()\n",
        "    missing_value_columns = na_columns[na_columns > 0]\n",
        "    unique_counts = df.nunique()\n",
        "\n",
        "    # General Information\n",
        "    print(f'Number of records:\\t {len_df}')\n",
        "    print(f'Number of columns:\\t {len(df.columns)}')\n",
        "    print(f'Explicit duplicates:\\t {df.duplicated().sum()}')\n",
        "\n",
        "    # Missing Values Information\n",
        "    print(f'Missing values present in {len(missing_value_columns)} columns out of {len(df.columns)}:')\n",
        "    missing_percentage = (missing_value_columns / len_df * 100).sort_values(ascending=False)\n",
        "    if any(missing_percentage):\n",
        "        display(pd.DataFrame({'Missing Count': missing_value_columns, 'Missing %': missing_percentage}))\n",
        "\n",
        "    # Unique Values Information\n",
        "    print('Number of unique values in each feature:')\n",
        "    display(pd.DataFrame({'Unique Values': unique_counts}).sort_values(by='Unique Values', ascending=False))\n",
        "\n",
        "    # Descriptive Statistics\n",
        "    print('\\nStatistics:')\n",
        "    display(df.describe(include='all'))\n",
        "\n",
        "    # Summary Information\n",
        "    print('\\nSummary information:')\n",
        "    df.info(verbose=True)  # Removed null_counts parameter\n",
        "\n",
        "    # Preview of the First 3 Rows\n",
        "    print('\\nFirst 3 rows:')\n",
        "    display(df.head(3))\n",
        "\n",
        "# Example usage:\n",
        "# df = pd.read_csv('your-dataset.csv')\n",
        "df_info(df)"
      ]
    },
    {
      "cell_type": "markdown",
      "metadata": {},
      "source": [
        "### Вывод по разделу\n",
        "Пропуски не обнаружены"
      ]
    },
    {
      "cell_type": "markdown",
      "metadata": {
        "id": "rTkiqPr_DUKh"
      },
      "source": [
        "**✔Преобразуйте ваши признаки в массивы NumPy и разделите их на переменные X (предикторы) и y(целевая переменная)** "
      ]
    },
    {
      "cell_type": "code",
      "execution_count": 64,
      "metadata": {
        "id": "R9OHIRB3a_Xa"
      },
      "outputs": [
        {
          "data": {
            "text/plain": [
              "(array([[230.1,  37.8,  69.2],\n",
              "        [ 44.5,  39.3,  45.1],\n",
              "        [ 17.2,  45.9,  69.3]]),\n",
              " array([22.1, 10.4,  9.3]))"
            ]
          },
          "execution_count": 64,
          "metadata": {},
          "output_type": "execute_result"
        }
      ],
      "source": [
        "# Создание матрицы наблюдений X\n",
        "X = df.drop(['sales', 'Unnamed: 0'], axis=1).values\n",
        "\n",
        "# Вектор правильных ответов —  y\n",
        "y = df['sales'].values\n",
        "\n",
        "# check\n",
        "X[:3], y[:3]\n"
      ]
    },
    {
      "cell_type": "markdown",
      "metadata": {
        "id": "KCvjSoHEDUKo"
      },
      "source": [
        "## Координатный спуск (3 балла)"
      ]
    },
    {
      "cell_type": "markdown",
      "metadata": {
        "id": "yjNm8dATDUKq"
      },
      "source": [
        "**✔Добавим единичный столбец для того, чтобы у нас был свободный коэффициент в уравнении регрессии:**"
      ]
    },
    {
      "cell_type": "code",
      "execution_count": 65,
      "metadata": {
        "id": "LMgq0fmKDUKr"
      },
      "outputs": [
        {
          "data": {
            "text/plain": [
              "array([[  1. , 230.1,  37.8,  69.2],\n",
              "       [  1. ,  44.5,  39.3,  45.1],\n",
              "       [  1. ,  17.2,  45.9,  69.3]])"
            ]
          },
          "execution_count": 65,
          "metadata": {},
          "output_type": "execute_result"
        }
      ],
      "source": [
        "# import numpy as np\n",
        "X = np.hstack([np.ones(X.shape[0]).reshape(-1, 1), X])\n",
        "\n",
        "# check\n",
        "X[:3]"
      ]
    },
    {
      "cell_type": "markdown",
      "metadata": {
        "id": "R008OQwcDUKt"
      },
      "source": [
        "**✔Нормализуем данные: обычно это необходимо для корректной работы алгоритма**"
      ]
    },
    {
      "cell_type": "code",
      "execution_count": 66,
      "metadata": {
        "id": "2Sk7Wx-SDUKt"
      },
      "outputs": [
        {
          "data": {
            "text/plain": [
              "array([[0.07071068, 0.09561706, 0.09692057, 0.13052034],\n",
              "       [0.07071068, 0.01849178, 0.10076663, 0.08506456],\n",
              "       [0.07071068, 0.00714739, 0.11768927, 0.13070895]])"
            ]
          },
          "execution_count": 66,
          "metadata": {},
          "output_type": "execute_result"
        }
      ],
      "source": [
        "X = X / np.sqrt(np.sum(np.square(X), axis=0))\n",
        "\n",
        "# check\n",
        "X[:3]\n",
        "# Normalization is done by dividing each element in a column \n",
        "# by the square root of the sum of squares of all elements in that column."
      ]
    },
    {
      "cell_type": "markdown",
      "metadata": {
        "id": "F_pHHbAdDUKu"
      },
      "source": [
        "**✔Реализуйте алгоритм координатного спуска:** (3 балла)"
      ]
    },
    {
      "cell_type": "markdown",
      "metadata": {
        "id": "y3IdiHm9DUKv"
      },
      "source": [
        "✔Вам необходимо реализовать координатный спуск, и вывести веса в модели линейной регрессии."
      ]
    },
    {
      "cell_type": "code",
      "execution_count": 67,
      "metadata": {},
      "outputs": [
        {
          "name": "stdout",
          "output_type": "stream",
          "text": [
            "Заданная точность: 1e-09\n",
            "Значение функции потерь: 6.94871852736473e-10\n",
            "Количество итераций: 54\n",
            "Вектор весов: [ 41.56224451 110.13144649  73.5286098   -0.55012919]\n"
          ]
        }
      ],
      "source": [
        "def fit_linear_model(X, y, num_iters=1000, precision=1e-9):\n",
        "    \"\"\"\n",
        "    Fits a linear model using a custom iterative algorithm - coordinate descent, limiting the loss function's\n",
        "    precision during the calculations and reports the number of iterations taken to reach the specified precision.\n",
        "    \n",
        "    Parameters:\n",
        "    X (numpy.ndarray): The input features matrix with shape (m, n).\n",
        "    y (numpy.ndarray): The target vector with shape (m,).\n",
        "    num_iters (int): The number of iterations to run the algorithm.\n",
        "    precision (float): The desired precision of the cost function.\n",
        "\n",
        "    Returns:\n",
        "    tuple: A tuple containing the cost after the final iteration, the weights vector w, and the number of iterations performed.\n",
        "    \"\"\"\n",
        "    m, n = X.shape  # m: number of rows, n: number of columns in matrix X\n",
        "    w = np.zeros(n)  # initialize weights vector of size n with zeros\n",
        "    iteration_count = 0  # initialize iteration counter\n",
        "\n",
        "    for i in range(num_iters):\n",
        "        for k in range(n):\n",
        "            # Compute the prediction without the k-th factor\n",
        "            h = (X[:, 0:k] @ w[0:k]) + (X[:, k+1:] @ w[k+1:])\n",
        "            # Update the new value of the k-th coefficient\n",
        "            w[k] = (X[:, k].T @ (y - h))\n",
        "        \n",
        "        # Compute the cost function\n",
        "        cost = sum((X @ w) - y) ** 2/(len(y))\n",
        "        \n",
        "        # If the cost is already at the desired precision, break the loop\n",
        "        if cost < precision:\n",
        "            iteration_count = i + 1  # update the iteration counter to the current iteration\n",
        "            break\n",
        "    \n",
        "    # If we didn't break out of the loop, we hit the maximum number of iterations\n",
        "    if iteration_count == 0:\n",
        "        iteration_count = num_iters\n",
        "    \n",
        "    return precision, cost, w, iteration_count\n",
        "\n",
        "# Example usage:\n",
        "# Assuming X and y are defined and are numpy arrays\n",
        "\n",
        "\n",
        "precision, cost, w, iterations = fit_linear_model(X, y)\n",
        "print(f'Заданная точность: {precision}')\n",
        "print(f'Значение функции потерь: {cost}')\n",
        "print(f'Количество итераций: {iterations}')\n",
        "print(f'Вектор весов: {w}')"
      ]
    },
    {
      "cell_type": "markdown",
      "metadata": {
        "id": "a3jG-7UADUKx"
      },
      "source": [
        "✔Сравните результаты с реализацией линейной регрессии из библиотеки sklearn:"
      ]
    },
    {
      "cell_type": "code",
      "execution_count": 68,
      "metadata": {
        "id": "SBl-1Yb5DUKy"
      },
      "outputs": [
        {
          "name": "stdout",
          "output_type": "stream",
          "text": [
            "[ 41.56217205 110.13144155  73.52860638  -0.55006384]\n"
          ]
        }
      ],
      "source": [
        "from sklearn.linear_model import LinearRegression\n",
        " \n",
        "model = LinearRegression(fit_intercept=False)\n",
        "model.fit(X, y)\n",
        " \n",
        "print(model.coef_)"
      ]
    },
    {
      "cell_type": "code",
      "execution_count": 69,
      "metadata": {},
      "outputs": [
        {
          "data": {
            "text/plain": [
              "9.776206764029564e-05"
            ]
          },
          "execution_count": 69,
          "metadata": {},
          "output_type": "execute_result"
        }
      ],
      "source": [
        "# Евклидово расстояние между векторами предсказаний координатным спуском и линейной регрессией sklearn\n",
        "np.linalg.norm(w - model.coef_)"
      ]
    },
    {
      "cell_type": "markdown",
      "metadata": {
        "id": "hIl0AGLyDUKy"
      },
      "source": [
        "Если вы все сделали верно, они должны практически совпасть!"
      ]
    },
    {
      "cell_type": "markdown",
      "metadata": {},
      "source": [
        "### Вывод по разделу\n",
        "Тысяча итераций в общем то и не нужна. Точность у коэффициентов до 3 знака после запятой всего при 50 итерациях достигается.\n"
      ]
    },
    {
      "cell_type": "markdown",
      "metadata": {
        "id": "VCGwFnPdDUKz"
      },
      "source": [
        "## Стохастический градиентный спуск (6 баллов)"
      ]
    },
    {
      "cell_type": "markdown",
      "metadata": {
        "id": "5u7Q2YJla_Xk"
      },
      "source": [
        "**✔Отмасштабируйте столбцы исходной матрицы *X* (которую мы не нормализовали еще!). Для того, чтобы это сделать, надо вычесть из каждого значения среднее и разделить на стандартное отклонение** (0.5 баллов)"
      ]
    },
    {
      "cell_type": "code",
      "execution_count": 70,
      "metadata": {},
      "outputs": [],
      "source": [
        "# Переопределяем матрицу наблюдений \n",
        "X = df.drop(['sales', 'Unnamed: 0'], axis=1).values"
      ]
    },
    {
      "cell_type": "code",
      "execution_count": 71,
      "metadata": {},
      "outputs": [
        {
          "name": "stdout",
          "output_type": "stream",
          "text": [
            "Масштабирование проведено корректно. Первые три элемента:\n",
            " [[ 2.12559023 -0.37983282  0.02926902]\n",
            " [-0.29254039 -0.36028974 -0.28472315]\n",
            " [-0.64822447 -0.27430018  0.03057189]]\n"
          ]
        }
      ],
      "source": [
        "# Ensure X is not a single value and has variance to avoid division by zero\n",
        "if X.size > 1 and X.std() != 0:\n",
        "    # Perform Z-score normalization (масштабирование с помощью Z-оценки)\n",
        "    X = (X - X.mean()) / X.std()\n",
        "    print(\"Масштабирование проведено корректно. Первые три элемента:\\n\", X[:3])\n",
        "else:\n",
        "    print(\"Масштабирование невозможно. X содержит только одно значениe или нет вариаций значений.\")"
      ]
    },
    {
      "cell_type": "markdown",
      "metadata": {
        "id": "8WkNYILHDUK1"
      },
      "source": [
        "**✔Добавим единичный столбец**"
      ]
    },
    {
      "cell_type": "code",
      "execution_count": 72,
      "metadata": {
        "id": "EVl5tEGtDUK1"
      },
      "outputs": [
        {
          "data": {
            "text/plain": [
              "array([[ 1.        ,  2.12559023, -0.37983282,  0.02926902],\n",
              "       [ 1.        , -0.29254039, -0.36028974, -0.28472315],\n",
              "       [ 1.        , -0.64822447, -0.27430018,  0.03057189]])"
            ]
          },
          "execution_count": 72,
          "metadata": {},
          "output_type": "execute_result"
        }
      ],
      "source": [
        "X = np.hstack([np.ones(X.shape[0]).reshape(-1, 1), X])\n",
        "\n",
        "#check\n",
        "X[:3]"
      ]
    },
    {
      "cell_type": "markdown",
      "metadata": {
        "id": "m53tZA5fDUK1"
      },
      "source": [
        "**✔Создайте функцию mse_error для вычисления среднеквадратичной ошибки, принимающую два аргумента: реальные значения и предсказывающие, и возвращающую значение mse** (0.5 балла)"
      ]
    },
    {
      "cell_type": "code",
      "execution_count": 73,
      "metadata": {
        "id": "0cvtC08Aa_YK"
      },
      "outputs": [],
      "source": [
        "def mse_error(y, y_pred):\n",
        "    \"\"\"\n",
        "    Calculate the mean squared error between the true values and predicted values.\n",
        "\n",
        "    Parameters:\n",
        "    y (array_like): True values. Must be 1D array or similar structure.\n",
        "    y_pred (array_like): Predicted values. Must be 1D array of the same length as y.\n",
        "\n",
        "    Returns:\n",
        "    float: Mean squared error of the predictions.\n",
        "    \"\"\"\n",
        "    return ((y - y_pred) ** 2).mean()    "
      ]
    },
    {
      "cell_type": "markdown",
      "metadata": {
        "id": "lpOLhdvBDUK2"
      },
      "source": [
        "**✔Сделайте наивный прогноз: предскажите продажи средним значением. После этого рассчитайте среднеквадратичную ошибку для этого прогноза** (0.5 балла)"
      ]
    },
    {
      "cell_type": "code",
      "execution_count": 74,
      "metadata": {},
      "outputs": [
        {
          "data": {
            "text/plain": [
              "array([14.0225, 14.0225, 14.0225])"
            ]
          },
          "execution_count": 74,
          "metadata": {},
          "output_type": "execute_result"
        }
      ],
      "source": [
        "# Наивный прогноз таргета\n",
        "y_pred = np.full(len(y), y.mean())\n",
        "\n",
        "# check\n",
        "y_pred[:3]"
      ]
    },
    {
      "cell_type": "code",
      "execution_count": 75,
      "metadata": {
        "id": "kLV_XljVa_YZ"
      },
      "outputs": [
        {
          "data": {
            "text/plain": [
              "27.085743750000002"
            ]
          },
          "execution_count": 75,
          "metadata": {},
          "output_type": "execute_result"
        }
      ],
      "source": [
        "# MSE для наивного прогноза\n",
        "mse_error(y, y_pred)"
      ]
    },
    {
      "cell_type": "markdown",
      "metadata": {
        "id": "BbybL2ola_ZM"
      },
      "source": [
        "**✔Создайте функцию *lin_pred*, которая может по матрице предикторов *X* и вектору весов линейной модели *w* получить вектор прогнозов** (0.5 балла)"
      ]
    },
    {
      "cell_type": "code",
      "execution_count": 76,
      "metadata": {},
      "outputs": [],
      "source": [
        "def lin_pred(X, w):\n",
        "    \"\"\"\n",
        "    Compute the vector of predictions from the predictor matrix and weight vector.\n",
        "\n",
        "    Parameters:\n",
        "    X (array_like): Predictor matrix where each row corresponds to an observation \n",
        "                    and each column corresponds to a feature.\n",
        "    w (array_like): Weight vector for the linear model.\n",
        "\n",
        "    Returns:\n",
        "    array_like: Vector of predictions for each observation.\n",
        "    \"\"\"\n",
        "    return np.dot(X, w)"
      ]
    },
    {
      "cell_type": "markdown",
      "metadata": {
        "id": "BU4adBrya_Zm"
      },
      "source": [
        "**✔Создайте функцию *stoch_grad_step* для реализации шага стохастического градиентного спуска. (1.5 балла) \n",
        "Функция должна принимать на вход следующие аргументы:**\n",
        "* матрицу *X*\n",
        "* вектора *y* и *w*\n",
        "* число *train_ind* - индекс объекта обучающей выборки (строки матрицы *X*), по которому считается изменение весов\n",
        "* число *$\\eta$* (eta) - шаг градиентного спуска\n",
        "\n",
        "Результатом будет вектор обновленных весов"
      ]
    },
    {
      "cell_type": "markdown",
      "metadata": {
        "id": "dyLY-P02DUK5"
      },
      "source": [
        "Шаг для стохастического градиентного спуска выглядит следующим образом:"
      ]
    },
    {
      "cell_type": "markdown",
      "metadata": {
        "id": "ORsAyIKNDUK5"
      },
      "source": [
        "$$\\Large w_j \\leftarrow w_j - \\frac{2\\eta}{\\ell} \\sum_{i=1}^\\ell{{x_{ij}((w_0 + w_1x_{i1} + w_2x_{i2} +  w_3x_{i3}) - y_i)}}$$"
      ]
    },
    {
      "cell_type": "markdown",
      "metadata": {
        "id": "CQl2FrpuDUK6"
      },
      "source": [
        "Для того, чтобы написать функцию, нужно сделать следующее:\n",
        "    \n",
        "*  посчитать направление изменения: умножить объект обучающей выборки на 2 и на разницу между предсказанным значением и реальным, а потом поделить на количество элементов в выборке.\n",
        "* вернуть разницу между вектором весов и направлением изменения, умноженным на шаг градиентного спуска"
      ]
    },
    {
      "cell_type": "code",
      "execution_count": 77,
      "metadata": {},
      "outputs": [],
      "source": [
        "def stoch_grad_step(X, y, w, train_ind, eta):\n",
        "    \"\"\"\n",
        "    Perform a single stochastic gradient descent step based on mean squared error loss.\n",
        "\n",
        "    Parameters:\n",
        "    X (array_like): Matrix of features with shape (n_samples, n_features).\n",
        "    y (array_like): Vector of target variable with shape (n_samples,).\n",
        "    w (array_like): Current weights vector with shape (n_features,).\n",
        "    train_ind (int): Index of the training sample to use for this step.\n",
        "    eta (float): Learning rate.\n",
        "\n",
        "    Returns:\n",
        "    array_like: Updated weights vector with shape (n_features,).\n",
        "\n",
        "    Note:\n",
        "    The function assumes that the loss function used is mean squared error (MSE)\n",
        "    and that a separate function `lin_pred` is available for making predictions.\n",
        "    \"\"\"\n",
        "    x_i = X[train_ind]  # Select the training sample\n",
        "    y_i = y[train_ind]  # Select the corresponding target value\n",
        "    \n",
        "    # Compute the prediction for the selected instance\n",
        "    y_pred_i = lin_pred(x_i.reshape(1, -1), w)\n",
        "    \n",
        "    # Calculate the gradient direction for the selected instance\n",
        "    grad_direction = (x_i * 2 * (y_pred_i - y_i)) / len(X)\n",
        "    \n",
        "    # Update the weights vector in the direction opposite to the gradient\n",
        "    new_w = w - eta * grad_direction\n",
        "\n",
        "    return new_w"
      ]
    },
    {
      "cell_type": "markdown",
      "metadata": {
        "id": "pXwIFd0Ma_Zx"
      },
      "source": [
        "**✔Создайте функцию *stochastic_gradient_descent*, для реализации стохастического градиентного спуска (2.5 балла)**\n",
        "\n",
        "**Функция принимает на вход следующие аргументы:**\n",
        "- Матрицу признаков X\n",
        "- Целевую переменнную\n",
        "- Изначальную точку (веса модели)\n",
        "- Параметр, определяющий темп обучения\n",
        "- Максимальное число итераций\n",
        "- Евклидово расстояние между векторами весов на соседних итерациях градиентного спуска,при котором алгоритм прекращает работу \n",
        "\n",
        "**На каждой итерации в вектор (список) должно записываться текущее значение среднеквадратичной ошибки. Функция должна возвращать вектор весов $w$, а также вектор (список) ошибок.**"
      ]
    },
    {
      "cell_type": "markdown",
      "metadata": {},
      "source": [
        "Алгоритм сследующий:\n",
        "    \n",
        "* Инициализируйте расстояние между векторами весов на соседних итерациях большим числом (можно бесконечностью)\n",
        "* Создайте пустой список для фиксации ошибок\n",
        "* Создайте счетчик итераций\n",
        "* Реализуйте оновной цикл обучения пока расстояние между векторами весов больше того, при котором надо прекратить работу (когда расстояния станут слишком маленькими - значит, мы застряли в одном месте) и количество итераций меньше максимально разрешенного: сгенерируйте случайный индекс, запишите текущую ошибку в вектор ошибок, запишите в переменную текущий шаг стохастического спуска с использованием функции, написанной ранее. Далее рассчитайте текущее расстояние между векторами весов и прибавьте к счетчику итераций 1.\n",
        "* Верните вектор весов и вектор ошибок"
      ]
    },
    {
      "cell_type": "code",
      "execution_count": 78,
      "metadata": {},
      "outputs": [],
      "source": [
        "def stochastic_gradient_descent(X, y, init_weights, learn_rate, max_iter, min_eucl_dist):\n",
        "    \"\"\"\n",
        "    Performs stochastic gradient descent optimization to find the optimal weights for a linear model.\n",
        "\n",
        "    Args:\n",
        "        X (numpy.ndarray): The input features matrix with shape (m_samples, n_features).\n",
        "        y (numpy.ndarray): The target vector with shape (m_samples,).\n",
        "        init_weights (numpy.ndarray): The initial weights vector with shape (n_features,).\n",
        "        learn_rate (float): The learning rate for the optimization algorithm.\n",
        "        max_iter (int): The maximum number of iterations to perform.\n",
        "        min_eucl_dist (float): The minimum Euclidean distance between consecutive weight updates.\n",
        "\n",
        "    Returns:\n",
        "        tuple: A tuple containing the final weights vector and a list of mean squared errors for each iteration.\n",
        "    \"\"\"\n",
        "    weight_dist = np.inf  # Initialize the weight distance to infinity for the first comparison\n",
        "    errors = []  # List to store mean squared errors for each iteration\n",
        "    cnt = 0  # Counter to keep track of the number of iterations\n",
        "\n",
        "    # Loop until the weight updates are smaller than the min_eucl_dist or the max_iter is reached\n",
        "    while weight_dist > min_eucl_dist and cnt < max_iter:\n",
        "        train_ind = np.random.randint(X.shape[0])  # Randomly select an index for the training sample\n",
        "\n",
        "        # Perform a stochastic gradient descent step and get new weights\n",
        "        new_weights = stoch_grad_step(X, y, init_weights, train_ind, learn_rate)\n",
        "        \n",
        "        # Calculate the Euclidean distance between the new weights and the previous weights\n",
        "        weight_dist = np.linalg.norm(new_weights - init_weights)\n",
        "        \n",
        "        # Update the weights for the next iteration\n",
        "        init_weights = new_weights\n",
        "\n",
        "        # Calculate the mean squared error for the current weights and add it to the errors list\n",
        "        y_pred = lin_pred(X, init_weights)  # Predict the target values using the current weights\n",
        "        errors.append(mse_error(y, y_pred))  # Compute the MSE and append to errors list\n",
        "        \n",
        "        cnt += 1  # Increment the iteration counter\n",
        "\n",
        "    # Once the loop is finished, return the final weights and the errors list\n",
        "    return init_weights, errors"
      ]
    },
    {
      "cell_type": "markdown",
      "metadata": {
        "id": "0OqHO1Rta_Z7"
      },
      "source": [
        " **✔Запустите $10^5$ итераций стохастического градиентного спуска. Укажите вектор начальных весов, состоящий из нулей. Можете поэкспериментировать с параметром, отвечающим за темп обучения.**"
      ]
    },
    {
      "cell_type": "markdown",
      "metadata": {
        "id": "N6fHHT6vDUK8"
      },
      "source": [
        "**✔Постройте график зависимости ошибки от номера итерации**"
      ]
    },
    {
      "cell_type": "code",
      "execution_count": 79,
      "metadata": {},
      "outputs": [
        {
          "data": {
            "image/png": "[encoded data removed]",
            "text/plain": [
              "<Figure size 1000x600 with 1 Axes>"
            ]
          },
          "metadata": {},
          "output_type": "display_data"
        }
      ],
      "source": [
        "import numpy as np\n",
        "import matplotlib.pyplot as plt\n",
        "\n",
        "# Assuming X, y and stochastic_gradient_descent function are already defined\n",
        "\n",
        "m, n = X.shape  # m: number of rows, n: number of columns in matrix X\n",
        "init_weights = np.zeros(n)  # initialize weights vector of size n with zeros\n",
        "learning_rates = [1, 0.1, 0.05]  # The list of learning rates to compare\n",
        "max_iter = 10**5\n",
        "min_eucl_dist = 10**(-5)\n",
        "\n",
        "# Initialize plot\n",
        "plt.figure(figsize=(10, 6))  # 10x6 inches for the figure size\n",
        "\n",
        "# Custom styles for each learning rate\n",
        "line_styles = ['-', '--', '-.']\n",
        "markers = ['o', 's', '^']\n",
        "colors = ['b', 'g', 'r']\n",
        "\n",
        "# Plot MSE for each learning rate with enhanced styles and best MSE labels\n",
        "for learn_rate, line_style, marker, color in zip(learning_rates, line_styles, markers, colors):\n",
        "    final_weights, errors = stochastic_gradient_descent(X, y, init_weights, learn_rate, max_iter, min_eucl_dist)\n",
        "    best_mse = errors[-1]  # Assuming errors is a list where the last item is the final MSE\n",
        "    plt.plot(errors, label=f'LR={learn_rate}, Best MSE={best_mse:.4f}', linestyle=line_style, marker=marker, color=color, linewidth=1, markersize=5)\n",
        "\n",
        "plt.title('MSE vs Iterations for Different Learning Rates', fontsize=14, fontweight='normal')\n",
        "plt.xlabel('Iteration', fontsize=12)\n",
        "plt.ylabel('Mean Squared Error', fontsize=12)\n",
        "plt.legend()  # Add a legend to distinguish between different learning rates\n",
        "plt.grid(True)  # Add grid for better readability\n",
        "plt.show()"
      ]
    },
    {
      "cell_type": "code",
      "execution_count": 80,
      "metadata": {},
      "outputs": [],
      "source": [
        "m, n = X.shape  # m: number of rows, n: number of columns in matrix X\n",
        "init_weights = np.zeros(n)  # initialize weights vector of size n with zeros\n",
        "learn_rate = 1  # \n",
        "max_iter = 10**5\n",
        "min_eucl_dist = 10**(-5)\n",
        "final_weights, errors = stochastic_gradient_descent(X, y, init_weights, learn_rate, max_iter, min_eucl_dist)"
      ]
    },
    {
      "cell_type": "markdown",
      "metadata": {
        "id": "O-MVOcJ6a_aY"
      },
      "source": [
        "**Выведите вектор весов, к которому сошелся метод.**"
      ]
    },
    {
      "cell_type": "code",
      "execution_count": 81,
      "metadata": {
        "id": "MPjVkXe4DUK9"
      },
      "outputs": [
        {
          "name": "stdout",
          "output_type": "stream",
          "text": [
            "вектор весов, к которому сошелся метод: [14.42417737  3.98723177  6.6669418   1.01347405]\n"
          ]
        }
      ],
      "source": [
        "print(f'вектор весов, к которому сошелся метод: {final_weights}')"
      ]
    },
    {
      "cell_type": "markdown",
      "metadata": {
        "id": "qabzMc3Qa_a5"
      },
      "source": [
        "**Выведите среднеквадратичную ошибку на последней итерации.**"
      ]
    },
    {
      "cell_type": "code",
      "execution_count": 82,
      "metadata": {
        "id": "7tPWleMIa_a7"
      },
      "outputs": [
        {
          "name": "stdout",
          "output_type": "stream",
          "text": [
            "MSE на последней итерации: 5.110744223664408\n"
          ]
        }
      ],
      "source": [
        "print(f'MSE на последней итерации: {errors[-1]}')"
      ]
    },
    {
      "cell_type": "markdown",
      "metadata": {},
      "source": [
        "### БОНУСНОЕ ЗАДАНИЕ\n",
        "\n",
        "Разумеется, в реальности специалисты по машинному обучению не прописывают алгоритмы с нуля, а пользуются готовыми реализациями из библиотек. Реализованный Вами стохастический градиентный спуск представлен в библиотеке sklearn.\n",
        "\n",
        "Что необходимо сделать:\n",
        "\n",
        "Выберите в документации класс, подходящий для вашей задачи, и обучите стохастический градиентный спуск.\n",
        "Оцените качество с помощью среднеквадратичной ошибки и сравните результат с результатом алгоритма, реализованного вами самостоятельно.\n",
        "В одном из предыдущих модулей качество решения задачи регрессии оценивалось с помощью ещё одной метрики. Найдите её реализацию в библиотеке sklearn и оцените качество полученной модели.\n",
        "Данное задание не является обязательным, но, выполнив его, вы получите возможность заработать дополнительные 3 балла."
      ]
    },
    {
      "cell_type": "code",
      "execution_count": 83,
      "metadata": {},
      "outputs": [
        {
          "name": "stdout",
          "output_type": "stream",
          "text": [
            "Среднеквадратичная ошибка (MSE) на тестовых данных: 3.1822269355145694\n"
          ]
        }
      ],
      "source": [
        "# Импортируем необходимые библиотеки\n",
        "from sklearn.model_selection import train_test_split\n",
        "from sklearn.preprocessing import StandardScaler\n",
        "from sklearn.linear_model import SGDRegressor\n",
        "\n",
        "# Подготавливаем данные\n",
        "# Удаляем столбцы 'sales' и 'Unnamed: 0', которые не будут использоваться в качестве признаков\n",
        "X = df.drop(['sales', 'Unnamed: 0'], axis=1)\n",
        "# Столбец 'sales' будет использоваться в качестве целевой переменной\n",
        "y = df['sales']\n",
        "\n",
        "# Разделяем данные на обучающий и тестовый наборы\n",
        "# test_size=0.2 означает, что 20% данных будут использоваться для тестирования, остальные для обучения\n",
        "# random_state=42 используется для воспроизводимости разделения\n",
        "X_train, X_test, y_train, y_test = train_test_split(X, y, test_size=0.2, random_state=42)\n",
        "\n",
        "# Инициализируем StandardScaler для масштабирования признаков\n",
        "scaler = StandardScaler()\n",
        "# Обучаем scaler на обучающем наборе и преобразуем обучающий набор\n",
        "X_train_scaled = scaler.fit_transform(X_train)\n",
        "# Преобразуем тестовый набор с использованием уже обученного scaler\n",
        "X_test_scaled = scaler.transform(X_test)\n",
        "\n",
        "# Создаем экземпляр SGDRegressor\n",
        "# Конструктор SGDRegressor принимает различные параметры, которые можно настроить\n",
        "sgd_regressor = SGDRegressor(random_state=42)\n",
        "# Обучаем модель на масштабированных обучающих данных\n",
        "sgd_regressor.fit(X_train_scaled, y_train)\n",
        "\n",
        "# Теперь модель готова к использованию для предсказания на тестовых данных или в продакшене\n",
        "# Например, можно оценить качество модели на тестовых данных\n",
        "from sklearn.metrics import mean_squared_error\n",
        "\n",
        "y_pred = sgd_regressor.predict(X_test_scaled)\n",
        "mse = mean_squared_error(y_test, y_pred)\n",
        "print(f'Среднеквадратичная ошибка (MSE) на тестовых данных: {mse}')"
      ]
    },
    {
      "cell_type": "code",
      "execution_count": 28,
      "metadata": {},
      "outputs": [
        {
          "name": "stdout",
          "output_type": "stream",
          "text": [
            "Веса признаков: [3.75776408 2.77777167 0.06871719]\n",
            "Свободный член: [14.07812304]\n",
            "Среднеквадратичная ошибка (MSE) на обучающих данных: 2.7058862142858424\n",
            "Количество итераций: 25\n",
            "Коэффициент детерминации (R^2): 0.8991804621260984\n"
          ]
        }
      ],
      "source": [
        "from sklearn.metrics import mean_squared_error, r2_score\n",
        "\n",
        "# Получаем веса признаков и свободный член (интерсепт)\n",
        "weights = sgd_regressor.coef_\n",
        "intercept = sgd_regressor.intercept_\n",
        "\n",
        "# Выводим коэффициенты модели\n",
        "print(\"Веса признаков:\", weights)\n",
        "print(\"Свободный член:\", intercept)\n",
        "\n",
        "# Вычисляем и выводим значение функции потерь на обучающих данных\n",
        "# SGDRegressor использует квадратичную функцию потерь по умолчанию, поэтому это будет MSE\n",
        "mse_train = mean_squared_error(y_train, sgd_regressor.predict(X_train_scaled))\n",
        "print(\"Среднеквадратичная ошибка (MSE) на обучающих данных:\", mse_train)\n",
        "\n",
        "# Вычисляем и выводим количество итераций\n",
        "n_iter = sgd_regressor.n_iter_\n",
        "print(\"Количество итераций:\", n_iter)\n",
        "\n",
        "# Вычисляем и выводим метрику R^2\n",
        "r2 = r2_score(y_test, y_pred)\n",
        "print(\"Коэффициент детерминации (R^2):\", r2)"
      ]
    },
    {
      "cell_type": "code",
      "execution_count": 27,
      "metadata": {},
      "outputs": [
        {
          "data": {
            "text/plain": [
              "array([3.75776408, 2.77777167, 0.06871719])"
            ]
          },
          "execution_count": 27,
          "metadata": {},
          "output_type": "execute_result"
        }
      ],
      "source": [
        "sgd_regressor.coef_"
      ]
    },
    {
      "cell_type": "code",
      "execution_count": 25,
      "metadata": {},
      "outputs": [
        {
          "name": "stderr",
          "output_type": "stream",
          "text": [
            "[I 2023-12-23 10:35:05,092] A new study created in memory with name: no-name-d87304b5-2aee-4a4f-a205-cd99d28a3066\n",
            "[I 2023-12-23 10:35:05,103] Trial 0 finished with value: 3.199792943032013 and parameters: {'max_iter': 9077, 'tol': 0.007551311129413331, 'l1_ratio': 0.22029126680515684}. Best is trial 0 with value: 3.199792943032013.\n",
            "[I 2023-12-23 10:35:05,108] Trial 1 finished with value: 3.18884179816542 and parameters: {'max_iter': 4523, 'tol': 0.0017717713448275989, 'l1_ratio': 0.5989233877201177}. Best is trial 1 with value: 3.18884179816542.\n",
            "[I 2023-12-23 10:35:05,118] Trial 2 finished with value: 3.1711102868743457 and parameters: {'max_iter': 4360, 'tol': 0.00016541398230755384, 'l1_ratio': 0.3631274140033912}. Best is trial 2 with value: 3.1711102868743457.\n",
            "[I 2023-12-23 10:35:05,131] Trial 3 finished with value: 3.198833211983918 and parameters: {'max_iter': 8900, 'tol': 0.014815926137570372, 'l1_ratio': 0.537095719797603}. Best is trial 2 with value: 3.1711102868743457.\n",
            "[I 2023-12-23 10:35:05,139] Trial 4 finished with value: 3.172415937132178 and parameters: {'max_iter': 6605, 'tol': 5.830832990413564e-05, 'l1_ratio': 0.5398564714327402}. Best is trial 2 with value: 3.1711102868743457.\n",
            "[I 2023-12-23 10:35:05,151] Trial 5 finished with value: 3.1724673755551285 and parameters: {'max_iter': 7085, 'tol': 0.0001434340236317919, 'l1_ratio': 0.37439348437727404}. Best is trial 2 with value: 3.1711102868743457.\n",
            "[I 2023-12-23 10:35:05,158] Trial 6 finished with value: 3.19882057680146 and parameters: {'max_iter': 9016, 'tol': 0.012880680876068912, 'l1_ratio': 0.5767734775935601}. Best is trial 2 with value: 3.1711102868743457.\n",
            "[I 2023-12-23 10:35:05,166] Trial 7 finished with value: 3.1989577083128644 and parameters: {'max_iter': 6735, 'tol': 0.013825856258797679, 'l1_ratio': 0.1461995206037525}. Best is trial 2 with value: 3.1711102868743457.\n",
            "[I 2023-12-23 10:35:05,173] Trial 8 finished with value: 3.171014535621287 and parameters: {'max_iter': 8882, 'tol': 0.00017889994664257593, 'l1_ratio': 0.6724135806636087}. Best is trial 8 with value: 3.171014535621287.\n",
            "[I 2023-12-23 10:35:05,180] Trial 9 finished with value: 3.171041983840218 and parameters: {'max_iter': 4452, 'tol': 0.0002439912715141902, 'l1_ratio': 0.58374561604296}. Best is trial 8 with value: 3.171014535621287.\n",
            "[I 2023-12-23 10:35:05,206] Trial 10 finished with value: 3.172305743971495 and parameters: {'max_iter': 1151, 'tol': 1.3474229818893427e-05, 'l1_ratio': 0.8943871323560413}. Best is trial 8 with value: 3.171014535621287.\n",
            "[I 2023-12-23 10:35:05,232] Trial 11 finished with value: 3.18198743472072 and parameters: {'max_iter': 2419, 'tol': 0.0008361640542145902, 'l1_ratio': 0.7609561794726555}. Best is trial 8 with value: 3.171014535621287.\n",
            "[I 2023-12-23 10:35:05,260] Trial 12 finished with value: 3.1820021159388294 and parameters: {'max_iter': 3266, 'tol': 0.0007300435509490672, 'l1_ratio': 0.7142982088354384}. Best is trial 8 with value: 3.171014535621287.\n",
            "[I 2023-12-23 10:35:05,283] Trial 13 finished with value: 3.172360863792547 and parameters: {'max_iter': 5601, 'tol': 3.5009415258888815e-05, 'l1_ratio': 0.7170350671401562}. Best is trial 8 with value: 3.171014535621287.\n",
            "[I 2023-12-23 10:35:05,312] Trial 14 finished with value: 3.2265357683693 and parameters: {'max_iter': 9934, 'tol': 0.09088626561607295, 'l1_ratio': 0.42591242251483874}. Best is trial 8 with value: 3.171014535621287.\n",
            "[I 2023-12-23 10:35:05,335] Trial 15 finished with value: 3.1709595698746638 and parameters: {'max_iter': 411, 'tol': 0.00031553903297267054, 'l1_ratio': 0.8499914373203741}. Best is trial 15 with value: 3.1709595698746638.\n",
            "[I 2023-12-23 10:35:05,360] Trial 16 finished with value: 3.1709613887663273 and parameters: {'max_iter': 151, 'tol': 0.00038291691218528896, 'l1_ratio': 0.8441147584448321}. Best is trial 15 with value: 3.1709595698746638.\n",
            "[I 2023-12-23 10:35:05,383] Trial 17 finished with value: 3.1903332980613546 and parameters: {'max_iter': 480, 'tol': 0.003324927585850022, 'l1_ratio': 0.895891892535282}. Best is trial 15 with value: 3.1709595698746638.\n",
            "[I 2023-12-23 10:35:05,407] Trial 18 finished with value: 3.180264200858249 and parameters: {'max_iter': 1912, 'tol': 0.0004955589523113861, 'l1_ratio': 0.8043092886477162}. Best is trial 15 with value: 3.1709595698746638.\n",
            "[I 2023-12-23 10:35:05,431] Trial 19 finished with value: 3.1723263259660825 and parameters: {'max_iter': 288, 'tol': 5.193059600491662e-05, 'l1_ratio': 0.8281602540509634}. Best is trial 15 with value: 3.1709595698746638.\n",
            "[I 2023-12-23 10:35:05,460] Trial 20 finished with value: 3.1888193283997 and parameters: {'max_iter': 3080, 'tol': 0.0017747766745904658, 'l1_ratio': 0.6695261690541703}. Best is trial 15 with value: 3.1709595698746638.\n",
            "[I 2023-12-23 10:35:05,487] Trial 21 finished with value: 3.1709685699457184 and parameters: {'max_iter': 1536, 'tol': 0.00029584155261734856, 'l1_ratio': 0.8209132572583516}. Best is trial 15 with value: 3.1709595698746638.\n",
            "[I 2023-12-23 10:35:05,516] Trial 22 finished with value: 3.170965697932491 and parameters: {'max_iter': 1579, 'tol': 0.00036988559616264727, 'l1_ratio': 0.8301923269747173}. Best is trial 15 with value: 3.1709595698746638.\n",
            "[I 2023-12-23 10:35:05,543] Trial 23 finished with value: 3.1723200988831186 and parameters: {'max_iter': 113, 'tol': 0.00010037712140209532, 'l1_ratio': 0.8481968453231971}. Best is trial 15 with value: 3.1709595698746638.\n",
            "[I 2023-12-23 10:35:05,571] Trial 24 finished with value: 3.180272065889786 and parameters: {'max_iter': 1025, 'tol': 0.00039225375661028144, 'l1_ratio': 0.7792587611092722}. Best is trial 15 with value: 3.1709595698746638.\n",
            "[I 2023-12-23 10:35:05,600] Trial 25 finished with value: 3.1888208870714427 and parameters: {'max_iter': 2525, 'tol': 0.0019557757440899102, 'l1_ratio': 0.6646285180535785}. Best is trial 15 with value: 3.1709595698746638.\n",
            "[I 2023-12-23 10:35:05,627] Trial 26 finished with value: 3.172350845686259 and parameters: {'max_iter': 886, 'tol': 1.3054699693755911e-05, 'l1_ratio': 0.7492672778659807}. Best is trial 15 with value: 3.1709595698746638.\n",
            "[I 2023-12-23 10:35:05,653] Trial 27 finished with value: 3.1819438719054167 and parameters: {'max_iter': 1919, 'tol': 0.0006278139528135536, 'l1_ratio': 0.8994111269578883}. Best is trial 15 with value: 3.1709595698746638.\n",
            "[I 2023-12-23 10:35:05,680] Trial 28 finished with value: 3.1723263852094536 and parameters: {'max_iter': 3450, 'tol': 3.1878081391948406e-05, 'l1_ratio': 0.8279696309276394}. Best is trial 15 with value: 3.1709595698746638.\n",
            "[I 2023-12-23 10:35:05,715] Trial 29 finished with value: 3.1905407212631025 and parameters: {'max_iter': 1499, 'tol': 0.003577380630077505, 'l1_ratio': 0.24206470232245253}. Best is trial 15 with value: 3.1709595698746638.\n",
            "[I 2023-12-23 10:35:05,741] Trial 30 finished with value: 3.1723653458345114 and parameters: {'max_iter': 2326, 'tol': 7.440702117594124e-05, 'l1_ratio': 0.7026148212838486}. Best is trial 15 with value: 3.1709595698746638.\n",
            "[I 2023-12-23 10:35:05,768] Trial 31 finished with value: 3.1709610820518863 and parameters: {'max_iter': 1432, 'tol': 0.00025251535421965115, 'l1_ratio': 0.8451057239990403}. Best is trial 15 with value: 3.1709595698746638.\n",
            "[I 2023-12-23 10:35:05,799] Trial 32 finished with value: 3.170956504095551 and parameters: {'max_iter': 758, 'tol': 0.00033690410292441434, 'l1_ratio': 0.8598967594855244}. Best is trial 32 with value: 3.170956504095551.\n",
            "[I 2023-12-23 10:35:05,829] Trial 33 finished with value: 3.181953187718899 and parameters: {'max_iter': 778, 'tol': 0.000947219221855776, 'l1_ratio': 0.8698016847293645}. Best is trial 32 with value: 3.170956504095551.\n",
            "[I 2023-12-23 10:35:05,858] Trial 34 finished with value: 3.1723512073548794 and parameters: {'max_iter': 251, 'tol': 0.00014617643306651202, 'l1_ratio': 0.7481036330661586}. Best is trial 32 with value: 3.170956504095551.\n",
            "[I 2023-12-23 10:35:05,887] Trial 35 finished with value: 3.182348918526885 and parameters: {'max_iter': 809, 'tol': 0.0013320951054242296, 'l1_ratio': 0.623524834852112}. Best is trial 32 with value: 3.170956504095551.\n",
            "[I 2023-12-23 10:35:05,916] Trial 36 finished with value: 3.1709794432243372 and parameters: {'max_iter': 3706, 'tol': 0.00024890041271415753, 'l1_ratio': 0.7857838226099839}. Best is trial 32 with value: 3.170956504095551.\n",
            "[I 2023-12-23 10:35:05,955] Trial 37 finished with value: 3.190344251060116 and parameters: {'max_iter': 1265, 'tol': 0.0035376284066200455, 'l1_ratio': 0.8613591408220828}. Best is trial 32 with value: 3.170956504095551.\n",
            "[I 2023-12-23 10:35:05,984] Trial 38 finished with value: 3.172427389122839 and parameters: {'max_iter': 2888, 'tol': 8.745087291685971e-05, 'l1_ratio': 0.5030168248224935}. Best is trial 32 with value: 3.170956504095551.\n"
          ]
        },
        {
          "name": "stderr",
          "output_type": "stream",
          "text": [
            "[I 2023-12-23 10:35:06,021] Trial 39 finished with value: 3.17102678135284 and parameters: {'max_iter': 5043, 'tol': 0.00018053829084919556, 'l1_ratio': 0.6328545683601836}. Best is trial 32 with value: 3.170956504095551.\n",
            "[I 2023-12-23 10:35:06,062] Trial 40 finished with value: 3.18043977359492 and parameters: {'max_iter': 1923, 'tol': 0.0005227426132665749, 'l1_ratio': 0.2452106194420947}. Best is trial 32 with value: 3.170956504095551.\n",
            "[I 2023-12-23 10:35:06,102] Trial 41 finished with value: 3.1709727169843234 and parameters: {'max_iter': 1559, 'tol': 0.00037577565811130234, 'l1_ratio': 0.8075148762888843}. Best is trial 32 with value: 3.170956504095551.\n",
            "[I 2023-12-23 10:35:06,182] Trial 42 finished with value: 3.1709572306147122 and parameters: {'max_iter': 645, 'tol': 0.00024456565061067566, 'l1_ratio': 0.8575494190808525}. Best is trial 32 with value: 3.170956504095551.\n",
            "[I 2023-12-23 10:35:06,224] Trial 43 finished with value: 3.1723148164497905 and parameters: {'max_iter': 643, 'tol': 0.00011265683117628419, 'l1_ratio': 0.8651941216838344}. Best is trial 32 with value: 3.170956504095551.\n",
            "[I 2023-12-23 10:35:06,255] Trial 44 finished with value: 3.1709844827731324 and parameters: {'max_iter': 166, 'tol': 0.0002540499590942582, 'l1_ratio': 0.7695023463347896}. Best is trial 32 with value: 3.170956504095551.\n",
            "[I 2023-12-23 10:35:06,284] Trial 45 finished with value: 3.1709946825094955 and parameters: {'max_iter': 7424, 'tol': 0.00017979821012802536, 'l1_ratio': 0.7365502601255678}. Best is trial 32 with value: 3.170956504095551.\n",
            "[I 2023-12-23 10:35:06,322] Trial 46 finished with value: 3.1821343373903206 and parameters: {'max_iter': 4023, 'tol': 0.001232989482557645, 'l1_ratio': 0.2941591237187844}. Best is trial 32 with value: 3.170956504095551.\n",
            "[I 2023-12-23 10:35:06,353] Trial 47 finished with value: 3.1819564616805067 and parameters: {'max_iter': 1101, 'tol': 0.0007007362978653513, 'l1_ratio': 0.8593958520797245}. Best is trial 32 with value: 3.170956504095551.\n",
            "[I 2023-12-23 10:35:06,386] Trial 48 finished with value: 3.172304284396489 and parameters: {'max_iter': 505, 'tol': 4.2982983777428325e-05, 'l1_ratio': 0.899083746280847}. Best is trial 32 with value: 3.170956504095551.\n",
            "[I 2023-12-23 10:35:06,418] Trial 49 finished with value: 3.1724570925010913 and parameters: {'max_iter': 2238, 'tol': 2.1061693989550824e-05, 'l1_ratio': 0.4074695205226165}. Best is trial 32 with value: 3.170956504095551.\n"
          ]
        },
        {
          "name": "stdout",
          "output_type": "stream",
          "text": [
            "MSE on test data: 3.170956504095551\n",
            "MAE on test data: 1.4621712181033442\n",
            "Best hyperparameters: {'max_iter': 758, 'tol': 0.00033690410292441434, 'l1_ratio': 0.8598967594855244}\n"
          ]
        }
      ],
      "source": [
        "X = df.drop(['sales', 'Unnamed: 0'], axis=1)\n",
        "y = df['sales']\n",
        "\n",
        "X_train, X_test, y_train, y_test = train_test_split(X, y, test_size=0.2, random_state=42)\n",
        "\n",
        "scaler = StandardScaler()\n",
        "X_train_scaled = scaler.fit_transform(X_train)\n",
        "X_test_scaled = scaler.transform(X_test)\n",
        "\n",
        "def objective(trial):\n",
        "    # Define the hyperparameters to tune via Optuna\n",
        "    max_iter = trial.suggest_int('max_iter', 100, 10000)\n",
        "    tol = trial.suggest_float('tol', 1e-5, 1e-1, log=True)  # Updated method here\n",
        "    l1_ratio = trial.suggest_float('l1_ratio', 0.1, 0.9)  # Assuming this was updated earlier\n",
        "    \n",
        "    # Create an instance of the SGDRegressor with the current hyperparameters\n",
        "    sgd_reg = SGDRegressor(\n",
        "        penalty='elasticnet',\n",
        "        max_iter=max_iter,\n",
        "        tol=tol,\n",
        "        l1_ratio=l1_ratio,\n",
        "        random_state=42,\n",
        "    )\n",
        "    \n",
        "    # Fit the SGDRegressor to the scaled training data\n",
        "    sgd_reg.fit(X_train_scaled, y_train)\n",
        "    \n",
        "    # Make predictions on the scaled testing data\n",
        "    y_pred = sgd_reg.predict(X_test_scaled)\n",
        "    \n",
        "    # Calculate MSE on test data\n",
        "    mse = mean_squared_error(y_test, y_pred)\n",
        "    \n",
        "    return mse\n",
        "\n",
        "# Create a study object and specify the direction is 'minimize'.\n",
        "study = optuna.create_study(direction='minimize')\n",
        "\n",
        "# Optimize the study, the objective function is passed in as the first argument.\n",
        "study.optimize(objective, n_trials=50)  # You can specify the number of trials\n",
        "\n",
        "# Extract the best estimator\n",
        "best_params = study.best_params\n",
        "best_sgd_reg = SGDRegressor(\n",
        "    penalty='elasticnet',\n",
        "    max_iter=best_params['max_iter'],\n",
        "    tol=best_params['tol'],\n",
        "    l1_ratio=best_params['l1_ratio'],\n",
        "    random_state=42,\n",
        ")\n",
        "best_sgd_reg.fit(X_train_scaled, y_train)\n",
        "\n",
        "# Make predictions with the best parameters\n",
        "y_pred = best_sgd_reg.predict(X_test_scaled)\n",
        "\n",
        "# Calculate MSE and MAE on test data\n",
        "mse = mean_squared_error(y_test, y_pred)\n",
        "mae = mean_absolute_error(y_test, y_pred)\n",
        "\n",
        "print(f\"MSE on test data: {mse}\")\n",
        "print(f\"MAE on test data: {mae}\")\n",
        "\n",
        "# Print best hyperparameters\n",
        "print(\"Best hyperparameters:\", best_params)"
      ]
    },
    {
      "cell_type": "markdown",
      "metadata": {},
      "source": [
        "### Вывод и сравнение методов"
      ]
    },
    {
      "cell_type": "markdown",
      "metadata": {},
      "source": [
        "Подбор гиперпараметров и использование `SGDRegressor` могут дать лучшие результаты по сравнению с самописной функцией стохастического градиентного спуска (SGD) по нескольким причинам:\n",
        "\n",
        "Оптимизация гиперпараметров: `SGDRegressor` из библиотеки `scikit-learn` позволяет настраивать множество гиперпараметров (например, скорость обучения, регуляризацию, размер мини-батча и т.д.), что может значительно улучшить производительность модели. В то время как в самописной функции параметры часто задаются статически и требуют ручной настройки.\n",
        "\n",
        "`Эффективность реализации`: `SGDRegressor` оптимизирован для высокой производительности на больших наборах данных и может автоматически использовать оптимизации, такие как векторизация и многопоточность.\n",
        "\n",
        "`Регуляризация`: В `SGDRegressor` включены различные виды регуляризации (L1, L2, ElasticNet), которые помогают контролировать переобучение модели, в то время как в самописном коде их нужно реализовывать отдельно.\n",
        "\n",
        "`Устойчивость к численным ошибкам`: `SGDRegressor` реализует механизмы для предотвращения численных ошибок (например, оптимизацию скорости обучения), что может быть не рассмотрено в самописной реализации.\n",
        "\n",
        "`Обработка больших данных`: `SGDRegressor` более эффективно работает с большими объемами данных благодаря частичному обучению, при котором данные подаются в модель порциями.\n",
        "\n",
        "Интерпретации `SGDRegressor` через MAE (Mean Absolute Error) и MSE (Mean Squared Error):\n",
        "\n",
        "`MAE (Mean Absolute Error)`: Это средняя абсолютная ошибка между предсказанными и истинными значениями. Она менее чувствительна к выбросам и дает более стабильную оценку производительности модели, но не подчеркивает большие ошибки.\n",
        "\n",
        "`MSE (Mean Squared Error)`: Это средняя квадратичная ошибка. Она более чувствительна к выбросам, так как штрафует за большие ошибки сильнее, чем за малые. Это может быть полезно в задачах, где важно избегать больших ошибок.\n",
        "\n",
        "`SGDRegressor` поддерживает различные функции потерь, включая squared_loss (которая соответствует MSE) и epsilon_insensitive (которая при настройке параметров может приближаться к MAE). Выбор функции потерь зависит от конкретной задачи и желаемой чувствительности к выбросам. При использовании SGDRegressor, можно интерпретировать его эффективность, анализируя значения MAE и MSE следующим образом:\n",
        "\n",
        "MAE дает представление о среднем абсолютном отклонении предсказаний от истинных значений. Низкое значение MAE указывает на то, что в среднем предсказания модели близки к фактическим значениям, что хорошо для многих практических приложений. Однако, MAE может не полностью отражать качество модели, если в данных присутствуют выбросы.\n",
        "\n",
        "MSE дает представление о среднем квадрате ошибок предсказаний. Поскольку ошибки возводятся в квадрат перед усреднением, большие ошибки имеют более весомый вклад в конечный результат. Это делает MSE полезной метрикой, когда важно штрафовать модель за большие ошибки. Низкое значение MSE указывает на то, что модель не только предсказывает точные значения в среднем, но и избегает больших ошибок, что может быть критически важно в некоторых задачах.\n",
        "\n",
        "Выбор между MAE и MSE зависит от конкретной задачи и от того, насколько серьезно нужно относиться к большим ошибкам по сравнению с маленькими. Некоторые задачи могут требовать использования других метрик, таких как RMSE (корень из среднеквадратичной ошибки), которая представляет собой корень из MSE и имеет те же единицы измерения, что и исходные данные.\n",
        "\n",
        "SGDRegressor в scikit-learn позволяет легко вычислить MAE и MSE с помощью функций `mean_absolute_error` и `mean_squared_error` соответственно."
      ]
    }
  ],
  "metadata": {
    "colab": {
      "collapsed_sections": [],
      "name": "Практика_Оптимизация.ipynb",
      "provenance": [],
      "toc_visible": true
    },
    "kernelspec": {
      "display_name": "Python 3 (ipykernel)",
      "language": "python",
      "name": "python3"
    },
    "language_info": {
      "codemirror_mode": {
        "name": "ipython",
        "version": 3
      },
      "file_extension": ".py",
      "mimetype": "text/x-python",
      "name": "python",
      "nbconvert_exporter": "python",
      "pygments_lexer": "ipython3",
      "version": "3.11.5"
    }
  },
  "nbformat": 4,
  "nbformat_minor": 0
}
